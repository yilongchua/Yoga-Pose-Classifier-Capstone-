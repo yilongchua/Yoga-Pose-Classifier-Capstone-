{
 "cells": [
  {
   "cell_type": "markdown",
   "metadata": {
    "colab_type": "text",
    "id": "7nZXsryMIZMH"
   },
   "source": [
    "Import all relevant libraries"
   ]
  },
  {
   "cell_type": "code",
   "execution_count": 0,
   "metadata": {
    "colab": {
     "base_uri": "https://localhost:8080/",
     "height": 77
    },
    "colab_type": "code",
    "executionInfo": {
     "elapsed": 6141,
     "status": "ok",
     "timestamp": 1574597987637,
     "user": {
      "displayName": "kestrel ryan",
      "photoUrl": "",
      "userId": "06203787478053562216"
     },
     "user_tz": -480
    },
    "id": "iAQp3RpmIZMI",
    "outputId": "e35bbaf0-663f-41f3-96de-4bf6bdf7392d"
   },
   "outputs": [
    {
     "name": "stderr",
     "output_type": "stream",
     "text": [
      "Using TensorFlow backend.\n"
     ]
    },
    {
     "data": {
      "text/html": [
       "<p style=\"color: red;\">\n",
       "The default version of TensorFlow in Colab will soon switch to TensorFlow 2.x.<br>\n",
       "We recommend you <a href=\"https://www.tensorflow.org/guide/migrate\" target=\"_blank\">upgrade</a> now \n",
       "or ensure your notebook will continue to use TensorFlow 1.x via the <code>%tensorflow_version 1.x</code> magic:\n",
       "<a href=\"https://colab.research.google.com/notebooks/tensorflow_version.ipynb\" target=\"_blank\">more info</a>.</p>\n"
      ],
      "text/plain": [
       "<IPython.core.display.HTML object>"
      ]
     },
     "metadata": {
      "tags": []
     },
     "output_type": "display_data"
    }
   ],
   "source": [
    "import pandas as pd\n",
    "import numpy as np\n",
    "import cv2\n",
    "import math\n",
    "import matplotlib.pyplot as plt\n",
    "%matplotlib inline\n",
    "\n",
    "\n",
    "#directories\n",
    "import os\n",
    "from os import listdir\n",
    "from os.path import isfile, join\n",
    "\n",
    "import itertools\n",
    "from skimage import color\n",
    "from skimage import io\n",
    "from sklearn.model_selection import train_test_split\n",
    "from skimage import img_as_ubyte\n",
    "\\\n",
    "import skimage.transform\n",
    "from sklearn.metrics import confusion_matrix\n",
    "\n",
    "import keras\n",
    "from keras.models import Model\n",
    "from keras.models import Sequential\n",
    "from keras.models import model_from_json\n",
    "from keras.models import Sequential\n",
    "from keras.layers import Activation\n",
    "from keras.layers.core import Dense , Flatten\n",
    "from keras.optimizers import Adam\n",
    "from keras.metrics import categorical_crossentropy\n",
    "from keras.preprocessing.image import ImageDataGenerator\n",
    "from keras.layers.normalization import BatchNormalization\n",
    "from keras.layers.convolutional import *\n",
    "from keras.layers import GlobalAveragePooling2D\n",
    "from keras.callbacks import EarlyStopping\n",
    "from keras.layers import Conv2D ,Dropout\n",
    "# from keras.layers import \n",
    "\n",
    "# for saving model\n",
    "from pydrive.auth import GoogleAuth\n",
    "from pydrive.drive import GoogleDrive \n",
    "from google.colab import auth \n",
    "from oauth2client.client import GoogleCredentials\n",
    "auth.authenticate_user()\n",
    "gauth = GoogleAuth()\n",
    "gauth.credentials = GoogleCredentials.get_application_default()                       \n",
    "drive = GoogleDrive(gauth)"
   ]
  },
  {
   "cell_type": "code",
   "execution_count": 0,
   "metadata": {
    "colab": {},
    "colab_type": "code",
    "id": "9lYW4o1kIZMV"
   },
   "outputs": [],
   "source": [
    "classes = ['ardhabaddhapadmottanasana','ekapadabakasana','natarajasana',\n",
    "           'parivrttaardhachandrasana','parivrttasuryayantrasana','salambasirsasana',\n",
    "           'svargadvijasana','tittibihasana','vrishchikasana','vyaghrasana']"
   ]
  },
  {
   "cell_type": "markdown",
   "metadata": {
    "colab_type": "text",
    "id": "yfcpVYuTIZMY"
   },
   "source": [
    "Initiate batch import"
   ]
  },
  {
   "cell_type": "code",
   "execution_count": 0,
   "metadata": {
    "colab": {
     "base_uri": "https://localhost:8080/",
     "height": 33
    },
    "colab_type": "code",
    "executionInfo": {
     "elapsed": 1431,
     "status": "ok",
     "timestamp": 1574597995062,
     "user": {
      "displayName": "kestrel ryan",
      "photoUrl": "",
      "userId": "06203787478053562216"
     },
     "user_tz": -480
    },
    "id": "hAHFuwIWIlCK",
    "outputId": "8c6775cb-8a0c-43ce-f2bc-ec64ee56dac6"
   },
   "outputs": [
    {
     "name": "stdout",
     "output_type": "stream",
     "text": [
      "Drive already mounted at /content/drive; to attempt to forcibly remount, call drive.mount(\"/content/drive\", force_remount=True).\n"
     ]
    }
   ],
   "source": [
    "from google.colab import drive\n",
    "drive.mount('/content/drive')"
   ]
  },
  {
   "cell_type": "code",
   "execution_count": 0,
   "metadata": {
    "colab": {},
    "colab_type": "code",
    "id": "djMenKYRIZMZ"
   },
   "outputs": [],
   "source": [
    "drive_path = '/content/drive/My Drive/capstone/'\n",
    "cat_1_folder  = drive_path + '500_ardhabaddhapadmottanasana/'\n",
    "cat_2_folder  = drive_path + '500_ekapadabakasana/'\n",
    "cat_3_folder  = drive_path + '500_natarajasana/'\n",
    "cat_4_folder  = drive_path + '500_parivrttaardhachandrasana/'\n",
    "cat_5_folder  = drive_path + '500_parivrttasuryayantrasana/'\n",
    "cat_6_folder  = drive_path + '500_salambasirsasana/'\n",
    "cat_7_folder  = drive_path + '500_svargadvijasana/'\n",
    "cat_8_folder  = drive_path + '500_tittibihasana/'\n",
    "cat_9_folder  = drive_path + '500_vrishchikasana/'\n",
    "cat_10_folder = drive_path + '500_vyaghrasana/'"
   ]
  },
  {
   "cell_type": "code",
   "execution_count": 0,
   "metadata": {
    "colab": {},
    "colab_type": "code",
    "id": "jwj5anFjIZMe"
   },
   "outputs": [],
   "source": [
    "folders_path = [cat_1_folder,cat_2_folder,cat_3_folder, \n",
    "                cat_4_folder, cat_5_folder, cat_6_folder, \n",
    "                cat_7_folder, cat_8_folder, cat_9_folder, cat_10_folder ]"
   ]
  },
  {
   "cell_type": "code",
   "execution_count": 0,
   "metadata": {
    "colab": {
     "base_uri": "https://localhost:8080/",
     "height": 180
    },
    "colab_type": "code",
    "executionInfo": {
     "elapsed": 1962,
     "status": "ok",
     "timestamp": 1574597998058,
     "user": {
      "displayName": "kestrel ryan",
      "photoUrl": "",
      "userId": "06203787478053562216"
     },
     "user_tz": -480
    },
    "id": "KmXY8qeAIZMg",
    "outputId": "0f161896-83bc-4609-9dd0-344522622483"
   },
   "outputs": [
    {
     "name": "stdout",
     "output_type": "stream",
     "text": [
      "1 ,numer of images for ardhabaddhapadmottanasana : 553\n",
      "2 ,numer of images for ekapadabakasana : 560\n",
      "3 ,numer of images for natarajasana : 570\n",
      "4 ,numer of images for parivrttaardhachandrasana : 600\n",
      "5 ,numer of images for parivrttasuryayantrasana : 550\n",
      "6 ,numer of images for salambasirsasana : 580\n",
      "7 ,numer of images for svargadvijasana : 574\n",
      "8 ,numer of images for tittibihasana : 608\n",
      "9 ,numer of images for vrishchikasana : 665\n",
      "10 ,numer of images for vyaghrasana : 560\n"
     ]
    }
   ],
   "source": [
    "all_images =[]\n",
    "for i,path in enumerate(folders_path):\n",
    "  ls = []\n",
    "  for f in listdir(path):\n",
    "    if isfile(join(path, f)):\n",
    "      if 'DS' not in f:\n",
    "        if '._' not in f:\n",
    "          ls.append([path+f,f,classes[i]])\n",
    "    # ls = [[path+f,f,classes[i]] for f in listdir(path) if isfile(join(path, f)) if ('DS' or '._' ) not in f ]\n",
    "  print('{} ,numer of images for {} : {}'.format(i+1,classes[i],len(ls)))\n",
    "  all_images.extend(ls)\n"
   ]
  },
  {
   "cell_type": "code",
   "execution_count": 0,
   "metadata": {
    "colab": {
     "base_uri": "https://localhost:8080/",
     "height": 207
    },
    "colab_type": "code",
    "executionInfo": {
     "elapsed": 1280,
     "status": "ok",
     "timestamp": 1574598000140,
     "user": {
      "displayName": "kestrel ryan",
      "photoUrl": "",
      "userId": "06203787478053562216"
     },
     "user_tz": -480
    },
    "id": "tI-Vk6jeIZMm",
    "outputId": "d0904ab4-2e27-4a6f-f925-5cd099d92b1e"
   },
   "outputs": [
    {
     "name": "stdout",
     "output_type": "stream",
     "text": [
      "(5820, 3)\n"
     ]
    },
    {
     "data": {
      "text/html": [
       "<div>\n",
       "<style scoped>\n",
       "    .dataframe tbody tr th:only-of-type {\n",
       "        vertical-align: middle;\n",
       "    }\n",
       "\n",
       "    .dataframe tbody tr th {\n",
       "        vertical-align: top;\n",
       "    }\n",
       "\n",
       "    .dataframe thead th {\n",
       "        text-align: right;\n",
       "    }\n",
       "</style>\n",
       "<table border=\"1\" class=\"dataframe\">\n",
       "  <thead>\n",
       "    <tr style=\"text-align: right;\">\n",
       "      <th></th>\n",
       "      <th>image_path</th>\n",
       "      <th>image_name</th>\n",
       "      <th>category</th>\n",
       "    </tr>\n",
       "  </thead>\n",
       "  <tbody>\n",
       "    <tr>\n",
       "      <th>0</th>\n",
       "      <td>/content/drive/My Drive/capstone/500_ardhabadd...</td>\n",
       "      <td>ardhabaddhapadmottanasana_1009.jpg</td>\n",
       "      <td>ardhabaddhapadmottanasana</td>\n",
       "    </tr>\n",
       "    <tr>\n",
       "      <th>1</th>\n",
       "      <td>/content/drive/My Drive/capstone/500_ardhabadd...</td>\n",
       "      <td>ardhabaddhapadmottanasana_1001.jpg</td>\n",
       "      <td>ardhabaddhapadmottanasana</td>\n",
       "    </tr>\n",
       "    <tr>\n",
       "      <th>2</th>\n",
       "      <td>/content/drive/My Drive/capstone/500_ardhabadd...</td>\n",
       "      <td>ardhabaddhapadmottanasana_1004.jpg</td>\n",
       "      <td>ardhabaddhapadmottanasana</td>\n",
       "    </tr>\n",
       "    <tr>\n",
       "      <th>3</th>\n",
       "      <td>/content/drive/My Drive/capstone/500_ardhabadd...</td>\n",
       "      <td>ardhabaddhapadmottanasana_1001_2.jpg</td>\n",
       "      <td>ardhabaddhapadmottanasana</td>\n",
       "    </tr>\n",
       "    <tr>\n",
       "      <th>4</th>\n",
       "      <td>/content/drive/My Drive/capstone/500_ardhabadd...</td>\n",
       "      <td>ardhabaddhapadmottanasana_1005.jpg</td>\n",
       "      <td>ardhabaddhapadmottanasana</td>\n",
       "    </tr>\n",
       "  </tbody>\n",
       "</table>\n",
       "</div>"
      ],
      "text/plain": [
       "                                          image_path  ...                   category\n",
       "0  /content/drive/My Drive/capstone/500_ardhabadd...  ...  ardhabaddhapadmottanasana\n",
       "1  /content/drive/My Drive/capstone/500_ardhabadd...  ...  ardhabaddhapadmottanasana\n",
       "2  /content/drive/My Drive/capstone/500_ardhabadd...  ...  ardhabaddhapadmottanasana\n",
       "3  /content/drive/My Drive/capstone/500_ardhabadd...  ...  ardhabaddhapadmottanasana\n",
       "4  /content/drive/My Drive/capstone/500_ardhabadd...  ...  ardhabaddhapadmottanasana\n",
       "\n",
       "[5 rows x 3 columns]"
      ]
     },
     "execution_count": 7,
     "metadata": {
      "tags": []
     },
     "output_type": "execute_result"
    }
   ],
   "source": [
    "df =pd.DataFrame(all_images,columns=['image_path','image_name','category'])\n",
    "print(df.shape)\n",
    "df.head()"
   ]
  },
  {
   "cell_type": "code",
   "execution_count": 0,
   "metadata": {
    "colab": {},
    "colab_type": "code",
    "id": "v3BPb6HFIZMo"
   },
   "outputs": [],
   "source": [
    "from sklearn.model_selection import train_test_split\n",
    "train, tempt = train_test_split(df, train_size=0.6, shuffle = True, stratify = df.category)\n",
    "valid, test  = train_test_split(tempt, test_size=0.5, shuffle = True, stratify = tempt.category)"
   ]
  },
  {
   "cell_type": "code",
   "execution_count": 0,
   "metadata": {
    "colab": {
     "base_uri": "https://localhost:8080/",
     "height": 33
    },
    "colab_type": "code",
    "executionInfo": {
     "elapsed": 831,
     "status": "ok",
     "timestamp": 1574598000142,
     "user": {
      "displayName": "kestrel ryan",
      "photoUrl": "",
      "userId": "06203787478053562216"
     },
     "user_tz": -480
    },
    "id": "DjcvrxZJIZM1",
    "outputId": "7350c619-bd0c-4b73-e3bd-4a9d40ed5581"
   },
   "outputs": [
    {
     "data": {
      "text/plain": [
       "(110, 73, 73)"
      ]
     },
     "execution_count": 9,
     "metadata": {
      "tags": []
     },
     "output_type": "execute_result"
    }
   ],
   "source": [
    "size = (224,224)\n",
    "train_batch_size = 32\n",
    "batch_size =16\n",
    "epoch = 500\n",
    "\n",
    "train_steps = math.ceil(train.shape[0]/train_batch_size)\n",
    "valid_steps = math.ceil(valid.shape[0]/batch_size)\n",
    "test_steps  = math.ceil(test.shape[0]/batch_size)\n",
    "train_steps,valid_steps,test_steps"
   ]
  },
  {
   "cell_type": "code",
   "execution_count": 0,
   "metadata": {
    "colab": {},
    "colab_type": "code",
    "id": "_ByB015rzWqk"
   },
   "outputs": [],
   "source": [
    "# we create two instances with the same arguments\n",
    "data_gen_args = dict(rescale=1./255,\n",
    "                    #  featurewise_center=True,\n",
    "                    #  featurewise_std_normalization=True,\n",
    "                     rotation_range=90,\n",
    "                     width_shift_range=0.1,\n",
    "                     height_shift_range=0.1,\n",
    "                     shear_range = 0.1,\n",
    "                     horizontal_flip = True,\n",
    "                     vertical_flip = True,\n",
    "                     zoom_range=0.2)\n",
    "dat_gen_args_test = dict(rescale=1./255)"
   ]
  },
  {
   "cell_type": "code",
   "execution_count": 0,
   "metadata": {
    "colab": {
     "base_uri": "https://localhost:8080/",
     "height": 66
    },
    "colab_type": "code",
    "executionInfo": {
     "elapsed": 2155,
     "status": "ok",
     "timestamp": 1574598003803,
     "user": {
      "displayName": "kestrel ryan",
      "photoUrl": "",
      "userId": "06203787478053562216"
     },
     "user_tz": -480
    },
    "id": "wmBCAzUMIZM4",
    "outputId": "d29bcf2e-999d-4f95-83cf-a57ca627f7a0",
    "scrolled": false
   },
   "outputs": [
    {
     "name": "stdout",
     "output_type": "stream",
     "text": [
      "Found 3492 validated image filenames belonging to 10 classes.\n",
      "Found 1164 validated image filenames belonging to 10 classes.\n",
      "Found 1164 validated image filenames belonging to 10 classes.\n"
     ]
    }
   ],
   "source": [
    "train_generator = ImageDataGenerator(**data_gen_args).flow_from_dataframe(\n",
    "    dataframe     = train,\n",
    "    directory     = None,\n",
    "    x_col         = 'image_path',\n",
    "    y_col         = 'category',\n",
    "    target_size   = size,\n",
    "    color_mode    = 'rgb',\n",
    "    classes       = classes,\n",
    "    class_mode    = \"categorical\",\n",
    "    batch_size    = train_batch_size,\n",
    "    shuffle       = True,\n",
    "    seed          = 27,\n",
    "    save_format   = 'jpg',\n",
    "    interpolation = \"bicubic\", \n",
    "    validate_filenames = True)\n",
    "\n",
    "val_generator = ImageDataGenerator(**dat_gen_args_test).flow_from_dataframe(\n",
    "    dataframe     = valid,\n",
    "    directory     = None,\n",
    "    x_col         = 'image_path',\n",
    "    y_col         = 'category',\n",
    "    target_size   = size,\n",
    "    color_mode    = 'rgb',\n",
    "    classes       = classes,\n",
    "    class_mode    = \"categorical\",\n",
    "    batch_size    = batch_size,\n",
    "    shuffle       = True,\n",
    "    seed          = 27,\n",
    "    save_format   = 'jpg',\n",
    "    interpolation = \"bicubic\", \n",
    "    validate_filenames = True)\n",
    "\n",
    "test_generator = ImageDataGenerator(**dat_gen_args_test).flow_from_dataframe(\n",
    "    dataframe     = test,\n",
    "    directory     = None,\n",
    "    x_col         = 'image_path',\n",
    "    y_col         = 'category',\n",
    "    target_size   = size,\n",
    "    color_mode    = 'rgb',\n",
    "    classes       = classes,\n",
    "    class_mode    = \"categorical\",\n",
    "    batch_size    = batch_size,\n",
    "    shuffle       = False,\n",
    "    seed          = 27,\n",
    "    save_format   = 'jpg',\n",
    "    interpolation = \"bicubic\", \n",
    "    validate_filenames = True)\n"
   ]
  },
  {
   "cell_type": "markdown",
   "metadata": {
    "colab_type": "text",
    "id": "BORwsskFIZNi"
   },
   "source": [
    "### Use pretrained models"
   ]
  },
  {
   "cell_type": "code",
   "execution_count": 0,
   "metadata": {
    "colab": {
     "base_uri": "https://localhost:8080/",
     "height": 460
    },
    "colab_type": "code",
    "executionInfo": {
     "elapsed": 12061,
     "status": "ok",
     "timestamp": 1574598016395,
     "user": {
      "displayName": "kestrel ryan",
      "photoUrl": "",
      "userId": "06203787478053562216"
     },
     "user_tz": -480
    },
    "id": "9aN95mMRIZNp",
    "outputId": "215692e7-873a-418f-9263-2d4b5f347a6c"
   },
   "outputs": [
    {
     "name": "stdout",
     "output_type": "stream",
     "text": [
      "WARNING:tensorflow:From /usr/local/lib/python3.6/dist-packages/keras/backend/tensorflow_backend.py:66: The name tf.get_default_graph is deprecated. Please use tf.compat.v1.get_default_graph instead.\n",
      "\n",
      "WARNING:tensorflow:From /usr/local/lib/python3.6/dist-packages/keras/backend/tensorflow_backend.py:541: The name tf.placeholder is deprecated. Please use tf.compat.v1.placeholder instead.\n",
      "\n",
      "WARNING:tensorflow:From /usr/local/lib/python3.6/dist-packages/keras/backend/tensorflow_backend.py:4432: The name tf.random_uniform is deprecated. Please use tf.random.uniform instead.\n",
      "\n",
      "WARNING:tensorflow:From /usr/local/lib/python3.6/dist-packages/keras/backend/tensorflow_backend.py:190: The name tf.get_default_session is deprecated. Please use tf.compat.v1.get_default_session instead.\n",
      "\n",
      "WARNING:tensorflow:From /usr/local/lib/python3.6/dist-packages/keras/backend/tensorflow_backend.py:197: The name tf.ConfigProto is deprecated. Please use tf.compat.v1.ConfigProto instead.\n",
      "\n",
      "WARNING:tensorflow:From /usr/local/lib/python3.6/dist-packages/keras/backend/tensorflow_backend.py:203: The name tf.Session is deprecated. Please use tf.compat.v1.Session instead.\n",
      "\n",
      "WARNING:tensorflow:From /usr/local/lib/python3.6/dist-packages/keras/backend/tensorflow_backend.py:207: The name tf.global_variables is deprecated. Please use tf.compat.v1.global_variables instead.\n",
      "\n",
      "WARNING:tensorflow:From /usr/local/lib/python3.6/dist-packages/keras/backend/tensorflow_backend.py:216: The name tf.is_variable_initialized is deprecated. Please use tf.compat.v1.is_variable_initialized instead.\n",
      "\n",
      "WARNING:tensorflow:From /usr/local/lib/python3.6/dist-packages/keras/backend/tensorflow_backend.py:223: The name tf.variables_initializer is deprecated. Please use tf.compat.v1.variables_initializer instead.\n",
      "\n",
      "WARNING:tensorflow:From /usr/local/lib/python3.6/dist-packages/keras/backend/tensorflow_backend.py:2041: The name tf.nn.fused_batch_norm is deprecated. Please use tf.compat.v1.nn.fused_batch_norm instead.\n",
      "\n",
      "WARNING:tensorflow:From /usr/local/lib/python3.6/dist-packages/keras/backend/tensorflow_backend.py:148: The name tf.placeholder_with_default is deprecated. Please use tf.compat.v1.placeholder_with_default instead.\n",
      "\n",
      "WARNING:tensorflow:From /usr/local/lib/python3.6/dist-packages/keras/backend/tensorflow_backend.py:4267: The name tf.nn.max_pool is deprecated. Please use tf.nn.max_pool2d instead.\n",
      "\n",
      "WARNING:tensorflow:From /usr/local/lib/python3.6/dist-packages/keras/backend/tensorflow_backend.py:4271: The name tf.nn.avg_pool is deprecated. Please use tf.nn.avg_pool2d instead.\n",
      "\n"
     ]
    }
   ],
   "source": [
    "InceptionV3_model =keras.applications.inception_v3.InceptionV3(include_top= False, weights='imagenet', input_tensor=None, \n",
    "                                            input_shape=(224,224,3), pooling='avg', classes=10)\n",
    "\n",
    "# InceptionV3_model.summary()"
   ]
  },
  {
   "cell_type": "code",
   "execution_count": 0,
   "metadata": {
    "colab": {},
    "colab_type": "code",
    "id": "j6WDwLFsUl6D"
   },
   "outputs": [],
   "source": [
    "def plot_confusion_matrix(y_true, y_pred,cm):\n",
    "    \n",
    "    np.set_printoptions(precision=2)\n",
    "\n",
    "    # Only use the labels that appear in the data\n",
    "    # classes = classes[unique_labels(y_true, y_pred)]\n",
    "\n",
    "    fig, ax = plt.subplots()\n",
    "    im = ax.imshow(cm, interpolation='nearest')\n",
    "    ax.figure.colorbar(im, ax=ax)\n",
    "    # We want to show all ticks...\n",
    "    ax.set(xticks=np.arange(cm.shape[1]),\n",
    "           yticks=np.arange(cm.shape[0]),\n",
    "           # ... and label them with the respective list entries\n",
    "           xticklabels=classes, yticklabels=classes,\n",
    "           ylabel='True label',\n",
    "           xlabel='Predicted label')\n",
    "\n",
    "    # Rotate the tick labels and set their alignment.\n",
    "    plt.setp(ax.get_xticklabels(), rotation=45, ha=\"right\",\n",
    "             rotation_mode=\"anchor\")\n",
    "\n",
    "    # Loop over data dimensions and create text annotations.\n",
    "    fmt = '.2f' \n",
    "    thresh = cm.max() / 2.\n",
    "    for i in range(cm.shape[0]):\n",
    "        for j in range(cm.shape[1]):\n",
    "            ax.text(j, i, format(cm[i, j], fmt),\n",
    "                    ha=\"center\", va=\"center\",\n",
    "                    color=\"white\" if cm[i, j] > thresh else \"black\")\n",
    "    fig.tight_layout()\n",
    "    plt.show()\n",
    "    return ax\n",
    "\n",
    "\n"
   ]
  },
  {
   "cell_type": "code",
   "execution_count": 0,
   "metadata": {
    "colab": {
     "base_uri": "https://localhost:8080/",
     "height": 1000
    },
    "colab_type": "code",
    "executionInfo": {
     "elapsed": 11996210,
     "status": "ok",
     "timestamp": 1574610037911,
     "user": {
      "displayName": "kestrel ryan",
      "photoUrl": "",
      "userId": "06203787478053562216"
     },
     "user_tz": -480
    },
    "id": "YDuM-epcKdxF",
    "outputId": "1052d6b0-c155-4b6c-c160-3ff87f92d33a"
   },
   "outputs": [
    {
     "name": "stdout",
     "output_type": "stream",
     "text": [
      "WARNING:tensorflow:From /usr/local/lib/python3.6/dist-packages/keras/optimizers.py:793: The name tf.train.Optimizer is deprecated. Please use tf.compat.v1.train.Optimizer instead.\n",
      "\n",
      "WARNING:tensorflow:From /usr/local/lib/python3.6/dist-packages/keras/backend/tensorflow_backend.py:3576: The name tf.log is deprecated. Please use tf.math.log instead.\n",
      "\n",
      "WARNING:tensorflow:From /usr/local/lib/python3.6/dist-packages/tensorflow_core/python/ops/math_grad.py:1424: where (from tensorflow.python.ops.array_ops) is deprecated and will be removed in a future version.\n",
      "Instructions for updating:\n",
      "Use tf.where in 2.0, which has the same broadcast rule as np.where\n",
      "WARNING:tensorflow:From /usr/local/lib/python3.6/dist-packages/keras/backend/tensorflow_backend.py:1033: The name tf.assign_add is deprecated. Please use tf.compat.v1.assign_add instead.\n",
      "\n",
      "WARNING:tensorflow:From /usr/local/lib/python3.6/dist-packages/keras/backend/tensorflow_backend.py:1020: The name tf.assign is deprecated. Please use tf.compat.v1.assign instead.\n",
      "\n",
      "Epoch 1/500\n",
      "110/110 [==============================] - 104s 947ms/step - loss: 2.2155 - acc: 0.1722 - val_loss: 5.6614 - val_acc: 0.1177\n",
      "Epoch 2/500\n",
      "110/110 [==============================] - 88s 799ms/step - loss: 2.0894 - acc: 0.2216 - val_loss: 2.6860 - val_acc: 0.2320\n",
      "Epoch 3/500\n",
      "110/110 [==============================] - 85s 777ms/step - loss: 1.9067 - acc: 0.3005 - val_loss: 2.4450 - val_acc: 0.2680\n",
      "Epoch 4/500\n",
      "110/110 [==============================] - 87s 787ms/step - loss: 1.7885 - acc: 0.3381 - val_loss: 2.2278 - val_acc: 0.2663\n",
      "Epoch 5/500\n",
      "110/110 [==============================] - 86s 780ms/step - loss: 1.5862 - acc: 0.4117 - val_loss: 1.9628 - val_acc: 0.3471\n",
      "Epoch 6/500\n",
      "110/110 [==============================] - 86s 782ms/step - loss: 1.5150 - acc: 0.4588 - val_loss: 2.5567 - val_acc: 0.3711\n",
      "Epoch 7/500\n",
      "110/110 [==============================] - 85s 777ms/step - loss: 1.3422 - acc: 0.5032 - val_loss: 1.3887 - val_acc: 0.5112\n",
      "Epoch 8/500\n",
      "110/110 [==============================] - 86s 784ms/step - loss: 1.2279 - acc: 0.5637 - val_loss: 1.4036 - val_acc: 0.5438\n",
      "Epoch 9/500\n",
      "110/110 [==============================] - 86s 784ms/step - loss: 1.1671 - acc: 0.6071 - val_loss: 1.2251 - val_acc: 0.6040\n",
      "Epoch 10/500\n",
      "110/110 [==============================] - 86s 785ms/step - loss: 1.1082 - acc: 0.6339 - val_loss: 1.4705 - val_acc: 0.5404\n",
      "Epoch 11/500\n",
      "110/110 [==============================] - 86s 783ms/step - loss: 1.0504 - acc: 0.6622 - val_loss: 1.4414 - val_acc: 0.5790\n",
      "Epoch 12/500\n",
      "110/110 [==============================] - 87s 787ms/step - loss: 0.9190 - acc: 0.7139 - val_loss: 0.9162 - val_acc: 0.7285\n",
      "Epoch 13/500\n",
      "110/110 [==============================] - 87s 792ms/step - loss: 0.8689 - acc: 0.7270 - val_loss: 0.9563 - val_acc: 0.7199\n",
      "Epoch 14/500\n",
      "110/110 [==============================] - 88s 801ms/step - loss: 0.8801 - acc: 0.7290 - val_loss: 0.9578 - val_acc: 0.7113\n",
      "Epoch 15/500\n",
      "110/110 [==============================] - 89s 808ms/step - loss: 0.7758 - acc: 0.7653 - val_loss: 1.0969 - val_acc: 0.6873\n",
      "Epoch 16/500\n",
      "110/110 [==============================] - 88s 802ms/step - loss: 0.7576 - acc: 0.7671 - val_loss: 0.7281 - val_acc: 0.7818\n",
      "Epoch 17/500\n",
      "110/110 [==============================] - 88s 796ms/step - loss: 0.6357 - acc: 0.8074 - val_loss: 1.0656 - val_acc: 0.6753\n",
      "Epoch 18/500\n",
      "110/110 [==============================] - 88s 798ms/step - loss: 0.6716 - acc: 0.7963 - val_loss: 0.7716 - val_acc: 0.7672\n",
      "Epoch 19/500\n",
      "110/110 [==============================] - 87s 793ms/step - loss: 0.6288 - acc: 0.8122 - val_loss: 0.7519 - val_acc: 0.7612\n",
      "Epoch 20/500\n",
      "110/110 [==============================] - 88s 802ms/step - loss: 0.5953 - acc: 0.8298 - val_loss: 0.8216 - val_acc: 0.7706\n",
      "Epoch 21/500\n",
      "110/110 [==============================] - 88s 800ms/step - loss: 0.5245 - acc: 0.8452 - val_loss: 0.4785 - val_acc: 0.8711\n",
      "Epoch 22/500\n",
      "110/110 [==============================] - 88s 804ms/step - loss: 0.5209 - acc: 0.8429 - val_loss: 0.4369 - val_acc: 0.8771\n",
      "Epoch 23/500\n",
      "110/110 [==============================] - 88s 801ms/step - loss: 0.4989 - acc: 0.8511 - val_loss: 0.5183 - val_acc: 0.8574\n",
      "Epoch 24/500\n",
      "110/110 [==============================] - 88s 803ms/step - loss: 0.4683 - acc: 0.8659 - val_loss: 0.8171 - val_acc: 0.7603\n",
      "Epoch 25/500\n",
      "110/110 [==============================] - 88s 801ms/step - loss: 0.5150 - acc: 0.8489 - val_loss: 0.6220 - val_acc: 0.8230\n",
      "Epoch 26/500\n",
      "110/110 [==============================] - 88s 802ms/step - loss: 0.4348 - acc: 0.8716 - val_loss: 0.6287 - val_acc: 0.8230\n",
      "Epoch 27/500\n",
      "110/110 [==============================] - 89s 813ms/step - loss: 0.4799 - acc: 0.8648 - val_loss: 0.4823 - val_acc: 0.8643\n",
      "Epoch 28/500\n",
      "110/110 [==============================] - 88s 802ms/step - loss: 0.4409 - acc: 0.8756 - val_loss: 0.4101 - val_acc: 0.8840\n",
      "Epoch 29/500\n",
      "110/110 [==============================] - 89s 806ms/step - loss: 0.3907 - acc: 0.8855 - val_loss: 0.4607 - val_acc: 0.8651\n",
      "Epoch 30/500\n",
      "110/110 [==============================] - 90s 815ms/step - loss: 0.3865 - acc: 0.8838 - val_loss: 0.8164 - val_acc: 0.7912\n",
      "Epoch 31/500\n",
      "110/110 [==============================] - 90s 821ms/step - loss: 0.6226 - acc: 0.8208 - val_loss: 1.0208 - val_acc: 0.7517\n",
      "Epoch 32/500\n",
      "110/110 [==============================] - 90s 817ms/step - loss: 0.4265 - acc: 0.8707 - val_loss: 0.4780 - val_acc: 0.8625\n",
      "Epoch 33/500\n",
      "110/110 [==============================] - 90s 816ms/step - loss: 0.3935 - acc: 0.8878 - val_loss: 0.4834 - val_acc: 0.8574\n",
      "Epoch 34/500\n",
      "110/110 [==============================] - 91s 829ms/step - loss: 0.3858 - acc: 0.8864 - val_loss: 0.5555 - val_acc: 0.8497\n",
      "Epoch 35/500\n",
      "110/110 [==============================] - 90s 817ms/step - loss: 0.3590 - acc: 0.8940 - val_loss: 0.4396 - val_acc: 0.8771\n",
      "Epoch 36/500\n",
      "110/110 [==============================] - 89s 810ms/step - loss: 0.3084 - acc: 0.9097 - val_loss: 0.4554 - val_acc: 0.8763\n",
      "Epoch 37/500\n",
      "110/110 [==============================] - 90s 814ms/step - loss: 0.3178 - acc: 0.9048 - val_loss: 0.3883 - val_acc: 0.8840\n",
      "Epoch 38/500\n",
      "110/110 [==============================] - 89s 813ms/step - loss: 0.3862 - acc: 0.8861 - val_loss: 0.4133 - val_acc: 0.8918\n",
      "Epoch 39/500\n",
      "110/110 [==============================] - 88s 801ms/step - loss: 0.3043 - acc: 0.9139 - val_loss: 0.3978 - val_acc: 0.8849\n",
      "Epoch 40/500\n",
      "110/110 [==============================] - 88s 804ms/step - loss: 0.2854 - acc: 0.9193 - val_loss: 0.3727 - val_acc: 0.8978\n",
      "Epoch 41/500\n",
      "110/110 [==============================] - 89s 805ms/step - loss: 0.2931 - acc: 0.9162 - val_loss: 0.3590 - val_acc: 0.8986\n",
      "Epoch 42/500\n",
      "110/110 [==============================] - 88s 802ms/step - loss: 0.2807 - acc: 0.9224 - val_loss: 0.4399 - val_acc: 0.8729\n",
      "Epoch 43/500\n",
      "110/110 [==============================] - 87s 790ms/step - loss: 0.2678 - acc: 0.9207 - val_loss: 0.3184 - val_acc: 0.9064\n",
      "Epoch 44/500\n",
      "110/110 [==============================] - 86s 784ms/step - loss: 0.2925 - acc: 0.9222 - val_loss: 0.3166 - val_acc: 0.9064\n",
      "Epoch 45/500\n",
      "110/110 [==============================] - 86s 786ms/step - loss: 0.2437 - acc: 0.9276 - val_loss: 0.3191 - val_acc: 0.9167\n",
      "Epoch 46/500\n",
      "110/110 [==============================] - 86s 782ms/step - loss: 0.2744 - acc: 0.9176 - val_loss: 0.3401 - val_acc: 0.9081\n",
      "Epoch 47/500\n",
      "110/110 [==============================] - 86s 777ms/step - loss: 0.2629 - acc: 0.9244 - val_loss: 0.5581 - val_acc: 0.8359\n",
      "Epoch 48/500\n",
      "110/110 [==============================] - 86s 781ms/step - loss: 0.2954 - acc: 0.9077 - val_loss: 0.3542 - val_acc: 0.8943\n",
      "Epoch 49/500\n",
      "110/110 [==============================] - 86s 779ms/step - loss: 0.2851 - acc: 0.9142 - val_loss: 0.3320 - val_acc: 0.9029\n",
      "Epoch 50/500\n",
      "110/110 [==============================] - 86s 780ms/step - loss: 0.2467 - acc: 0.9278 - val_loss: 0.2953 - val_acc: 0.9149\n",
      "Epoch 51/500\n",
      "110/110 [==============================] - 85s 775ms/step - loss: 0.2448 - acc: 0.9265 - val_loss: 0.3273 - val_acc: 0.9124\n",
      "Epoch 52/500\n",
      "110/110 [==============================] - 86s 785ms/step - loss: 0.2573 - acc: 0.9222 - val_loss: 0.3557 - val_acc: 0.9064\n",
      "Epoch 53/500\n",
      "110/110 [==============================] - 86s 784ms/step - loss: 0.2419 - acc: 0.9324 - val_loss: 0.3830 - val_acc: 0.8986\n",
      "Epoch 54/500\n",
      "110/110 [==============================] - 87s 791ms/step - loss: 0.3439 - acc: 0.8977 - val_loss: 1.8522 - val_acc: 0.4974\n",
      "Epoch 55/500\n",
      "110/110 [==============================] - 86s 781ms/step - loss: 0.2879 - acc: 0.9154 - val_loss: 0.5613 - val_acc: 0.8540\n",
      "Epoch 56/500\n",
      "110/110 [==============================] - 87s 792ms/step - loss: 0.2258 - acc: 0.9383 - val_loss: 0.4222 - val_acc: 0.9029\n",
      "Epoch 57/500\n",
      "110/110 [==============================] - 87s 787ms/step - loss: 0.2813 - acc: 0.9213 - val_loss: 0.4440 - val_acc: 0.8711\n",
      "Epoch 58/500\n",
      "110/110 [==============================] - 86s 779ms/step - loss: 0.2227 - acc: 0.9361 - val_loss: 0.2829 - val_acc: 0.9175\n",
      "Epoch 59/500\n",
      "110/110 [==============================] - 86s 786ms/step - loss: 0.2017 - acc: 0.9440 - val_loss: 0.3645 - val_acc: 0.8995\n",
      "Epoch 60/500\n",
      "110/110 [==============================] - 85s 775ms/step - loss: 0.1880 - acc: 0.9460 - val_loss: 0.3794 - val_acc: 0.8978\n",
      "Epoch 61/500\n",
      "110/110 [==============================] - 86s 785ms/step - loss: 0.2391 - acc: 0.9310 - val_loss: 0.3397 - val_acc: 0.9038\n",
      "Epoch 62/500\n",
      "110/110 [==============================] - 86s 778ms/step - loss: 0.2104 - acc: 0.9369 - val_loss: 0.3150 - val_acc: 0.9081\n",
      "Epoch 63/500\n",
      "110/110 [==============================] - 86s 783ms/step - loss: 0.3159 - acc: 0.9114 - val_loss: 0.4206 - val_acc: 0.8797\n",
      "Epoch 64/500\n",
      "110/110 [==============================] - 86s 778ms/step - loss: 0.2973 - acc: 0.9162 - val_loss: 0.5450 - val_acc: 0.8488\n",
      "Epoch 65/500\n",
      "110/110 [==============================] - 85s 776ms/step - loss: 0.2487 - acc: 0.9253 - val_loss: 0.3732 - val_acc: 0.8866\n",
      "Epoch 66/500\n",
      "110/110 [==============================] - 86s 780ms/step - loss: 0.2017 - acc: 0.9423 - val_loss: 0.2948 - val_acc: 0.9107\n",
      "Epoch 67/500\n",
      "110/110 [==============================] - 86s 778ms/step - loss: 0.2106 - acc: 0.9333 - val_loss: 0.3834 - val_acc: 0.8935\n",
      "Epoch 68/500\n",
      "110/110 [==============================] - 86s 779ms/step - loss: 0.2145 - acc: 0.9423 - val_loss: 0.5050 - val_acc: 0.8479\n",
      "Epoch 69/500\n",
      "110/110 [==============================] - 86s 777ms/step - loss: 0.2640 - acc: 0.9242 - val_loss: 0.3052 - val_acc: 0.9167\n",
      "Epoch 70/500\n",
      "110/110 [==============================] - 86s 781ms/step - loss: 0.1770 - acc: 0.9466 - val_loss: 0.3354 - val_acc: 0.9132\n",
      "Epoch 71/500\n",
      "110/110 [==============================] - 86s 777ms/step - loss: 0.1983 - acc: 0.9429 - val_loss: 0.3913 - val_acc: 0.9098\n",
      "Epoch 72/500\n",
      "110/110 [==============================] - 85s 776ms/step - loss: 0.2410 - acc: 0.9287 - val_loss: 0.2521 - val_acc: 0.9261\n",
      "Epoch 73/500\n",
      "110/110 [==============================] - 86s 777ms/step - loss: 0.1723 - acc: 0.9500 - val_loss: 0.3390 - val_acc: 0.9072\n",
      "Epoch 74/500\n",
      "110/110 [==============================] - 86s 782ms/step - loss: 0.1877 - acc: 0.9404 - val_loss: 0.4915 - val_acc: 0.8754\n",
      "Epoch 75/500\n",
      "110/110 [==============================] - 86s 779ms/step - loss: 0.2017 - acc: 0.9443 - val_loss: 0.2475 - val_acc: 0.9287\n",
      "Epoch 76/500\n",
      "110/110 [==============================] - 85s 776ms/step - loss: 0.1461 - acc: 0.9562 - val_loss: 0.3712 - val_acc: 0.8995\n",
      "Epoch 77/500\n",
      "110/110 [==============================] - 86s 786ms/step - loss: 0.1504 - acc: 0.9551 - val_loss: 0.3034 - val_acc: 0.9175\n",
      "Epoch 78/500\n",
      "110/110 [==============================] - 86s 783ms/step - loss: 0.1723 - acc: 0.9500 - val_loss: 0.3294 - val_acc: 0.9064\n",
      "Epoch 79/500\n",
      "110/110 [==============================] - 86s 782ms/step - loss: 0.1497 - acc: 0.9517 - val_loss: 0.3695 - val_acc: 0.9055\n",
      "Epoch 80/500\n",
      "110/110 [==============================] - 85s 774ms/step - loss: 0.1552 - acc: 0.9531 - val_loss: 0.2577 - val_acc: 0.9296\n",
      "Epoch 81/500\n",
      "110/110 [==============================] - 86s 784ms/step - loss: 0.2154 - acc: 0.9426 - val_loss: 0.2414 - val_acc: 0.9416\n",
      "Epoch 82/500\n",
      "110/110 [==============================] - 86s 781ms/step - loss: 0.1318 - acc: 0.9645 - val_loss: 0.4895 - val_acc: 0.8900\n",
      "Epoch 83/500\n",
      "110/110 [==============================] - 85s 776ms/step - loss: 0.1408 - acc: 0.9554 - val_loss: 0.2768 - val_acc: 0.9287\n",
      "Epoch 84/500\n",
      "110/110 [==============================] - 85s 777ms/step - loss: 0.1437 - acc: 0.9534 - val_loss: 0.2733 - val_acc: 0.9278\n",
      "Epoch 85/500\n",
      "110/110 [==============================] - 86s 778ms/step - loss: 0.1376 - acc: 0.9633 - val_loss: 0.3966 - val_acc: 0.8960\n",
      "Epoch 86/500\n",
      "110/110 [==============================] - 85s 777ms/step - loss: 0.1525 - acc: 0.9548 - val_loss: 0.3936 - val_acc: 0.8943\n",
      "Epoch 87/500\n",
      "110/110 [==============================] - 85s 776ms/step - loss: 0.1598 - acc: 0.9514 - val_loss: 0.2691 - val_acc: 0.9278\n",
      "Epoch 88/500\n",
      "110/110 [==============================] - 86s 778ms/step - loss: 0.1504 - acc: 0.9568 - val_loss: 0.3017 - val_acc: 0.9227\n",
      "Epoch 89/500\n",
      "110/110 [==============================] - 86s 781ms/step - loss: 0.1733 - acc: 0.9534 - val_loss: 0.3459 - val_acc: 0.9167\n",
      "Epoch 90/500\n",
      "110/110 [==============================] - 85s 777ms/step - loss: 0.1649 - acc: 0.9543 - val_loss: 0.4003 - val_acc: 0.8883\n",
      "Epoch 91/500\n",
      "110/110 [==============================] - 85s 775ms/step - loss: 0.1804 - acc: 0.9472 - val_loss: 0.3725 - val_acc: 0.9064\n",
      "Epoch 92/500\n",
      "110/110 [==============================] - 86s 779ms/step - loss: 0.1769 - acc: 0.9511 - val_loss: 0.2770 - val_acc: 0.9201\n",
      "Epoch 93/500\n",
      "110/110 [==============================] - 85s 777ms/step - loss: 0.1627 - acc: 0.9537 - val_loss: 0.3188 - val_acc: 0.9038\n",
      "Epoch 94/500\n",
      "110/110 [==============================] - 86s 778ms/step - loss: 0.1415 - acc: 0.9582 - val_loss: 0.2307 - val_acc: 0.9399\n",
      "Epoch 95/500\n",
      "110/110 [==============================] - 86s 780ms/step - loss: 0.1564 - acc: 0.9597 - val_loss: 0.4762 - val_acc: 0.8771\n",
      "Epoch 96/500\n",
      "110/110 [==============================] - 85s 774ms/step - loss: 0.1788 - acc: 0.9460 - val_loss: 0.3329 - val_acc: 0.9115\n",
      "Epoch 97/500\n",
      "110/110 [==============================] - 86s 778ms/step - loss: 0.1466 - acc: 0.9554 - val_loss: 0.3321 - val_acc: 0.9055\n",
      "Epoch 98/500\n",
      "110/110 [==============================] - 85s 775ms/step - loss: 0.1599 - acc: 0.9543 - val_loss: 0.2614 - val_acc: 0.9287\n",
      "Epoch 99/500\n",
      "110/110 [==============================] - 86s 781ms/step - loss: 0.1423 - acc: 0.9523 - val_loss: 0.2764 - val_acc: 0.9270\n",
      "Epoch 100/500\n",
      "110/110 [==============================] - 86s 778ms/step - loss: 0.1483 - acc: 0.9585 - val_loss: 0.3110 - val_acc: 0.9244\n",
      "Epoch 101/500\n",
      "110/110 [==============================] - 86s 777ms/step - loss: 0.1372 - acc: 0.9605 - val_loss: 0.4988 - val_acc: 0.8840\n",
      "Epoch 102/500\n",
      "110/110 [==============================] - 85s 775ms/step - loss: 0.2347 - acc: 0.9338 - val_loss: 0.3736 - val_acc: 0.9107\n",
      "Epoch 103/500\n",
      "110/110 [==============================] - 86s 778ms/step - loss: 0.1628 - acc: 0.9551 - val_loss: 0.3162 - val_acc: 0.9304\n",
      "Epoch 104/500\n",
      "110/110 [==============================] - 86s 781ms/step - loss: 0.2389 - acc: 0.9304 - val_loss: 0.3105 - val_acc: 0.9141\n",
      "Epoch 105/500\n",
      "110/110 [==============================] - 86s 779ms/step - loss: 0.1278 - acc: 0.9591 - val_loss: 0.3195 - val_acc: 0.9055\n",
      "Epoch 106/500\n",
      "110/110 [==============================] - 86s 781ms/step - loss: 0.1434 - acc: 0.9611 - val_loss: 0.2622 - val_acc: 0.9407\n",
      "Epoch 107/500\n",
      "110/110 [==============================] - 85s 777ms/step - loss: 0.1110 - acc: 0.9659 - val_loss: 0.2012 - val_acc: 0.9493\n",
      "Epoch 108/500\n",
      "110/110 [==============================] - 86s 784ms/step - loss: 0.1144 - acc: 0.9665 - val_loss: 0.2405 - val_acc: 0.9347\n",
      "Epoch 109/500\n",
      "110/110 [==============================] - 85s 775ms/step - loss: 0.1461 - acc: 0.9574 - val_loss: 0.2926 - val_acc: 0.9235\n",
      "Epoch 110/500\n",
      "110/110 [==============================] - 86s 779ms/step - loss: 0.1155 - acc: 0.9645 - val_loss: 0.2545 - val_acc: 0.9373\n",
      "Epoch 111/500\n",
      "110/110 [==============================] - 86s 781ms/step - loss: 0.0909 - acc: 0.9764 - val_loss: 0.2355 - val_acc: 0.9416\n",
      "Epoch 112/500\n",
      "110/110 [==============================] - 85s 777ms/step - loss: 0.1549 - acc: 0.9583 - val_loss: 0.4266 - val_acc: 0.8918\n",
      "Epoch 113/500\n",
      "110/110 [==============================] - 86s 782ms/step - loss: 0.1269 - acc: 0.9642 - val_loss: 0.2848 - val_acc: 0.9261\n",
      "Epoch 114/500\n",
      "110/110 [==============================] - 86s 781ms/step - loss: 0.1532 - acc: 0.9537 - val_loss: 0.2499 - val_acc: 0.9424\n",
      "Epoch 115/500\n",
      "110/110 [==============================] - 86s 781ms/step - loss: 0.1363 - acc: 0.9585 - val_loss: 0.2457 - val_acc: 0.9347\n",
      "Epoch 116/500\n",
      "110/110 [==============================] - 85s 777ms/step - loss: 0.1233 - acc: 0.9625 - val_loss: 0.3085 - val_acc: 0.9373\n",
      "Epoch 117/500\n",
      "110/110 [==============================] - 86s 783ms/step - loss: 0.1260 - acc: 0.9642 - val_loss: 0.2493 - val_acc: 0.9381\n",
      "Epoch 118/500\n",
      "110/110 [==============================] - 86s 780ms/step - loss: 0.1056 - acc: 0.9679 - val_loss: 0.3971 - val_acc: 0.9055\n",
      "Epoch 119/500\n",
      "110/110 [==============================] - 86s 784ms/step - loss: 0.1709 - acc: 0.9480 - val_loss: 0.2771 - val_acc: 0.9296\n",
      "Epoch 120/500\n",
      "110/110 [==============================] - 86s 779ms/step - loss: 0.1584 - acc: 0.9557 - val_loss: 0.2475 - val_acc: 0.9313\n",
      "Epoch 121/500\n",
      "110/110 [==============================] - 87s 794ms/step - loss: 0.1628 - acc: 0.9512 - val_loss: 0.2669 - val_acc: 0.9373\n",
      "Epoch 122/500\n",
      "110/110 [==============================] - 86s 786ms/step - loss: 0.1006 - acc: 0.9707 - val_loss: 0.2921 - val_acc: 0.9304\n",
      "Epoch 123/500\n",
      "110/110 [==============================] - 86s 785ms/step - loss: 0.1140 - acc: 0.9656 - val_loss: 0.2773 - val_acc: 0.9287\n",
      "Epoch 124/500\n",
      "110/110 [==============================] - 87s 788ms/step - loss: 0.1017 - acc: 0.9687 - val_loss: 0.2324 - val_acc: 0.9407\n",
      "Epoch 125/500\n",
      "110/110 [==============================] - 87s 795ms/step - loss: 0.0744 - acc: 0.9778 - val_loss: 0.2124 - val_acc: 0.9450\n",
      "Epoch 126/500\n",
      "110/110 [==============================] - 87s 787ms/step - loss: 0.1874 - acc: 0.9492 - val_loss: 0.3559 - val_acc: 0.9081\n",
      "Epoch 127/500\n",
      "110/110 [==============================] - 87s 788ms/step - loss: 0.1238 - acc: 0.9676 - val_loss: 0.3233 - val_acc: 0.9149\n",
      "Epoch 128/500\n",
      "110/110 [==============================] - 87s 791ms/step - loss: 0.1131 - acc: 0.9651 - val_loss: 0.2214 - val_acc: 0.9442\n",
      "Epoch 129/500\n",
      "110/110 [==============================] - 87s 792ms/step - loss: 0.0929 - acc: 0.9716 - val_loss: 0.2265 - val_acc: 0.9493\n",
      "Epoch 130/500\n",
      "110/110 [==============================] - 87s 790ms/step - loss: 0.1045 - acc: 0.9719 - val_loss: 0.2778 - val_acc: 0.9287\n",
      "Epoch 131/500\n",
      "110/110 [==============================] - 87s 790ms/step - loss: 0.0863 - acc: 0.9744 - val_loss: 0.2933 - val_acc: 0.9347\n",
      "Epoch 132/500\n",
      "110/110 [==============================] - 87s 792ms/step - loss: 0.1249 - acc: 0.9628 - val_loss: 0.3238 - val_acc: 0.9175\n",
      "Epoch 133/500\n",
      "110/110 [==============================] - 87s 788ms/step - loss: 0.1038 - acc: 0.9713 - val_loss: 0.3354 - val_acc: 0.9201\n",
      "Epoch 134/500\n",
      "110/110 [==============================] - 87s 791ms/step - loss: 0.1793 - acc: 0.9517 - val_loss: 0.2565 - val_acc: 0.9347\n",
      "Epoch 135/500\n",
      "110/110 [==============================] - 88s 797ms/step - loss: 0.0988 - acc: 0.9733 - val_loss: 0.2426 - val_acc: 0.9278\n",
      "Epoch 136/500\n",
      "110/110 [==============================] - 87s 793ms/step - loss: 0.1263 - acc: 0.9657 - val_loss: 0.2390 - val_acc: 0.9364\n",
      "Epoch 137/500\n",
      "110/110 [==============================] - 88s 797ms/step - loss: 0.0770 - acc: 0.9790 - val_loss: 0.3067 - val_acc: 0.9313\n",
      "Epoch 00137: early stopping\n",
      "73/73 [==============================] - 18s 245ms/step\n",
      "1164 1164\n",
      "[[107   0   0   0   0   0   0   3   0   0]\n",
      " [  0 111   0   0   0   0   0   1   0   0]\n",
      " [  0   1  99   4   2   0   2   1   1   4]\n",
      " [  0   0   0 115   0   1   2   2   0   0]\n",
      " [  1   0   0   0 104   0   1   4   0   0]\n",
      " [  0   0   0   1   0 112   0   0   2   1]\n",
      " [  1   0   5   4   1   3  99   2   0   0]\n",
      " [  2   2   0   0   2   0   1 114   0   1]\n",
      " [  6   0   1   0   1   1   0   2 121   1]\n",
      " [  3   0   0   3   2   0   0   1   2 101]]\n"
     ]
    },
    {
     "data": {
      "image/png": "[encoded data removed]",
      "text/plain": [
       "<Figure size 432x288 with 2 Axes>"
      ]
     },
     "metadata": {
      "tags": []
     },
     "output_type": "display_data"
    }
   ],
   "source": [
    "model = InceptionV3_model\n",
    "\n",
    "for layer in model.layers:\n",
    "    layer.traiable = False\n",
    "\n",
    "Dense_5 = Dense(1028,activation ='relu')(model.output)\n",
    "Dense_4 = Dense(512,activation ='relu')(Dense_5)\n",
    "Dense_3 = Dense(256,activation ='relu')(Dense_4)\n",
    "Dense_2 = Dense(128,activation ='relu')(Dense_3)\n",
    "Dense_1 = Dense(64,activation ='relu')(Dense_2)\n",
    "output  = Dense(10,activation ='softmax')(Dense_1)\n",
    "\n",
    "\n",
    "model = Model(inputs=model.inputs, outputs=output)\n",
    "model.compile(Adam(lr = 0.001), loss = 'categorical_crossentropy',metrics =['accuracy'])\n",
    "\n",
    "# model.summary()\n",
    "\n",
    "es = EarlyStopping(monitor='val_loss', mode='min', verbose=1, patience=30)\n",
    "\n",
    "model.fit_generator(train_generator, steps_per_epoch = train_steps,\n",
    "                validation_data=val_generator, validation_steps=valid_steps,\n",
    "                epochs=epoch, verbose=1,callbacks=[es])\n",
    "model.evaluate_generator(val_generator,steps=valid_steps )\n",
    "\n",
    "#save model into directory\n",
    "model.save(drive_path +'InceptionV3_model.h5')\n",
    "\n",
    "test_generator.reset() #need to reset\n",
    "predictions = model.predict_generator(test_generator,steps=test_steps,verbose=1)\n",
    "pred_label=[np.argmax(image_class) for image_class in predictions]\n",
    "labels = (train_generator.class_indices)\n",
    "labels = dict((v,k) for k,v in labels.items())\n",
    "pred_label_class = [labels[k] for k in pred_label]\n",
    "# pred_label_class\n",
    "\n",
    "test_generator.reset() #need to reset\n",
    "y_true = test_generator.classes\n",
    "\n",
    "print(len(y_true),len(pred_label))\n",
    "cm = confusion_matrix(y_true,pred_label)\n",
    "print(cm)\n",
    "plot_confusion_matrix(y_true, pred_label,cm)\n",
    "\n",
    "\n",
    "testing_df = pd.DataFrame(y_true,columns = ['true_label'])\n",
    "testing_df['pred_label'] = pred_label\n",
    "testing_df['result'] = ''\n",
    "for i, rows in enumerate(testing_df.result):\n",
    "    if testing_df.loc[i,'true_label'] == testing_df.loc[i,'pred_label']:\n",
    "        testing_df.loc[i,'result']= 1\n",
    "    elif testing_df.loc[i,'true_label'] != testing_df.loc[i,'pred_label']:\n",
    "        testing_df.loc[i,'result']= 0\n",
    "\n"
   ]
  },
  {
   "cell_type": "code",
   "execution_count": 0,
   "metadata": {
    "colab": {},
    "colab_type": "code",
    "id": "tz3DAmHLpD0y"
   },
   "outputs": [],
   "source": [
    "test.reset_index(inplace=True, drop=True)\n",
    "combine_test = pd.concat([test,testing_df], axis =1)\n",
    "combine_test.to_csv(drive_path+'InceptionV3_test_df.csv')"
   ]
  },
  {
   "cell_type": "code",
   "execution_count": 0,
   "metadata": {
    "colab": {},
    "colab_type": "code",
    "id": "mj4KFNn7Z50Q"
   },
   "outputs": [],
   "source": []
  }
 ],
 "metadata": {
  "accelerator": "GPU",
  "colab": {
   "collapsed_sections": [],
   "machine_shape": "hm",
   "name": "InceptionV3 CNN.ipynb",
   "provenance": [
    {
     "file_id": "163ugbEgdjQo0pDhdNNelNG76HiX9reED",
     "timestamp": 1574133573615
    }
   ]
  },
  "kernelspec": {
   "display_name": "Python 3",
   "language": "python",
   "name": "python3"
  },
  "language_info": {
   "codemirror_mode": {
    "name": "ipython",
    "version": 3
   },
   "file_extension": ".py",
   "mimetype": "text/x-python",
   "name": "python",
   "nbconvert_exporter": "python",
   "pygments_lexer": "ipython3",
   "version": "3.7.3"
  },
  "toc": {
   "base_numbering": 1,
   "nav_menu": {},
   "number_sections": true,
   "sideBar": true,
   "skip_h1_title": false,
   "title_cell": "Table of Contents",
   "title_sidebar": "Contents",
   "toc_cell": false,
   "toc_position": {},
   "toc_section_display": true,
   "toc_window_display": false
  }
 },
 "nbformat": 4,
 "nbformat_minor": 1
}
