{
 "cells": [
  {
   "cell_type": "code",
   "execution_count": 0,
   "metadata": {
    "_cell_guid": "b1076dfc-b9ad-4769-8c92-a6c4dae69d19",
    "_uuid": "8f2839f25d086af736a60e9eeb907d3b93b6e0e5",
    "colab": {},
    "colab_type": "code",
    "id": "ydchHYaYqc1S"
   },
   "outputs": [],
   "source": []
  },
  {
   "cell_type": "code",
   "execution_count": 1,
   "metadata": {
    "colab": {
     "base_uri": "https://localhost:8080/",
     "height": 77
    },
    "colab_type": "code",
    "executionInfo": {
     "elapsed": 6031,
     "status": "ok",
     "timestamp": 1574218824648,
     "user": {
      "displayName": "ryan chua",
      "photoUrl": "",
      "userId": "04187144810915160296"
     },
     "user_tz": -480
    },
    "id": "d8MrYa3Nqc1m",
    "outputId": "ae03b9ce-4468-4d6a-a0ef-6fb077e8554f"
   },
   "outputs": [
    {
     "name": "stderr",
     "output_type": "stream",
     "text": [
      "Using TensorFlow backend.\n"
     ]
    },
    {
     "data": {
      "text/html": [
       "<p style=\"color: red;\">\n",
       "The default version of TensorFlow in Colab will soon switch to TensorFlow 2.x.<br>\n",
       "We recommend you <a href=\"https://www.tensorflow.org/guide/migrate\" target=\"_blank\">upgrade</a> now \n",
       "or ensure your notebook will continue to use TensorFlow 1.x via the <code>%tensorflow_version 1.x</code> magic:\n",
       "<a href=\"https://colab.research.google.com/notebooks/tensorflow_version.ipynb\" target=\"_blank\">more info</a>.</p>\n"
      ],
      "text/plain": [
       "<IPython.core.display.HTML object>"
      ]
     },
     "metadata": {
      "tags": []
     },
     "output_type": "display_data"
    }
   ],
   "source": [
    "import pandas as pd\n",
    "import numpy as np\n",
    "import matplotlib.pyplot as plt\n",
    "import math\n",
    "%matplotlib inline\n",
    "\n",
    "from sklearn.metrics import confusion_matrix\n",
    "import itertools\n",
    "\n",
    "#directories\n",
    "import os\n",
    "from os import listdir\n",
    "from os.path import isfile, join\n",
    "\n",
    "from skimage import color\n",
    "from skimage import io\n",
    "from sklearn.model_selection import train_test_split\n",
    "\n",
    "from skimage import img_as_ubyte\n",
    "import skimage.transform\n",
    "import cv2\n",
    "from keras.models import Sequential\n",
    "from keras.layers import Dense\n",
    "from keras.models import model_from_json\n",
    "import keras\n",
    "from keras.models import Model\n",
    "\n",
    "from keras.models import Sequential\n",
    "from keras.layers import Activation\n",
    "from keras.layers.core import Dense , Flatten\n",
    "from keras.optimizers import Adam\n",
    "from keras.metrics import categorical_crossentropy\n",
    "from keras.preprocessing.image import ImageDataGenerator\n",
    "from keras.layers.normalization import BatchNormalization\n",
    "from keras.layers.convolutional import *\n",
    "from keras.layers import GlobalAveragePooling2D\n",
    "from keras.callbacks import EarlyStopping\n",
    "from keras.layers import Conv2D ,Dropout\n",
    "# from keras.layers import \n",
    "# for saving model\n",
    "from pydrive.auth import GoogleAuth\n",
    "from pydrive.drive import GoogleDrive \n",
    "from google.colab import auth \n",
    "from oauth2client.client import GoogleCredentials\n",
    "auth.authenticate_user()\n",
    "gauth = GoogleAuth()\n",
    "gauth.credentials = GoogleCredentials.get_application_default()                       \n",
    "drive = GoogleDrive(gauth)"
   ]
  },
  {
   "cell_type": "code",
   "execution_count": 2,
   "metadata": {
    "colab": {
     "base_uri": "https://localhost:8080/",
     "height": 33
    },
    "colab_type": "code",
    "executionInfo": {
     "elapsed": 689,
     "status": "ok",
     "timestamp": 1574218827430,
     "user": {
      "displayName": "ryan chua",
      "photoUrl": "",
      "userId": "04187144810915160296"
     },
     "user_tz": -480
    },
    "id": "BLvP1HZAsEaJ",
    "outputId": "ae275019-b39a-4065-8f2c-b4cdad113897"
   },
   "outputs": [
    {
     "name": "stdout",
     "output_type": "stream",
     "text": [
      "Drive already mounted at /content/drive; to attempt to forcibly remount, call drive.mount(\"/content/drive\", force_remount=True).\n"
     ]
    }
   ],
   "source": [
    "from google.colab import drive\n",
    "drive.mount('/content/drive')"
   ]
  },
  {
   "cell_type": "code",
   "execution_count": 0,
   "metadata": {
    "colab": {},
    "colab_type": "code",
    "id": "V8MIcKbsqc1r"
   },
   "outputs": [],
   "source": [
    "classes = ['ardhabaddhapadmottanasana','ekapadabakasana','natarajasana',\n",
    "           'parivrttaardhachandrasana','parivrttasuryayantrasana','salambasirsasana',\n",
    "           'svargadvijasana','tittibihasana','vrishchikasana','vyaghrasana']"
   ]
  },
  {
   "cell_type": "code",
   "execution_count": 0,
   "metadata": {
    "colab": {},
    "colab_type": "code",
    "id": "WVOH46T3qc11"
   },
   "outputs": [],
   "source": [
    "drive_path = '/content/drive/My Drive/General Assembly/Data Science/Capstone/6 image classes/'\n",
    "cat_1_folder  = drive_path + '500_ardhabaddhapadmottanasana/'\n",
    "cat_2_folder  = drive_path + '500_ekapadabakasana/'\n",
    "cat_3_folder  = drive_path + '500_natarajasana/'\n",
    "cat_4_folder  = drive_path + '500_parivrttaardhachandrasana/'\n",
    "cat_5_folder  = drive_path + '500_parivrttasuryayantrasana/'\n",
    "cat_6_folder  = drive_path + '500_salambasirsasana/'\n",
    "cat_7_folder  = drive_path + '500_svargadvijasana/'\n",
    "cat_8_folder  = drive_path + '500_tittibihasana/'\n",
    "cat_9_folder  = drive_path + '500_vrishchikasana/'\n",
    "cat_10_folder = drive_path + '500_vyaghrasana/'"
   ]
  },
  {
   "cell_type": "code",
   "execution_count": 0,
   "metadata": {
    "colab": {},
    "colab_type": "code",
    "id": "3tO7VNZpqc16"
   },
   "outputs": [],
   "source": [
    "folders_path = [cat_1_folder,cat_2_folder,cat_3_folder, \n",
    "                cat_4_folder, cat_5_folder, cat_6_folder, \n",
    "                cat_7_folder, cat_8_folder, cat_9_folder, cat_10_folder ]"
   ]
  },
  {
   "cell_type": "code",
   "execution_count": 6,
   "metadata": {
    "colab": {
     "base_uri": "https://localhost:8080/",
     "height": 180
    },
    "colab_type": "code",
    "executionInfo": {
     "elapsed": 2329,
     "status": "ok",
     "timestamp": 1574218834606,
     "user": {
      "displayName": "ryan chua",
      "photoUrl": "",
      "userId": "04187144810915160296"
     },
     "user_tz": -480
    },
    "id": "C2Y46TyWqc2W",
    "outputId": "c600194e-a83b-45e3-cb4b-091c67021274"
   },
   "outputs": [
    {
     "name": "stdout",
     "output_type": "stream",
     "text": [
      "1 ,numer of images for ardhabaddhapadmottanasana : 575\n",
      "2 ,numer of images for ekapadabakasana : 570\n",
      "3 ,numer of images for natarajasana : 570\n",
      "4 ,numer of images for parivrttaardhachandrasana : 600\n",
      "5 ,numer of images for parivrttasuryayantrasana : 551\n",
      "6 ,numer of images for salambasirsasana : 591\n",
      "7 ,numer of images for svargadvijasana : 574\n",
      "8 ,numer of images for tittibihasana : 608\n",
      "9 ,numer of images for vrishchikasana : 665\n",
      "10 ,numer of images for vyaghrasana : 560\n"
     ]
    }
   ],
   "source": [
    "all_images =[]\n",
    "for i,path in enumerate(folders_path):\n",
    "    \n",
    "    ls = []\n",
    "    for f in listdir(path):\n",
    "        if isfile(join(path, f)):\n",
    "            if 'DS' not in f:\n",
    "                if '._' not in f:\n",
    "                    ls.append([path+f,f,classes[i]])\n",
    "    # ls = [[path+f,f,classes[i]] for f in listdir(path) if isfile(join(path, f)) if ('DS' or '._' ) not in f ]\n",
    "    print('{} ,numer of images for {} : {}'.format(i+1,classes[i],len(ls)))\n",
    "    all_images.extend(ls)"
   ]
  },
  {
   "cell_type": "code",
   "execution_count": 7,
   "metadata": {
    "colab": {
     "base_uri": "https://localhost:8080/",
     "height": 207
    },
    "colab_type": "code",
    "executionInfo": {
     "elapsed": 1843,
     "status": "ok",
     "timestamp": 1574218834608,
     "user": {
      "displayName": "ryan chua",
      "photoUrl": "",
      "userId": "04187144810915160296"
     },
     "user_tz": -480
    },
    "id": "JJ3IkPOJqc2c",
    "outputId": "0b1f4517-b878-4d10-f93d-fb4500b3bb27"
   },
   "outputs": [
    {
     "name": "stdout",
     "output_type": "stream",
     "text": [
      "(5864, 3)\n"
     ]
    },
    {
     "data": {
      "text/html": [
       "<div>\n",
       "<style scoped>\n",
       "    .dataframe tbody tr th:only-of-type {\n",
       "        vertical-align: middle;\n",
       "    }\n",
       "\n",
       "    .dataframe tbody tr th {\n",
       "        vertical-align: top;\n",
       "    }\n",
       "\n",
       "    .dataframe thead th {\n",
       "        text-align: right;\n",
       "    }\n",
       "</style>\n",
       "<table border=\"1\" class=\"dataframe\">\n",
       "  <thead>\n",
       "    <tr style=\"text-align: right;\">\n",
       "      <th></th>\n",
       "      <th>image_path</th>\n",
       "      <th>image_name</th>\n",
       "      <th>category</th>\n",
       "    </tr>\n",
       "  </thead>\n",
       "  <tbody>\n",
       "    <tr>\n",
       "      <th>0</th>\n",
       "      <td>/content/drive/My Drive/General Assembly/Data ...</td>\n",
       "      <td>ardhabaddhapadmottanasana_101.jpg</td>\n",
       "      <td>ardhabaddhapadmottanasana</td>\n",
       "    </tr>\n",
       "    <tr>\n",
       "      <th>1</th>\n",
       "      <td>/content/drive/My Drive/General Assembly/Data ...</td>\n",
       "      <td>ardhabaddhapadmottanasana_1010.jpg</td>\n",
       "      <td>ardhabaddhapadmottanasana</td>\n",
       "    </tr>\n",
       "    <tr>\n",
       "      <th>2</th>\n",
       "      <td>/content/drive/My Drive/General Assembly/Data ...</td>\n",
       "      <td>ardhabaddhapadmottanasana_1001.jpg</td>\n",
       "      <td>ardhabaddhapadmottanasana</td>\n",
       "    </tr>\n",
       "    <tr>\n",
       "      <th>3</th>\n",
       "      <td>/content/drive/My Drive/General Assembly/Data ...</td>\n",
       "      <td>ardhabaddhapadmottanasana_10.jpg</td>\n",
       "      <td>ardhabaddhapadmottanasana</td>\n",
       "    </tr>\n",
       "    <tr>\n",
       "      <th>4</th>\n",
       "      <td>/content/drive/My Drive/General Assembly/Data ...</td>\n",
       "      <td>ardhabaddhapadmottanasana_1001_2.jpg</td>\n",
       "      <td>ardhabaddhapadmottanasana</td>\n",
       "    </tr>\n",
       "  </tbody>\n",
       "</table>\n",
       "</div>"
      ],
      "text/plain": [
       "                                          image_path  ...                   category\n",
       "0  /content/drive/My Drive/General Assembly/Data ...  ...  ardhabaddhapadmottanasana\n",
       "1  /content/drive/My Drive/General Assembly/Data ...  ...  ardhabaddhapadmottanasana\n",
       "2  /content/drive/My Drive/General Assembly/Data ...  ...  ardhabaddhapadmottanasana\n",
       "3  /content/drive/My Drive/General Assembly/Data ...  ...  ardhabaddhapadmottanasana\n",
       "4  /content/drive/My Drive/General Assembly/Data ...  ...  ardhabaddhapadmottanasana\n",
       "\n",
       "[5 rows x 3 columns]"
      ]
     },
     "execution_count": 7,
     "metadata": {
      "tags": []
     },
     "output_type": "execute_result"
    }
   ],
   "source": [
    "df =pd.DataFrame(all_images,columns=['image_path','image_name','category'])\n",
    "print(df.shape)\n",
    "df.head()"
   ]
  },
  {
   "cell_type": "code",
   "execution_count": 0,
   "metadata": {
    "colab": {},
    "colab_type": "code",
    "id": "2kzhGtUEqc2j"
   },
   "outputs": [],
   "source": [
    "from sklearn.model_selection import train_test_split\n",
    "train, tempt = train_test_split(df, train_size=0.6, shuffle = True, stratify = df.category)\n",
    "valid, test  = train_test_split(tempt, test_size=0.5, shuffle = True, stratify = tempt.category)"
   ]
  },
  {
   "cell_type": "code",
   "execution_count": 9,
   "metadata": {
    "colab": {
     "base_uri": "https://localhost:8080/",
     "height": 33
    },
    "colab_type": "code",
    "executionInfo": {
     "elapsed": 1136,
     "status": "ok",
     "timestamp": 1574218834611,
     "user": {
      "displayName": "ryan chua",
      "photoUrl": "",
      "userId": "04187144810915160296"
     },
     "user_tz": -480
    },
    "id": "xrM06ah7qc2y",
    "outputId": "08d3ad2e-8f5e-462e-a700-b5edbd5b897f"
   },
   "outputs": [
    {
     "data": {
      "text/plain": [
       "(110, 74, 74)"
      ]
     },
     "execution_count": 9,
     "metadata": {
      "tags": []
     },
     "output_type": "execute_result"
    }
   ],
   "source": [
    "size = (224,224)\n",
    "train_batch_size = 32\n",
    "batch_size = 16\n",
    "epoch = 500\n",
    "\n",
    "train_steps = math.ceil(train.shape[0]/train_batch_size)\n",
    "valid_steps = math.ceil(valid.shape[0]/batch_size)\n",
    "test_steps  = math.ceil(test.shape[0]/batch_size)\n",
    "train_steps,valid_steps,test_steps"
   ]
  },
  {
   "cell_type": "code",
   "execution_count": 0,
   "metadata": {
    "colab": {},
    "colab_type": "code",
    "id": "Pz4pW-9nqc23"
   },
   "outputs": [],
   "source": [
    "# we create two instances with the same arguments\n",
    "data_gen_args = dict(rescale=1./255,\n",
    "                    #  featurewise_center=True,\n",
    "                    #  featurewise_std_normalization=True,\n",
    "                     rotation_range=90,\n",
    "                     width_shift_range=0.1,\n",
    "                     height_shift_range=0.1,\n",
    "                     shear_range = 0.1,\n",
    "                     horizontal_flip = True,\n",
    "                     vertical_flip = True,\n",
    "                     zoom_range=0.2)\n",
    "dat_gen_args_test = dict(rescale=1./255)"
   ]
  },
  {
   "cell_type": "code",
   "execution_count": 11,
   "metadata": {
    "colab": {
     "base_uri": "https://localhost:8080/",
     "height": 66
    },
    "colab_type": "code",
    "executionInfo": {
     "elapsed": 1968,
     "status": "ok",
     "timestamp": 1574218836977,
     "user": {
      "displayName": "ryan chua",
      "photoUrl": "",
      "userId": "04187144810915160296"
     },
     "user_tz": -480
    },
    "id": "s2k7kNRpqc2-",
    "outputId": "bab178fc-61fd-41e2-85ee-e6156781e565"
   },
   "outputs": [
    {
     "name": "stdout",
     "output_type": "stream",
     "text": [
      "Found 3518 validated image filenames belonging to 10 classes.\n",
      "Found 1173 validated image filenames belonging to 10 classes.\n",
      "Found 1173 validated image filenames belonging to 10 classes.\n"
     ]
    }
   ],
   "source": [
    "train_generator = ImageDataGenerator(**data_gen_args).flow_from_dataframe(\n",
    "    dataframe     = train,\n",
    "    directory     = None,\n",
    "    x_col         = 'image_path',\n",
    "    y_col         = 'category',\n",
    "    target_size   = size,\n",
    "    color_mode    = 'rgb',\n",
    "    classes       = classes,\n",
    "    class_mode    = \"categorical\",\n",
    "    batch_size    = train_batch_size,\n",
    "    shuffle       = True,\n",
    "    seed          = 27,\n",
    "    save_format   = 'jpg',\n",
    "    interpolation = \"bicubic\", \n",
    "    validate_filenames = True)\n",
    "\n",
    "val_generator = ImageDataGenerator(**dat_gen_args_test).flow_from_dataframe(\n",
    "    dataframe     = valid,\n",
    "    directory     = None,\n",
    "    x_col         = 'image_path',\n",
    "    y_col         = 'category',\n",
    "    target_size   = size,\n",
    "    color_mode    = 'rgb',\n",
    "    classes       = classes,\n",
    "    class_mode    = \"categorical\",\n",
    "    batch_size    = batch_size,\n",
    "    shuffle       = True,\n",
    "    seed          = 27,\n",
    "    save_format   = 'jpg',\n",
    "    interpolation = \"bicubic\", \n",
    "    validate_filenames = True)\n",
    "\n",
    "test_generator = ImageDataGenerator(**dat_gen_args_test).flow_from_dataframe(\n",
    "    dataframe     = test,\n",
    "    directory     = None,\n",
    "    x_col         = 'image_path',\n",
    "    y_col         = 'category',\n",
    "    target_size   = size,\n",
    "    color_mode    = 'rgb',\n",
    "    classes       = classes,\n",
    "    class_mode    = \"categorical\",\n",
    "    batch_size    = batch_size,\n",
    "    shuffle       = False,\n",
    "    seed          = 27,\n",
    "    save_format   = 'jpg',\n",
    "    interpolation = \"bicubic\", \n",
    "    validate_filenames = True)"
   ]
  },
  {
   "cell_type": "code",
   "execution_count": 0,
   "metadata": {
    "colab": {},
    "colab_type": "code",
    "id": "7ihYbFcrvxxT"
   },
   "outputs": [],
   "source": [
    "NASNetMobile_model = keras.applications.nasnet.NASNetMobile(input_shape=(224,224,3), include_top=False, weights='imagenet', input_tensor=None, pooling='avg', classes=10)\n"
   ]
  },
  {
   "cell_type": "code",
   "execution_count": 0,
   "metadata": {
    "colab": {},
    "colab_type": "code",
    "id": "lt181_0tqc3Q"
   },
   "outputs": [],
   "source": [
    "def plot_confusion_matrix(y_true, y_pred,cm):\n",
    "    \n",
    "    np.set_printoptions(precision=2)\n",
    "\n",
    "    # Only use the labels that appear in the data\n",
    "#     classes = classes[unique_labels(y_true, y_pred)]\n",
    "\n",
    "    fig, ax = plt.subplots()\n",
    "    im = ax.imshow(cm, interpolation='nearest')\n",
    "    ax.figure.colorbar(im, ax=ax)\n",
    "    # We want to show all ticks...\n",
    "    ax.set(xticks=np.arange(cm.shape[1]),\n",
    "           yticks=np.arange(cm.shape[0]),\n",
    "           # ... and label them with the respective list entries\n",
    "           xticklabels=classes, yticklabels=classes,\n",
    "           ylabel='True label',\n",
    "           xlabel='Predicted label')\n",
    "\n",
    "    # Rotate the tick labels and set their alignment.\n",
    "    plt.setp(ax.get_xticklabels(), rotation=45, ha=\"right\",\n",
    "             rotation_mode=\"anchor\")\n",
    "\n",
    "    # Loop over data dimensions and create text annotations.\n",
    "    fmt = '.2f' \n",
    "    thresh = cm.max() / 2.\n",
    "    for i in range(cm.shape[0]):\n",
    "        for j in range(cm.shape[1]):\n",
    "            ax.text(j, i, format(cm[i, j], fmt),\n",
    "                    ha=\"center\", va=\"center\",\n",
    "                    color=\"white\" if cm[i, j] > thresh else \"black\")\n",
    "    fig.tight_layout()\n",
    "    plt.show()\n",
    "    return ax\n",
    "\n",
    "\n"
   ]
  },
  {
   "cell_type": "code",
   "execution_count": 15,
   "metadata": {
    "_cell_guid": "79c7e3d0-c299-4dcb-8224-4455121ee9b0",
    "_uuid": "d629ff2d2480ee46fbb7e2d37f6b5fab8052498a",
    "colab": {
     "base_uri": "https://localhost:8080/",
     "height": 1000
    },
    "colab_type": "code",
    "executionInfo": {
     "elapsed": 8757463,
     "status": "ok",
     "timestamp": 1574227661514,
     "user": {
      "displayName": "ryan chua",
      "photoUrl": "",
      "userId": "04187144810915160296"
     },
     "user_tz": -480
    },
    "id": "Cuy2ivEbqc3X",
    "outputId": "e5ff900a-1b47-4a47-ed17-260b4557e254"
   },
   "outputs": [
    {
     "name": "stdout",
     "output_type": "stream",
     "text": [
      "WARNING:tensorflow:From /usr/local/lib/python3.6/dist-packages/keras/optimizers.py:793: The name tf.train.Optimizer is deprecated. Please use tf.compat.v1.train.Optimizer instead.\n",
      "\n",
      "WARNING:tensorflow:From /usr/local/lib/python3.6/dist-packages/keras/backend/tensorflow_backend.py:3576: The name tf.log is deprecated. Please use tf.math.log instead.\n",
      "\n",
      "WARNING:tensorflow:From /usr/local/lib/python3.6/dist-packages/tensorflow_core/python/ops/math_grad.py:1424: where (from tensorflow.python.ops.array_ops) is deprecated and will be removed in a future version.\n",
      "Instructions for updating:\n",
      "Use tf.where in 2.0, which has the same broadcast rule as np.where\n",
      "WARNING:tensorflow:From /usr/local/lib/python3.6/dist-packages/keras/backend/tensorflow_backend.py:1033: The name tf.assign_add is deprecated. Please use tf.compat.v1.assign_add instead.\n",
      "\n",
      "WARNING:tensorflow:From /usr/local/lib/python3.6/dist-packages/keras/backend/tensorflow_backend.py:1020: The name tf.assign is deprecated. Please use tf.compat.v1.assign instead.\n",
      "\n",
      "Epoch 1/500\n",
      "110/110 [==============================] - 1507s 14s/step - loss: 2.1174 - acc: 0.2195 - val_loss: 7.4953 - val_acc: 0.1850\n",
      "Epoch 2/500\n",
      "110/110 [==============================] - 117s 1s/step - loss: 1.5120 - acc: 0.4618 - val_loss: 2.4593 - val_acc: 0.3095\n",
      "Epoch 3/500\n",
      "110/110 [==============================] - 118s 1s/step - loss: 1.1253 - acc: 0.6379 - val_loss: 1.9098 - val_acc: 0.5422\n",
      "Epoch 4/500\n",
      "110/110 [==============================] - 118s 1s/step - loss: 0.7957 - acc: 0.7615 - val_loss: 2.2839 - val_acc: 0.5251\n",
      "Epoch 5/500\n",
      "110/110 [==============================] - 118s 1s/step - loss: 0.6649 - acc: 0.8084 - val_loss: 1.2355 - val_acc: 0.6957\n",
      "Epoch 6/500\n",
      "110/110 [==============================] - 119s 1s/step - loss: 0.5446 - acc: 0.8452 - val_loss: 2.3894 - val_acc: 0.5644\n",
      "Epoch 7/500\n",
      "110/110 [==============================] - 119s 1s/step - loss: 0.4584 - acc: 0.8693 - val_loss: 4.1326 - val_acc: 0.4706\n",
      "Epoch 8/500\n",
      "110/110 [==============================] - 120s 1s/step - loss: 0.4132 - acc: 0.8823 - val_loss: 2.2641 - val_acc: 0.6812\n",
      "Epoch 9/500\n",
      "110/110 [==============================] - 120s 1s/step - loss: 0.4690 - acc: 0.8587 - val_loss: 3.0778 - val_acc: 0.5030\n",
      "Epoch 10/500\n",
      "110/110 [==============================] - 121s 1s/step - loss: 0.4000 - acc: 0.8788 - val_loss: 1.8051 - val_acc: 0.6377\n",
      "Epoch 11/500\n",
      "110/110 [==============================] - 121s 1s/step - loss: 0.3016 - acc: 0.9179 - val_loss: 1.7336 - val_acc: 0.6539\n",
      "Epoch 12/500\n",
      "110/110 [==============================] - 120s 1s/step - loss: 0.3102 - acc: 0.9091 - val_loss: 2.0724 - val_acc: 0.6564\n",
      "Epoch 13/500\n",
      "110/110 [==============================] - 121s 1s/step - loss: 0.2850 - acc: 0.9204 - val_loss: 1.6164 - val_acc: 0.6965\n",
      "Epoch 14/500\n",
      "110/110 [==============================] - 120s 1s/step - loss: 0.2529 - acc: 0.9306 - val_loss: 1.2728 - val_acc: 0.7332\n",
      "Epoch 15/500\n",
      "110/110 [==============================] - 120s 1s/step - loss: 0.2467 - acc: 0.9281 - val_loss: 2.5127 - val_acc: 0.5550\n",
      "Epoch 16/500\n",
      "110/110 [==============================] - 121s 1s/step - loss: 0.2633 - acc: 0.9198 - val_loss: 2.6285 - val_acc: 0.5124\n",
      "Epoch 17/500\n",
      "110/110 [==============================] - 121s 1s/step - loss: 0.2080 - acc: 0.9369 - val_loss: 1.1922 - val_acc: 0.7238\n",
      "Epoch 18/500\n",
      "110/110 [==============================] - 122s 1s/step - loss: 0.2544 - acc: 0.9252 - val_loss: 2.6815 - val_acc: 0.6121\n",
      "Epoch 19/500\n",
      "110/110 [==============================] - 121s 1s/step - loss: 0.2113 - acc: 0.9346 - val_loss: 2.0167 - val_acc: 0.6351\n",
      "Epoch 20/500\n",
      "110/110 [==============================] - 121s 1s/step - loss: 0.1904 - acc: 0.9457 - val_loss: 2.6276 - val_acc: 0.4885\n",
      "Epoch 21/500\n",
      "110/110 [==============================] - 122s 1s/step - loss: 0.1769 - acc: 0.9471 - val_loss: 1.5452 - val_acc: 0.6598\n",
      "Epoch 22/500\n",
      "110/110 [==============================] - 122s 1s/step - loss: 0.1758 - acc: 0.9457 - val_loss: 0.5843 - val_acc: 0.8338\n",
      "Epoch 23/500\n",
      "110/110 [==============================] - 121s 1s/step - loss: 0.1835 - acc: 0.9471 - val_loss: 2.0659 - val_acc: 0.6436\n",
      "Epoch 24/500\n",
      "110/110 [==============================] - 119s 1s/step - loss: 0.1983 - acc: 0.9403 - val_loss: 1.0634 - val_acc: 0.7221\n",
      "Epoch 25/500\n",
      "110/110 [==============================] - 117s 1s/step - loss: 0.2083 - acc: 0.9417 - val_loss: 1.8615 - val_acc: 0.6343\n",
      "Epoch 26/500\n",
      "110/110 [==============================] - 117s 1s/step - loss: 0.1795 - acc: 0.9454 - val_loss: 1.4329 - val_acc: 0.6905\n",
      "Epoch 27/500\n",
      "110/110 [==============================] - 116s 1s/step - loss: 0.1536 - acc: 0.9517 - val_loss: 2.9748 - val_acc: 0.4962\n",
      "Epoch 28/500\n",
      "110/110 [==============================] - 116s 1s/step - loss: 0.1696 - acc: 0.9545 - val_loss: 1.6205 - val_acc: 0.6283\n",
      "Epoch 29/500\n",
      "110/110 [==============================] - 117s 1s/step - loss: 0.1490 - acc: 0.9545 - val_loss: 1.6514 - val_acc: 0.6650\n",
      "Epoch 30/500\n",
      "110/110 [==============================] - 116s 1s/step - loss: 0.1546 - acc: 0.9528 - val_loss: 1.0563 - val_acc: 0.7621\n",
      "Epoch 31/500\n",
      "110/110 [==============================] - 116s 1s/step - loss: 0.1337 - acc: 0.9602 - val_loss: 2.2599 - val_acc: 0.6607\n",
      "Epoch 32/500\n",
      "110/110 [==============================] - 116s 1s/step - loss: 0.1508 - acc: 0.9602 - val_loss: 2.2196 - val_acc: 0.6735\n",
      "Epoch 33/500\n",
      "110/110 [==============================] - 116s 1s/step - loss: 0.1598 - acc: 0.9531 - val_loss: 2.1620 - val_acc: 0.5882\n",
      "Epoch 34/500\n",
      "110/110 [==============================] - 116s 1s/step - loss: 0.1216 - acc: 0.9670 - val_loss: 3.3826 - val_acc: 0.6266\n",
      "Epoch 35/500\n",
      "110/110 [==============================] - 116s 1s/step - loss: 0.1266 - acc: 0.9599 - val_loss: 2.9801 - val_acc: 0.5814\n",
      "Epoch 36/500\n",
      "110/110 [==============================] - 116s 1s/step - loss: 0.1522 - acc: 0.9580 - val_loss: 1.4335 - val_acc: 0.6820\n",
      "Epoch 37/500\n",
      "110/110 [==============================] - 116s 1s/step - loss: 0.1489 - acc: 0.9594 - val_loss: 2.3456 - val_acc: 0.5388\n",
      "Epoch 38/500\n",
      "110/110 [==============================] - 117s 1s/step - loss: 0.1495 - acc: 0.9568 - val_loss: 2.1020 - val_acc: 0.6505\n",
      "Epoch 39/500\n",
      "110/110 [==============================] - 117s 1s/step - loss: 0.1159 - acc: 0.9651 - val_loss: 1.5256 - val_acc: 0.6488\n",
      "Epoch 40/500\n",
      "110/110 [==============================] - 118s 1s/step - loss: 0.1106 - acc: 0.9639 - val_loss: 0.5950 - val_acc: 0.8474\n",
      "Epoch 41/500\n",
      "110/110 [==============================] - 118s 1s/step - loss: 0.1281 - acc: 0.9619 - val_loss: 2.0227 - val_acc: 0.5388\n",
      "Epoch 42/500\n",
      "110/110 [==============================] - 119s 1s/step - loss: 0.1067 - acc: 0.9647 - val_loss: 2.9136 - val_acc: 0.5379\n",
      "Epoch 43/500\n",
      "110/110 [==============================] - 118s 1s/step - loss: 0.1508 - acc: 0.9577 - val_loss: 6.9997 - val_acc: 0.2805\n",
      "Epoch 44/500\n",
      "110/110 [==============================] - 118s 1s/step - loss: 0.1397 - acc: 0.9577 - val_loss: 3.5493 - val_acc: 0.4672\n",
      "Epoch 45/500\n",
      "110/110 [==============================] - 119s 1s/step - loss: 0.1147 - acc: 0.9659 - val_loss: 3.1514 - val_acc: 0.5584\n",
      "Epoch 46/500\n",
      "110/110 [==============================] - 120s 1s/step - loss: 0.1070 - acc: 0.9682 - val_loss: 5.3572 - val_acc: 0.3973\n",
      "Epoch 47/500\n",
      "110/110 [==============================] - 119s 1s/step - loss: 0.1045 - acc: 0.9659 - val_loss: 4.1485 - val_acc: 0.4442\n",
      "Epoch 48/500\n",
      "110/110 [==============================] - 119s 1s/step - loss: 0.1173 - acc: 0.9634 - val_loss: 6.0684 - val_acc: 0.4169\n",
      "Epoch 49/500\n",
      "110/110 [==============================] - 120s 1s/step - loss: 0.1376 - acc: 0.9582 - val_loss: 5.5438 - val_acc: 0.4015\n",
      "Epoch 50/500\n",
      "110/110 [==============================] - 120s 1s/step - loss: 0.1566 - acc: 0.9568 - val_loss: 1.5132 - val_acc: 0.7008\n",
      "Epoch 51/500\n",
      "110/110 [==============================] - 120s 1s/step - loss: 0.0997 - acc: 0.9721 - val_loss: 1.4727 - val_acc: 0.7076\n",
      "Epoch 52/500\n",
      "110/110 [==============================] - 120s 1s/step - loss: 0.0963 - acc: 0.9713 - val_loss: 1.6274 - val_acc: 0.6590\n",
      "Epoch 00052: early stopping\n",
      "74/74 [==============================] - 420s 6s/step\n",
      "1173 1173\n",
      "[[ 98   0   0   0  16   0   0   1   0   0]\n",
      " [  2 103   1   0   7   0   0   1   0   0]\n",
      " [  6   1  83  12   4   0   3   2   2   1]\n",
      " [  2   5   2  93   5   0   0  13   0   0]\n",
      " [ 13   1   1   1  91   0   1   2   0   0]\n",
      " [ 19  10   7   8  32  34   0   4   4   0]\n",
      " [  7   4   7   0  23   0  73   1   0   0]\n",
      " [ 20   1   1   0  59   0   0  41   0   0]\n",
      " [ 30   9   2   0  23   0   1   0  56  12]\n",
      " [ 20   1   1  18  20   0   0   6   8  38]]\n"
     ]
    },
    {
     "data": {
      "image/png": "[encoded data removed]",
      "text/plain": [
       "<Figure size 432x288 with 2 Axes>"
      ]
     },
     "metadata": {
      "tags": []
     },
     "output_type": "display_data"
    }
   ],
   "source": [
    "model = NASNetMobile_model\n",
    "\n",
    "for layer in model.layers:\n",
    "    layer.traiable = False\n",
    "\n",
    "Dense_5 = Dense(2056,activation ='relu')(model.output)\n",
    "Dense_4 = Dense(512,activation ='relu')(Dense_5)\n",
    "Dense_3 = Dense(128,activation ='relu')(Dense_4)\n",
    "Dense_2 = Dense(32,activation ='relu')(Dense_3)\n",
    "output  = Dense(10,activation ='softmax')(Dense_2)\n",
    "\n",
    "\n",
    "model = Model(inputs=model.inputs, outputs=output)\n",
    "model.compile(Adam(lr = 0.001), loss = 'categorical_crossentropy',metrics =['accuracy'])\n",
    "\n",
    "# model.summary()\n",
    "\n",
    "es = EarlyStopping(monitor='val_loss', mode='min', verbose=1, patience=30)\n",
    "\n",
    "model.fit_generator(train_generator, steps_per_epoch = train_steps,\n",
    "                validation_data=val_generator, validation_steps=valid_steps,\n",
    "                epochs=epoch, verbose=1,callbacks=[es])\n",
    "model.evaluate_generator(val_generator,steps=valid_steps )\n",
    "\n",
    "#save model into directory # for kaggle will save to outputs and download manually\n",
    "model.save(drive_path + 'NASNetmobile_model.h5')\n",
    "\n",
    "test_generator.reset() #need to reset\n",
    "predictions = model.predict_generator(test_generator,steps=test_steps,verbose=1)\n",
    "pred_label=[np.argmax(image_class) for image_class in predictions]\n",
    "labels = (train_generator.class_indices)\n",
    "labels = dict((v,k) for k,v in labels.items())\n",
    "pred_label_class = [labels[k] for k in pred_label]\n",
    "# pred_label_class\n",
    "\n",
    "test_generator.reset() #need to reset\n",
    "y_true = test_generator.classes\n",
    "\n",
    "print(len(y_true),len(pred_label))\n",
    "cm = confusion_matrix(y_true,pred_label)\n",
    "print(cm)\n",
    "plot_confusion_matrix(y_true, pred_label,cm)\n",
    "\n",
    "\n",
    "testing_df = pd.DataFrame(y_true,columns = ['true_label'])\n",
    "testing_df['pred_label'] = pred_label\n",
    "testing_df['result'] = ''\n",
    "for i, rows in enumerate(testing_df.result):\n",
    "    if testing_df.loc[i,'true_label'] == testing_df.loc[i,'pred_label']:\n",
    "        testing_df.loc[i,'result']= 1\n",
    "    elif testing_df.loc[i,'true_label'] != testing_df.loc[i,'pred_label']:\n",
    "        testing_df.loc[i,'result']= 0"
   ]
  },
  {
   "cell_type": "code",
   "execution_count": 29,
   "metadata": {
    "colab": {
     "base_uri": "https://localhost:8080/",
     "height": 391
    },
    "colab_type": "code",
    "executionInfo": {
     "elapsed": 555,
     "status": "ok",
     "timestamp": 1574230605081,
     "user": {
      "displayName": "ryan chua",
      "photoUrl": "",
      "userId": "04187144810915160296"
     },
     "user_tz": -480
    },
    "id": "sHwqejl0dKVQ",
    "outputId": "9033329d-2792-43f7-c065-81afaec262f6"
   },
   "outputs": [
    {
     "data": {
      "text/html": [
       "<div>\n",
       "<style scoped>\n",
       "    .dataframe tbody tr th:only-of-type {\n",
       "        vertical-align: middle;\n",
       "    }\n",
       "\n",
       "    .dataframe tbody tr th {\n",
       "        vertical-align: top;\n",
       "    }\n",
       "\n",
       "    .dataframe thead th {\n",
       "        text-align: right;\n",
       "    }\n",
       "</style>\n",
       "<table border=\"1\" class=\"dataframe\">\n",
       "  <thead>\n",
       "    <tr style=\"text-align: right;\">\n",
       "      <th></th>\n",
       "      <th>true_label</th>\n",
       "      <th>pred_label</th>\n",
       "      <th>result</th>\n",
       "    </tr>\n",
       "  </thead>\n",
       "  <tbody>\n",
       "    <tr>\n",
       "      <th>0</th>\n",
       "      <td>7</td>\n",
       "      <td>4</td>\n",
       "      <td>0</td>\n",
       "    </tr>\n",
       "    <tr>\n",
       "      <th>1</th>\n",
       "      <td>7</td>\n",
       "      <td>4</td>\n",
       "      <td>0</td>\n",
       "    </tr>\n",
       "    <tr>\n",
       "      <th>4</th>\n",
       "      <td>9</td>\n",
       "      <td>4</td>\n",
       "      <td>0</td>\n",
       "    </tr>\n",
       "    <tr>\n",
       "      <th>11</th>\n",
       "      <td>2</td>\n",
       "      <td>4</td>\n",
       "      <td>0</td>\n",
       "    </tr>\n",
       "    <tr>\n",
       "      <th>12</th>\n",
       "      <td>5</td>\n",
       "      <td>4</td>\n",
       "      <td>0</td>\n",
       "    </tr>\n",
       "    <tr>\n",
       "      <th>...</th>\n",
       "      <td>...</td>\n",
       "      <td>...</td>\n",
       "      <td>...</td>\n",
       "    </tr>\n",
       "    <tr>\n",
       "      <th>1164</th>\n",
       "      <td>7</td>\n",
       "      <td>0</td>\n",
       "      <td>0</td>\n",
       "    </tr>\n",
       "    <tr>\n",
       "      <th>1166</th>\n",
       "      <td>8</td>\n",
       "      <td>1</td>\n",
       "      <td>0</td>\n",
       "    </tr>\n",
       "    <tr>\n",
       "      <th>1170</th>\n",
       "      <td>9</td>\n",
       "      <td>4</td>\n",
       "      <td>0</td>\n",
       "    </tr>\n",
       "    <tr>\n",
       "      <th>1171</th>\n",
       "      <td>7</td>\n",
       "      <td>4</td>\n",
       "      <td>0</td>\n",
       "    </tr>\n",
       "    <tr>\n",
       "      <th>1172</th>\n",
       "      <td>8</td>\n",
       "      <td>4</td>\n",
       "      <td>0</td>\n",
       "    </tr>\n",
       "  </tbody>\n",
       "</table>\n",
       "<p>463 rows × 3 columns</p>\n",
       "</div>"
      ],
      "text/plain": [
       "      true_label  pred_label  result\n",
       "0              7           4       0\n",
       "1              7           4       0\n",
       "4              9           4       0\n",
       "11             2           4       0\n",
       "12             5           4       0\n",
       "...          ...         ...     ...\n",
       "1164           7           0       0\n",
       "1166           8           1       0\n",
       "1170           9           4       0\n",
       "1171           7           4       0\n",
       "1172           8           4       0\n",
       "\n",
       "[463 rows x 3 columns]"
      ]
     },
     "execution_count": 29,
     "metadata": {
      "tags": []
     },
     "output_type": "execute_result"
    }
   ],
   "source": [
    "testing_df[(testing_df.result==0)  ] # 463 rows wrongly predicted"
   ]
  },
  {
   "cell_type": "code",
   "execution_count": 31,
   "metadata": {
    "colab": {
     "base_uri": "https://localhost:8080/",
     "height": 180
    },
    "colab_type": "code",
    "executionInfo": {
     "elapsed": 720,
     "status": "ok",
     "timestamp": 1574230640702,
     "user": {
      "displayName": "ryan chua",
      "photoUrl": "",
      "userId": "04187144810915160296"
     },
     "user_tz": -480
    },
    "id": "4vu8pRZqdNVU",
    "outputId": "75de97cd-282f-41b4-da6e-b149bf5ecb80"
   },
   "outputs": [
    {
     "data": {
      "text/plain": [
       "4    189\n",
       "0    119\n",
       "3     39\n",
       "1     32\n",
       "7     30\n",
       "2     22\n",
       "8     14\n",
       "9     13\n",
       "6      5\n",
       "Name: pred_label, dtype: int64"
      ]
     },
     "execution_count": 31,
     "metadata": {
      "tags": []
     },
     "output_type": "execute_result"
    }
   ],
   "source": [
    "testing_df[(testing_df.result==0) ].pred_label.value_counts() # 463 rows wrongly predicted"
   ]
  },
  {
   "cell_type": "code",
   "execution_count": 32,
   "metadata": {
    "colab": {
     "base_uri": "https://localhost:8080/",
     "height": 391
    },
    "colab_type": "code",
    "executionInfo": {
     "elapsed": 899,
     "status": "ok",
     "timestamp": 1574230661632,
     "user": {
      "displayName": "ryan chua",
      "photoUrl": "",
      "userId": "04187144810915160296"
     },
     "user_tz": -480
    },
    "id": "2Fn8NkPLdYKL",
    "outputId": "de01c1e0-7b6f-4d0f-86ee-80a47d3f3e0d"
   },
   "outputs": [
    {
     "data": {
      "text/html": [
       "<div>\n",
       "<style scoped>\n",
       "    .dataframe tbody tr th:only-of-type {\n",
       "        vertical-align: middle;\n",
       "    }\n",
       "\n",
       "    .dataframe tbody tr th {\n",
       "        vertical-align: top;\n",
       "    }\n",
       "\n",
       "    .dataframe thead th {\n",
       "        text-align: right;\n",
       "    }\n",
       "</style>\n",
       "<table border=\"1\" class=\"dataframe\">\n",
       "  <thead>\n",
       "    <tr style=\"text-align: right;\">\n",
       "      <th></th>\n",
       "      <th>true_label</th>\n",
       "      <th>pred_label</th>\n",
       "      <th>result</th>\n",
       "    </tr>\n",
       "  </thead>\n",
       "  <tbody>\n",
       "    <tr>\n",
       "      <th>15</th>\n",
       "      <td>5</td>\n",
       "      <td>0</td>\n",
       "      <td>0</td>\n",
       "    </tr>\n",
       "    <tr>\n",
       "      <th>18</th>\n",
       "      <td>8</td>\n",
       "      <td>0</td>\n",
       "      <td>0</td>\n",
       "    </tr>\n",
       "    <tr>\n",
       "      <th>22</th>\n",
       "      <td>9</td>\n",
       "      <td>0</td>\n",
       "      <td>0</td>\n",
       "    </tr>\n",
       "    <tr>\n",
       "      <th>23</th>\n",
       "      <td>9</td>\n",
       "      <td>0</td>\n",
       "      <td>0</td>\n",
       "    </tr>\n",
       "    <tr>\n",
       "      <th>24</th>\n",
       "      <td>4</td>\n",
       "      <td>0</td>\n",
       "      <td>0</td>\n",
       "    </tr>\n",
       "    <tr>\n",
       "      <th>...</th>\n",
       "      <td>...</td>\n",
       "      <td>...</td>\n",
       "      <td>...</td>\n",
       "    </tr>\n",
       "    <tr>\n",
       "      <th>1126</th>\n",
       "      <td>9</td>\n",
       "      <td>0</td>\n",
       "      <td>0</td>\n",
       "    </tr>\n",
       "    <tr>\n",
       "      <th>1128</th>\n",
       "      <td>8</td>\n",
       "      <td>0</td>\n",
       "      <td>0</td>\n",
       "    </tr>\n",
       "    <tr>\n",
       "      <th>1143</th>\n",
       "      <td>7</td>\n",
       "      <td>0</td>\n",
       "      <td>0</td>\n",
       "    </tr>\n",
       "    <tr>\n",
       "      <th>1150</th>\n",
       "      <td>7</td>\n",
       "      <td>0</td>\n",
       "      <td>0</td>\n",
       "    </tr>\n",
       "    <tr>\n",
       "      <th>1164</th>\n",
       "      <td>7</td>\n",
       "      <td>0</td>\n",
       "      <td>0</td>\n",
       "    </tr>\n",
       "  </tbody>\n",
       "</table>\n",
       "<p>119 rows × 3 columns</p>\n",
       "</div>"
      ],
      "text/plain": [
       "      true_label  pred_label  result\n",
       "15             5           0       0\n",
       "18             8           0       0\n",
       "22             9           0       0\n",
       "23             9           0       0\n",
       "24             4           0       0\n",
       "...          ...         ...     ...\n",
       "1126           9           0       0\n",
       "1128           8           0       0\n",
       "1143           7           0       0\n",
       "1150           7           0       0\n",
       "1164           7           0       0\n",
       "\n",
       "[119 rows x 3 columns]"
      ]
     },
     "execution_count": 32,
     "metadata": {
      "tags": []
     },
     "output_type": "execute_result"
    }
   ],
   "source": [
    "testing_df[(testing_df.result==0) & (testing_df.pred_label==0) ] # 119 rows wrongly predicted"
   ]
  },
  {
   "cell_type": "code",
   "execution_count": 33,
   "metadata": {
    "colab": {
     "base_uri": "https://localhost:8080/",
     "height": 180
    },
    "colab_type": "code",
    "executionInfo": {
     "elapsed": 960,
     "status": "ok",
     "timestamp": 1574230687392,
     "user": {
      "displayName": "ryan chua",
      "photoUrl": "",
      "userId": "04187144810915160296"
     },
     "user_tz": -480
    },
    "id": "xpUINbvldd0X",
    "outputId": "a0489fee-3fd4-4b19-8c39-b36175e4e6f3"
   },
   "outputs": [
    {
     "data": {
      "text/plain": [
       "8    30\n",
       "9    20\n",
       "7    20\n",
       "5    19\n",
       "4    13\n",
       "6     7\n",
       "2     6\n",
       "3     2\n",
       "1     2\n",
       "Name: true_label, dtype: int64"
      ]
     },
     "execution_count": 33,
     "metadata": {
      "tags": []
     },
     "output_type": "execute_result"
    }
   ],
   "source": [
    "testing_df[(testing_df.result==0) & (testing_df.pred_label==0) ].true_label.value_counts() # need to increase number of images for '7' and '5' ,'8', '9'"
   ]
  },
  {
   "cell_type": "code",
   "execution_count": 27,
   "metadata": {
    "colab": {
     "base_uri": "https://localhost:8080/",
     "height": 391
    },
    "colab_type": "code",
    "executionInfo": {
     "elapsed": 1283,
     "status": "ok",
     "timestamp": 1574230548244,
     "user": {
      "displayName": "ryan chua",
      "photoUrl": "",
      "userId": "04187144810915160296"
     },
     "user_tz": -480
    },
    "id": "rwKZSaOlqc3d",
    "outputId": "b44a8d74-1761-4dfc-97e1-1465bd5b9bbb"
   },
   "outputs": [
    {
     "data": {
      "text/html": [
       "<div>\n",
       "<style scoped>\n",
       "    .dataframe tbody tr th:only-of-type {\n",
       "        vertical-align: middle;\n",
       "    }\n",
       "\n",
       "    .dataframe tbody tr th {\n",
       "        vertical-align: top;\n",
       "    }\n",
       "\n",
       "    .dataframe thead th {\n",
       "        text-align: right;\n",
       "    }\n",
       "</style>\n",
       "<table border=\"1\" class=\"dataframe\">\n",
       "  <thead>\n",
       "    <tr style=\"text-align: right;\">\n",
       "      <th></th>\n",
       "      <th>true_label</th>\n",
       "      <th>pred_label</th>\n",
       "      <th>result</th>\n",
       "    </tr>\n",
       "  </thead>\n",
       "  <tbody>\n",
       "    <tr>\n",
       "      <th>0</th>\n",
       "      <td>7</td>\n",
       "      <td>4</td>\n",
       "      <td>0</td>\n",
       "    </tr>\n",
       "    <tr>\n",
       "      <th>1</th>\n",
       "      <td>7</td>\n",
       "      <td>4</td>\n",
       "      <td>0</td>\n",
       "    </tr>\n",
       "    <tr>\n",
       "      <th>4</th>\n",
       "      <td>9</td>\n",
       "      <td>4</td>\n",
       "      <td>0</td>\n",
       "    </tr>\n",
       "    <tr>\n",
       "      <th>11</th>\n",
       "      <td>2</td>\n",
       "      <td>4</td>\n",
       "      <td>0</td>\n",
       "    </tr>\n",
       "    <tr>\n",
       "      <th>12</th>\n",
       "      <td>5</td>\n",
       "      <td>4</td>\n",
       "      <td>0</td>\n",
       "    </tr>\n",
       "    <tr>\n",
       "      <th>...</th>\n",
       "      <td>...</td>\n",
       "      <td>...</td>\n",
       "      <td>...</td>\n",
       "    </tr>\n",
       "    <tr>\n",
       "      <th>1155</th>\n",
       "      <td>3</td>\n",
       "      <td>4</td>\n",
       "      <td>0</td>\n",
       "    </tr>\n",
       "    <tr>\n",
       "      <th>1162</th>\n",
       "      <td>7</td>\n",
       "      <td>4</td>\n",
       "      <td>0</td>\n",
       "    </tr>\n",
       "    <tr>\n",
       "      <th>1170</th>\n",
       "      <td>9</td>\n",
       "      <td>4</td>\n",
       "      <td>0</td>\n",
       "    </tr>\n",
       "    <tr>\n",
       "      <th>1171</th>\n",
       "      <td>7</td>\n",
       "      <td>4</td>\n",
       "      <td>0</td>\n",
       "    </tr>\n",
       "    <tr>\n",
       "      <th>1172</th>\n",
       "      <td>8</td>\n",
       "      <td>4</td>\n",
       "      <td>0</td>\n",
       "    </tr>\n",
       "  </tbody>\n",
       "</table>\n",
       "<p>189 rows × 3 columns</p>\n",
       "</div>"
      ],
      "text/plain": [
       "      true_label  pred_label  result\n",
       "0              7           4       0\n",
       "1              7           4       0\n",
       "4              9           4       0\n",
       "11             2           4       0\n",
       "12             5           4       0\n",
       "...          ...         ...     ...\n",
       "1155           3           4       0\n",
       "1162           7           4       0\n",
       "1170           9           4       0\n",
       "1171           7           4       0\n",
       "1172           8           4       0\n",
       "\n",
       "[189 rows x 3 columns]"
      ]
     },
     "execution_count": 27,
     "metadata": {
      "tags": []
     },
     "output_type": "execute_result"
    }
   ],
   "source": [
    "testing_df[(testing_df.result==0) & (testing_df.pred_label==4) ] # 189 rows wrongly predicted"
   ]
  },
  {
   "cell_type": "code",
   "execution_count": 28,
   "metadata": {
    "colab": {
     "base_uri": "https://localhost:8080/",
     "height": 180
    },
    "colab_type": "code",
    "executionInfo": {
     "elapsed": 1062,
     "status": "ok",
     "timestamp": 1574230579330,
     "user": {
      "displayName": "ryan chua",
      "photoUrl": "",
      "userId": "04187144810915160296"
     },
     "user_tz": -480
    },
    "id": "sCMhyt-hcaet",
    "outputId": "5b8634c3-d305-462e-8a81-1eb04e06cb37"
   },
   "outputs": [
    {
     "data": {
      "text/plain": [
       "7    59\n",
       "5    32\n",
       "8    23\n",
       "6    23\n",
       "9    20\n",
       "0    16\n",
       "1     7\n",
       "3     5\n",
       "2     4\n",
       "Name: true_label, dtype: int64"
      ]
     },
     "execution_count": 28,
     "metadata": {
      "tags": []
     },
     "output_type": "execute_result"
    }
   ],
   "source": [
    "testing_df[(testing_df.result==0) & (testing_df.pred_label==4) ].true_label.value_counts() # need to increase number of images for '7' and '5' "
   ]
  },
  {
   "cell_type": "code",
   "execution_count": 26,
   "metadata": {
    "colab": {
     "base_uri": "https://localhost:8080/",
     "height": 196
    },
    "colab_type": "code",
    "executionInfo": {
     "elapsed": 964,
     "status": "ok",
     "timestamp": 1574230510886,
     "user": {
      "displayName": "ryan chua",
      "photoUrl": "",
      "userId": "04187144810915160296"
     },
     "user_tz": -480
    },
    "id": "dN3tHSJ3caaO",
    "outputId": "ea99587a-1a1f-46d8-feae-1792bc6974ee"
   },
   "outputs": [
    {
     "data": {
      "text/plain": [
       "5    84\n",
       "7    81\n",
       "8    77\n",
       "9    74\n",
       "6    42\n",
       "2    31\n",
       "3    27\n",
       "4    19\n",
       "0    17\n",
       "1    11\n",
       "Name: true_label, dtype: int64"
      ]
     },
     "execution_count": 26,
     "metadata": {
      "tags": []
     },
     "output_type": "execute_result"
    }
   ],
   "source": [
    "testing_df[(testing_df.result==0)].true_label.value_counts() # need to increase number of images for '4' and '0' "
   ]
  },
  {
   "cell_type": "code",
   "execution_count": 0,
   "metadata": {
    "colab": {},
    "colab_type": "code",
    "id": "smis6gIIcaXU"
   },
   "outputs": [],
   "source": []
  },
  {
   "cell_type": "code",
   "execution_count": 18,
   "metadata": {
    "colab": {
     "base_uri": "https://localhost:8080/",
     "height": 391
    },
    "colab_type": "code",
    "executionInfo": {
     "elapsed": 2612,
     "status": "ok",
     "timestamp": 1574228744819,
     "user": {
      "displayName": "ryan chua",
      "photoUrl": "",
      "userId": "04187144810915160296"
     },
     "user_tz": -480
    },
    "id": "JL_olbblV0OJ",
    "outputId": "22315dd0-9371-4839-9c1c-8cc2a855cc4d"
   },
   "outputs": [
    {
     "data": {
      "text/html": [
       "<div>\n",
       "<style scoped>\n",
       "    .dataframe tbody tr th:only-of-type {\n",
       "        vertical-align: middle;\n",
       "    }\n",
       "\n",
       "    .dataframe tbody tr th {\n",
       "        vertical-align: top;\n",
       "    }\n",
       "\n",
       "    .dataframe thead th {\n",
       "        text-align: right;\n",
       "    }\n",
       "</style>\n",
       "<table border=\"1\" class=\"dataframe\">\n",
       "  <thead>\n",
       "    <tr style=\"text-align: right;\">\n",
       "      <th></th>\n",
       "      <th>image_path</th>\n",
       "      <th>image_name</th>\n",
       "      <th>category</th>\n",
       "    </tr>\n",
       "  </thead>\n",
       "  <tbody>\n",
       "    <tr>\n",
       "      <th>4246</th>\n",
       "      <td>/content/drive/My Drive/General Assembly/Data ...</td>\n",
       "      <td>tittibhasana_35.jpg</td>\n",
       "      <td>tittibihasana</td>\n",
       "    </tr>\n",
       "    <tr>\n",
       "      <th>4340</th>\n",
       "      <td>/content/drive/My Drive/General Assembly/Data ...</td>\n",
       "      <td>tittibhasana_514.jpg</td>\n",
       "      <td>tittibihasana</td>\n",
       "    </tr>\n",
       "    <tr>\n",
       "      <th>407</th>\n",
       "      <td>/content/drive/My Drive/General Assembly/Data ...</td>\n",
       "      <td>ardhabaddhapadmottanasana_706.jpg</td>\n",
       "      <td>ardhabaddhapadmottanasana</td>\n",
       "    </tr>\n",
       "    <tr>\n",
       "      <th>2717</th>\n",
       "      <td>/content/drive/My Drive/General Assembly/Data ...</td>\n",
       "      <td>parivrttasuryayantrasana_651.jpg</td>\n",
       "      <td>parivrttasuryayantrasana</td>\n",
       "    </tr>\n",
       "    <tr>\n",
       "      <th>5835</th>\n",
       "      <td>/content/drive/My Drive/General Assembly/Data ...</td>\n",
       "      <td>vyaghrasana_72.jpg</td>\n",
       "      <td>vyaghrasana</td>\n",
       "    </tr>\n",
       "    <tr>\n",
       "      <th>...</th>\n",
       "      <td>...</td>\n",
       "      <td>...</td>\n",
       "      <td>...</td>\n",
       "    </tr>\n",
       "    <tr>\n",
       "      <th>265</th>\n",
       "      <td>/content/drive/My Drive/General Assembly/Data ...</td>\n",
       "      <td>ardhabaddhapadmottanasana_433.jpg</td>\n",
       "      <td>ardhabaddhapadmottanasana</td>\n",
       "    </tr>\n",
       "    <tr>\n",
       "      <th>1689</th>\n",
       "      <td>/content/drive/My Drive/General Assembly/Data ...</td>\n",
       "      <td>natarajasana_906.jpg</td>\n",
       "      <td>natarajasana</td>\n",
       "    </tr>\n",
       "    <tr>\n",
       "      <th>5461</th>\n",
       "      <td>/content/drive/My Drive/General Assembly/Data ...</td>\n",
       "      <td>vyaghrasana_263.jpg</td>\n",
       "      <td>vyaghrasana</td>\n",
       "    </tr>\n",
       "    <tr>\n",
       "      <th>4477</th>\n",
       "      <td>/content/drive/My Drive/General Assembly/Data ...</td>\n",
       "      <td>tittibhasana_74.jpg</td>\n",
       "      <td>tittibihasana</td>\n",
       "    </tr>\n",
       "    <tr>\n",
       "      <th>5144</th>\n",
       "      <td>/content/drive/My Drive/General Assembly/Data ...</td>\n",
       "      <td>vrishchikasana_766.jpg</td>\n",
       "      <td>vrishchikasana</td>\n",
       "    </tr>\n",
       "  </tbody>\n",
       "</table>\n",
       "<p>1173 rows × 3 columns</p>\n",
       "</div>"
      ],
      "text/plain": [
       "                                             image_path  ...                   category\n",
       "4246  /content/drive/My Drive/General Assembly/Data ...  ...              tittibihasana\n",
       "4340  /content/drive/My Drive/General Assembly/Data ...  ...              tittibihasana\n",
       "407   /content/drive/My Drive/General Assembly/Data ...  ...  ardhabaddhapadmottanasana\n",
       "2717  /content/drive/My Drive/General Assembly/Data ...  ...   parivrttasuryayantrasana\n",
       "5835  /content/drive/My Drive/General Assembly/Data ...  ...                vyaghrasana\n",
       "...                                                 ...  ...                        ...\n",
       "265   /content/drive/My Drive/General Assembly/Data ...  ...  ardhabaddhapadmottanasana\n",
       "1689  /content/drive/My Drive/General Assembly/Data ...  ...               natarajasana\n",
       "5461  /content/drive/My Drive/General Assembly/Data ...  ...                vyaghrasana\n",
       "4477  /content/drive/My Drive/General Assembly/Data ...  ...              tittibihasana\n",
       "5144  /content/drive/My Drive/General Assembly/Data ...  ...             vrishchikasana\n",
       "\n",
       "[1173 rows x 3 columns]"
      ]
     },
     "execution_count": 18,
     "metadata": {
      "tags": []
     },
     "output_type": "execute_result"
    }
   ],
   "source": [
    "test"
   ]
  },
  {
   "cell_type": "code",
   "execution_count": 19,
   "metadata": {
    "colab": {
     "base_uri": "https://localhost:8080/",
     "height": 391
    },
    "colab_type": "code",
    "executionInfo": {
     "elapsed": 1048,
     "status": "ok",
     "timestamp": 1574228760572,
     "user": {
      "displayName": "ryan chua",
      "photoUrl": "",
      "userId": "04187144810915160296"
     },
     "user_tz": -480
    },
    "id": "jlLVtxhdWE5_",
    "outputId": "0971a5e4-7a47-4c71-9e43-b67dcc458d31"
   },
   "outputs": [
    {
     "data": {
      "text/html": [
       "<div>\n",
       "<style scoped>\n",
       "    .dataframe tbody tr th:only-of-type {\n",
       "        vertical-align: middle;\n",
       "    }\n",
       "\n",
       "    .dataframe tbody tr th {\n",
       "        vertical-align: top;\n",
       "    }\n",
       "\n",
       "    .dataframe thead th {\n",
       "        text-align: right;\n",
       "    }\n",
       "</style>\n",
       "<table border=\"1\" class=\"dataframe\">\n",
       "  <thead>\n",
       "    <tr style=\"text-align: right;\">\n",
       "      <th></th>\n",
       "      <th>true_label</th>\n",
       "      <th>pred_label</th>\n",
       "      <th>result</th>\n",
       "    </tr>\n",
       "  </thead>\n",
       "  <tbody>\n",
       "    <tr>\n",
       "      <th>0</th>\n",
       "      <td>7</td>\n",
       "      <td>4</td>\n",
       "      <td>0</td>\n",
       "    </tr>\n",
       "    <tr>\n",
       "      <th>1</th>\n",
       "      <td>7</td>\n",
       "      <td>4</td>\n",
       "      <td>0</td>\n",
       "    </tr>\n",
       "    <tr>\n",
       "      <th>2</th>\n",
       "      <td>0</td>\n",
       "      <td>0</td>\n",
       "      <td>1</td>\n",
       "    </tr>\n",
       "    <tr>\n",
       "      <th>3</th>\n",
       "      <td>4</td>\n",
       "      <td>4</td>\n",
       "      <td>1</td>\n",
       "    </tr>\n",
       "    <tr>\n",
       "      <th>4</th>\n",
       "      <td>9</td>\n",
       "      <td>4</td>\n",
       "      <td>0</td>\n",
       "    </tr>\n",
       "    <tr>\n",
       "      <th>...</th>\n",
       "      <td>...</td>\n",
       "      <td>...</td>\n",
       "      <td>...</td>\n",
       "    </tr>\n",
       "    <tr>\n",
       "      <th>1168</th>\n",
       "      <td>0</td>\n",
       "      <td>0</td>\n",
       "      <td>1</td>\n",
       "    </tr>\n",
       "    <tr>\n",
       "      <th>1169</th>\n",
       "      <td>2</td>\n",
       "      <td>2</td>\n",
       "      <td>1</td>\n",
       "    </tr>\n",
       "    <tr>\n",
       "      <th>1170</th>\n",
       "      <td>9</td>\n",
       "      <td>4</td>\n",
       "      <td>0</td>\n",
       "    </tr>\n",
       "    <tr>\n",
       "      <th>1171</th>\n",
       "      <td>7</td>\n",
       "      <td>4</td>\n",
       "      <td>0</td>\n",
       "    </tr>\n",
       "    <tr>\n",
       "      <th>1172</th>\n",
       "      <td>8</td>\n",
       "      <td>4</td>\n",
       "      <td>0</td>\n",
       "    </tr>\n",
       "  </tbody>\n",
       "</table>\n",
       "<p>1173 rows × 3 columns</p>\n",
       "</div>"
      ],
      "text/plain": [
       "      true_label  pred_label  result\n",
       "0              7           4       0\n",
       "1              7           4       0\n",
       "2              0           0       1\n",
       "3              4           4       1\n",
       "4              9           4       0\n",
       "...          ...         ...     ...\n",
       "1168           0           0       1\n",
       "1169           2           2       1\n",
       "1170           9           4       0\n",
       "1171           7           4       0\n",
       "1172           8           4       0\n",
       "\n",
       "[1173 rows x 3 columns]"
      ]
     },
     "execution_count": 19,
     "metadata": {
      "tags": []
     },
     "output_type": "execute_result"
    }
   ],
   "source": [
    "testing_df"
   ]
  },
  {
   "cell_type": "code",
   "execution_count": 0,
   "metadata": {
    "colab": {},
    "colab_type": "code",
    "id": "uuGVtt_vWJKt"
   },
   "outputs": [],
   "source": []
  },
  {
   "cell_type": "code",
   "execution_count": 22,
   "metadata": {
    "colab": {
     "base_uri": "https://localhost:8080/",
     "height": 391
    },
    "colab_type": "code",
    "executionInfo": {
     "elapsed": 817,
     "status": "ok",
     "timestamp": 1574230263620,
     "user": {
      "displayName": "ryan chua",
      "photoUrl": "",
      "userId": "04187144810915160296"
     },
     "user_tz": -480
    },
    "id": "-kXuKo6kb1a0",
    "outputId": "92765702-7176-4c93-8ed4-b2d7f7892293"
   },
   "outputs": [
    {
     "data": {
      "text/html": [
       "<div>\n",
       "<style scoped>\n",
       "    .dataframe tbody tr th:only-of-type {\n",
       "        vertical-align: middle;\n",
       "    }\n",
       "\n",
       "    .dataframe tbody tr th {\n",
       "        vertical-align: top;\n",
       "    }\n",
       "\n",
       "    .dataframe thead th {\n",
       "        text-align: right;\n",
       "    }\n",
       "</style>\n",
       "<table border=\"1\" class=\"dataframe\">\n",
       "  <thead>\n",
       "    <tr style=\"text-align: right;\">\n",
       "      <th></th>\n",
       "      <th>image_path</th>\n",
       "      <th>image_name</th>\n",
       "      <th>category</th>\n",
       "    </tr>\n",
       "  </thead>\n",
       "  <tbody>\n",
       "    <tr>\n",
       "      <th>4246</th>\n",
       "      <td>/content/drive/My Drive/General Assembly/Data ...</td>\n",
       "      <td>tittibhasana_35.jpg</td>\n",
       "      <td>tittibihasana</td>\n",
       "    </tr>\n",
       "    <tr>\n",
       "      <th>4340</th>\n",
       "      <td>/content/drive/My Drive/General Assembly/Data ...</td>\n",
       "      <td>tittibhasana_514.jpg</td>\n",
       "      <td>tittibihasana</td>\n",
       "    </tr>\n",
       "    <tr>\n",
       "      <th>407</th>\n",
       "      <td>/content/drive/My Drive/General Assembly/Data ...</td>\n",
       "      <td>ardhabaddhapadmottanasana_706.jpg</td>\n",
       "      <td>ardhabaddhapadmottanasana</td>\n",
       "    </tr>\n",
       "    <tr>\n",
       "      <th>2717</th>\n",
       "      <td>/content/drive/My Drive/General Assembly/Data ...</td>\n",
       "      <td>parivrttasuryayantrasana_651.jpg</td>\n",
       "      <td>parivrttasuryayantrasana</td>\n",
       "    </tr>\n",
       "    <tr>\n",
       "      <th>5835</th>\n",
       "      <td>/content/drive/My Drive/General Assembly/Data ...</td>\n",
       "      <td>vyaghrasana_72.jpg</td>\n",
       "      <td>vyaghrasana</td>\n",
       "    </tr>\n",
       "    <tr>\n",
       "      <th>...</th>\n",
       "      <td>...</td>\n",
       "      <td>...</td>\n",
       "      <td>...</td>\n",
       "    </tr>\n",
       "    <tr>\n",
       "      <th>265</th>\n",
       "      <td>/content/drive/My Drive/General Assembly/Data ...</td>\n",
       "      <td>ardhabaddhapadmottanasana_433.jpg</td>\n",
       "      <td>ardhabaddhapadmottanasana</td>\n",
       "    </tr>\n",
       "    <tr>\n",
       "      <th>1689</th>\n",
       "      <td>/content/drive/My Drive/General Assembly/Data ...</td>\n",
       "      <td>natarajasana_906.jpg</td>\n",
       "      <td>natarajasana</td>\n",
       "    </tr>\n",
       "    <tr>\n",
       "      <th>5461</th>\n",
       "      <td>/content/drive/My Drive/General Assembly/Data ...</td>\n",
       "      <td>vyaghrasana_263.jpg</td>\n",
       "      <td>vyaghrasana</td>\n",
       "    </tr>\n",
       "    <tr>\n",
       "      <th>4477</th>\n",
       "      <td>/content/drive/My Drive/General Assembly/Data ...</td>\n",
       "      <td>tittibhasana_74.jpg</td>\n",
       "      <td>tittibihasana</td>\n",
       "    </tr>\n",
       "    <tr>\n",
       "      <th>5144</th>\n",
       "      <td>/content/drive/My Drive/General Assembly/Data ...</td>\n",
       "      <td>vrishchikasana_766.jpg</td>\n",
       "      <td>vrishchikasana</td>\n",
       "    </tr>\n",
       "  </tbody>\n",
       "</table>\n",
       "<p>1173 rows × 3 columns</p>\n",
       "</div>"
      ],
      "text/plain": [
       "                                             image_path  ...                   category\n",
       "4246  /content/drive/My Drive/General Assembly/Data ...  ...              tittibihasana\n",
       "4340  /content/drive/My Drive/General Assembly/Data ...  ...              tittibihasana\n",
       "407   /content/drive/My Drive/General Assembly/Data ...  ...  ardhabaddhapadmottanasana\n",
       "2717  /content/drive/My Drive/General Assembly/Data ...  ...   parivrttasuryayantrasana\n",
       "5835  /content/drive/My Drive/General Assembly/Data ...  ...                vyaghrasana\n",
       "...                                                 ...  ...                        ...\n",
       "265   /content/drive/My Drive/General Assembly/Data ...  ...  ardhabaddhapadmottanasana\n",
       "1689  /content/drive/My Drive/General Assembly/Data ...  ...               natarajasana\n",
       "5461  /content/drive/My Drive/General Assembly/Data ...  ...                vyaghrasana\n",
       "4477  /content/drive/My Drive/General Assembly/Data ...  ...              tittibihasana\n",
       "5144  /content/drive/My Drive/General Assembly/Data ...  ...             vrishchikasana\n",
       "\n",
       "[1173 rows x 3 columns]"
      ]
     },
     "execution_count": 22,
     "metadata": {
      "tags": []
     },
     "output_type": "execute_result"
    }
   ],
   "source": [
    "test"
   ]
  },
  {
   "cell_type": "code",
   "execution_count": 34,
   "metadata": {
    "colab": {
     "base_uri": "https://localhost:8080/",
     "height": 391
    },
    "colab_type": "code",
    "executionInfo": {
     "elapsed": 641,
     "status": "ok",
     "timestamp": 1574231430157,
     "user": {
      "displayName": "ryan chua",
      "photoUrl": "",
      "userId": "04187144810915160296"
     },
     "user_tz": -480
    },
    "id": "oHdpEhdCb4Nk",
    "outputId": "a5a7c140-6369-4587-b43f-640514770012"
   },
   "outputs": [
    {
     "data": {
      "text/html": [
       "<div>\n",
       "<style scoped>\n",
       "    .dataframe tbody tr th:only-of-type {\n",
       "        vertical-align: middle;\n",
       "    }\n",
       "\n",
       "    .dataframe tbody tr th {\n",
       "        vertical-align: top;\n",
       "    }\n",
       "\n",
       "    .dataframe thead th {\n",
       "        text-align: right;\n",
       "    }\n",
       "</style>\n",
       "<table border=\"1\" class=\"dataframe\">\n",
       "  <thead>\n",
       "    <tr style=\"text-align: right;\">\n",
       "      <th></th>\n",
       "      <th>image_path</th>\n",
       "      <th>image_name</th>\n",
       "      <th>category</th>\n",
       "    </tr>\n",
       "  </thead>\n",
       "  <tbody>\n",
       "    <tr>\n",
       "      <th>0</th>\n",
       "      <td>/content/drive/My Drive/General Assembly/Data ...</td>\n",
       "      <td>tittibhasana_35.jpg</td>\n",
       "      <td>tittibihasana</td>\n",
       "    </tr>\n",
       "    <tr>\n",
       "      <th>1</th>\n",
       "      <td>/content/drive/My Drive/General Assembly/Data ...</td>\n",
       "      <td>tittibhasana_514.jpg</td>\n",
       "      <td>tittibihasana</td>\n",
       "    </tr>\n",
       "    <tr>\n",
       "      <th>2</th>\n",
       "      <td>/content/drive/My Drive/General Assembly/Data ...</td>\n",
       "      <td>ardhabaddhapadmottanasana_706.jpg</td>\n",
       "      <td>ardhabaddhapadmottanasana</td>\n",
       "    </tr>\n",
       "    <tr>\n",
       "      <th>3</th>\n",
       "      <td>/content/drive/My Drive/General Assembly/Data ...</td>\n",
       "      <td>parivrttasuryayantrasana_651.jpg</td>\n",
       "      <td>parivrttasuryayantrasana</td>\n",
       "    </tr>\n",
       "    <tr>\n",
       "      <th>4</th>\n",
       "      <td>/content/drive/My Drive/General Assembly/Data ...</td>\n",
       "      <td>vyaghrasana_72.jpg</td>\n",
       "      <td>vyaghrasana</td>\n",
       "    </tr>\n",
       "    <tr>\n",
       "      <th>...</th>\n",
       "      <td>...</td>\n",
       "      <td>...</td>\n",
       "      <td>...</td>\n",
       "    </tr>\n",
       "    <tr>\n",
       "      <th>1168</th>\n",
       "      <td>/content/drive/My Drive/General Assembly/Data ...</td>\n",
       "      <td>ardhabaddhapadmottanasana_433.jpg</td>\n",
       "      <td>ardhabaddhapadmottanasana</td>\n",
       "    </tr>\n",
       "    <tr>\n",
       "      <th>1169</th>\n",
       "      <td>/content/drive/My Drive/General Assembly/Data ...</td>\n",
       "      <td>natarajasana_906.jpg</td>\n",
       "      <td>natarajasana</td>\n",
       "    </tr>\n",
       "    <tr>\n",
       "      <th>1170</th>\n",
       "      <td>/content/drive/My Drive/General Assembly/Data ...</td>\n",
       "      <td>vyaghrasana_263.jpg</td>\n",
       "      <td>vyaghrasana</td>\n",
       "    </tr>\n",
       "    <tr>\n",
       "      <th>1171</th>\n",
       "      <td>/content/drive/My Drive/General Assembly/Data ...</td>\n",
       "      <td>tittibhasana_74.jpg</td>\n",
       "      <td>tittibihasana</td>\n",
       "    </tr>\n",
       "    <tr>\n",
       "      <th>1172</th>\n",
       "      <td>/content/drive/My Drive/General Assembly/Data ...</td>\n",
       "      <td>vrishchikasana_766.jpg</td>\n",
       "      <td>vrishchikasana</td>\n",
       "    </tr>\n",
       "  </tbody>\n",
       "</table>\n",
       "<p>1173 rows × 3 columns</p>\n",
       "</div>"
      ],
      "text/plain": [
       "                                             image_path  ...                   category\n",
       "0     /content/drive/My Drive/General Assembly/Data ...  ...              tittibihasana\n",
       "1     /content/drive/My Drive/General Assembly/Data ...  ...              tittibihasana\n",
       "2     /content/drive/My Drive/General Assembly/Data ...  ...  ardhabaddhapadmottanasana\n",
       "3     /content/drive/My Drive/General Assembly/Data ...  ...   parivrttasuryayantrasana\n",
       "4     /content/drive/My Drive/General Assembly/Data ...  ...                vyaghrasana\n",
       "...                                                 ...  ...                        ...\n",
       "1168  /content/drive/My Drive/General Assembly/Data ...  ...  ardhabaddhapadmottanasana\n",
       "1169  /content/drive/My Drive/General Assembly/Data ...  ...               natarajasana\n",
       "1170  /content/drive/My Drive/General Assembly/Data ...  ...                vyaghrasana\n",
       "1171  /content/drive/My Drive/General Assembly/Data ...  ...              tittibihasana\n",
       "1172  /content/drive/My Drive/General Assembly/Data ...  ...             vrishchikasana\n",
       "\n",
       "[1173 rows x 3 columns]"
      ]
     },
     "execution_count": 34,
     "metadata": {
      "tags": []
     },
     "output_type": "execute_result"
    }
   ],
   "source": [
    "test.reset_index(inplace = True,drop=True)\n",
    "test"
   ]
  },
  {
   "cell_type": "code",
   "execution_count": 0,
   "metadata": {
    "colab": {},
    "colab_type": "code",
    "id": "DJawn8b9gVEP"
   },
   "outputs": [],
   "source": [
    "combine_test = pd.concat([test,testing_df], axis = 1)"
   ]
  },
  {
   "cell_type": "code",
   "execution_count": 36,
   "metadata": {
    "colab": {
     "base_uri": "https://localhost:8080/",
     "height": 391
    },
    "colab_type": "code",
    "executionInfo": {
     "elapsed": 696,
     "status": "ok",
     "timestamp": 1574231470819,
     "user": {
      "displayName": "ryan chua",
      "photoUrl": "",
      "userId": "04187144810915160296"
     },
     "user_tz": -480
    },
    "id": "iuY4tKvPgdar",
    "outputId": "50c30903-9db9-4d57-e028-a8374347cd39"
   },
   "outputs": [
    {
     "data": {
      "text/html": [
       "<div>\n",
       "<style scoped>\n",
       "    .dataframe tbody tr th:only-of-type {\n",
       "        vertical-align: middle;\n",
       "    }\n",
       "\n",
       "    .dataframe tbody tr th {\n",
       "        vertical-align: top;\n",
       "    }\n",
       "\n",
       "    .dataframe thead th {\n",
       "        text-align: right;\n",
       "    }\n",
       "</style>\n",
       "<table border=\"1\" class=\"dataframe\">\n",
       "  <thead>\n",
       "    <tr style=\"text-align: right;\">\n",
       "      <th></th>\n",
       "      <th>image_path</th>\n",
       "      <th>image_name</th>\n",
       "      <th>category</th>\n",
       "      <th>true_label</th>\n",
       "      <th>pred_label</th>\n",
       "      <th>result</th>\n",
       "    </tr>\n",
       "  </thead>\n",
       "  <tbody>\n",
       "    <tr>\n",
       "      <th>0</th>\n",
       "      <td>/content/drive/My Drive/General Assembly/Data ...</td>\n",
       "      <td>tittibhasana_35.jpg</td>\n",
       "      <td>tittibihasana</td>\n",
       "      <td>7</td>\n",
       "      <td>4</td>\n",
       "      <td>0</td>\n",
       "    </tr>\n",
       "    <tr>\n",
       "      <th>1</th>\n",
       "      <td>/content/drive/My Drive/General Assembly/Data ...</td>\n",
       "      <td>tittibhasana_514.jpg</td>\n",
       "      <td>tittibihasana</td>\n",
       "      <td>7</td>\n",
       "      <td>4</td>\n",
       "      <td>0</td>\n",
       "    </tr>\n",
       "    <tr>\n",
       "      <th>2</th>\n",
       "      <td>/content/drive/My Drive/General Assembly/Data ...</td>\n",
       "      <td>ardhabaddhapadmottanasana_706.jpg</td>\n",
       "      <td>ardhabaddhapadmottanasana</td>\n",
       "      <td>0</td>\n",
       "      <td>0</td>\n",
       "      <td>1</td>\n",
       "    </tr>\n",
       "    <tr>\n",
       "      <th>3</th>\n",
       "      <td>/content/drive/My Drive/General Assembly/Data ...</td>\n",
       "      <td>parivrttasuryayantrasana_651.jpg</td>\n",
       "      <td>parivrttasuryayantrasana</td>\n",
       "      <td>4</td>\n",
       "      <td>4</td>\n",
       "      <td>1</td>\n",
       "    </tr>\n",
       "    <tr>\n",
       "      <th>4</th>\n",
       "      <td>/content/drive/My Drive/General Assembly/Data ...</td>\n",
       "      <td>vyaghrasana_72.jpg</td>\n",
       "      <td>vyaghrasana</td>\n",
       "      <td>9</td>\n",
       "      <td>4</td>\n",
       "      <td>0</td>\n",
       "    </tr>\n",
       "    <tr>\n",
       "      <th>...</th>\n",
       "      <td>...</td>\n",
       "      <td>...</td>\n",
       "      <td>...</td>\n",
       "      <td>...</td>\n",
       "      <td>...</td>\n",
       "      <td>...</td>\n",
       "    </tr>\n",
       "    <tr>\n",
       "      <th>1168</th>\n",
       "      <td>/content/drive/My Drive/General Assembly/Data ...</td>\n",
       "      <td>ardhabaddhapadmottanasana_433.jpg</td>\n",
       "      <td>ardhabaddhapadmottanasana</td>\n",
       "      <td>0</td>\n",
       "      <td>0</td>\n",
       "      <td>1</td>\n",
       "    </tr>\n",
       "    <tr>\n",
       "      <th>1169</th>\n",
       "      <td>/content/drive/My Drive/General Assembly/Data ...</td>\n",
       "      <td>natarajasana_906.jpg</td>\n",
       "      <td>natarajasana</td>\n",
       "      <td>2</td>\n",
       "      <td>2</td>\n",
       "      <td>1</td>\n",
       "    </tr>\n",
       "    <tr>\n",
       "      <th>1170</th>\n",
       "      <td>/content/drive/My Drive/General Assembly/Data ...</td>\n",
       "      <td>vyaghrasana_263.jpg</td>\n",
       "      <td>vyaghrasana</td>\n",
       "      <td>9</td>\n",
       "      <td>4</td>\n",
       "      <td>0</td>\n",
       "    </tr>\n",
       "    <tr>\n",
       "      <th>1171</th>\n",
       "      <td>/content/drive/My Drive/General Assembly/Data ...</td>\n",
       "      <td>tittibhasana_74.jpg</td>\n",
       "      <td>tittibihasana</td>\n",
       "      <td>7</td>\n",
       "      <td>4</td>\n",
       "      <td>0</td>\n",
       "    </tr>\n",
       "    <tr>\n",
       "      <th>1172</th>\n",
       "      <td>/content/drive/My Drive/General Assembly/Data ...</td>\n",
       "      <td>vrishchikasana_766.jpg</td>\n",
       "      <td>vrishchikasana</td>\n",
       "      <td>8</td>\n",
       "      <td>4</td>\n",
       "      <td>0</td>\n",
       "    </tr>\n",
       "  </tbody>\n",
       "</table>\n",
       "<p>1173 rows × 6 columns</p>\n",
       "</div>"
      ],
      "text/plain": [
       "                                             image_path  ... result\n",
       "0     /content/drive/My Drive/General Assembly/Data ...  ...      0\n",
       "1     /content/drive/My Drive/General Assembly/Data ...  ...      0\n",
       "2     /content/drive/My Drive/General Assembly/Data ...  ...      1\n",
       "3     /content/drive/My Drive/General Assembly/Data ...  ...      1\n",
       "4     /content/drive/My Drive/General Assembly/Data ...  ...      0\n",
       "...                                                 ...  ...    ...\n",
       "1168  /content/drive/My Drive/General Assembly/Data ...  ...      1\n",
       "1169  /content/drive/My Drive/General Assembly/Data ...  ...      1\n",
       "1170  /content/drive/My Drive/General Assembly/Data ...  ...      0\n",
       "1171  /content/drive/My Drive/General Assembly/Data ...  ...      0\n",
       "1172  /content/drive/My Drive/General Assembly/Data ...  ...      0\n",
       "\n",
       "[1173 rows x 6 columns]"
      ]
     },
     "execution_count": 36,
     "metadata": {
      "tags": []
     },
     "output_type": "execute_result"
    }
   ],
   "source": [
    "combine_test"
   ]
  },
  {
   "cell_type": "code",
   "execution_count": 0,
   "metadata": {
    "colab": {},
    "colab_type": "code",
    "id": "Nbnf_Pj0ge_K"
   },
   "outputs": [],
   "source": [
    "combine_test.to_csv(drive_path +'NasNetmobile_test_df.csv')"
   ]
  },
  {
   "cell_type": "code",
   "execution_count": 39,
   "metadata": {
    "colab": {
     "base_uri": "https://localhost:8080/",
     "height": 33
    },
    "colab_type": "code",
    "executionInfo": {
     "elapsed": 871,
     "status": "ok",
     "timestamp": 1574234930270,
     "user": {
      "displayName": "ryan chua",
      "photoUrl": "",
      "userId": "04187144810915160296"
     },
     "user_tz": -480
    },
    "id": "btY3EXWSgnJz",
    "outputId": "3f8a84b6-966e-4f1a-a5b9-a3d9525585b4"
   },
   "outputs": [
    {
     "data": {
      "text/plain": [
       "'/content/drive/My Drive/General Assembly/Data Science/Capstone/6 image classes/'"
      ]
     },
     "execution_count": 39,
     "metadata": {
      "tags": []
     },
     "output_type": "execute_result"
    }
   ],
   "source": [
    "drive_path"
   ]
  },
  {
   "cell_type": "code",
   "execution_count": 0,
   "metadata": {
    "colab": {},
    "colab_type": "code",
    "id": "zXfU39zftrde"
   },
   "outputs": [],
   "source": []
  }
 ],
 "metadata": {
  "accelerator": "GPU",
  "colab": {
   "collapsed_sections": [],
   "name": "Nasnet-mobile.ipynb",
   "provenance": []
  },
  "kernelspec": {
   "display_name": "Python 3",
   "language": "python",
   "name": "python3"
  },
  "language_info": {
   "codemirror_mode": {
    "name": "ipython",
    "version": 3
   },
   "file_extension": ".py",
   "mimetype": "text/x-python",
   "name": "python",
   "nbconvert_exporter": "python",
   "pygments_lexer": "ipython3",
   "version": "3.7.3"
  },
  "toc": {
   "base_numbering": 1,
   "nav_menu": {},
   "number_sections": true,
   "sideBar": true,
   "skip_h1_title": false,
   "title_cell": "Table of Contents",
   "title_sidebar": "Contents",
   "toc_cell": false,
   "toc_position": {},
   "toc_section_display": true,
   "toc_window_display": false
  }
 },
 "nbformat": 4,
 "nbformat_minor": 1
}
