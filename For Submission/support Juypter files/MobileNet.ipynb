{
 "cells": [
  {
   "cell_type": "markdown",
   "metadata": {
    "colab_type": "text",
    "id": "7nZXsryMIZMH"
   },
   "source": [
    "Import all relevant libraries"
   ]
  },
  {
   "cell_type": "code",
   "execution_count": 0,
   "metadata": {
    "colab": {
     "base_uri": "https://localhost:8080/",
     "height": 78
    },
    "colab_type": "code",
    "executionInfo": {
     "elapsed": 35540,
     "status": "ok",
     "timestamp": 1574533628577,
     "user": {
      "displayName": "ryan chua",
      "photoUrl": "",
      "userId": "04187144810915160296"
     },
     "user_tz": -480
    },
    "id": "iAQp3RpmIZMI",
    "outputId": "bd6fc9cd-654c-4be7-ebd2-69827c6becc6"
   },
   "outputs": [
    {
     "name": "stderr",
     "output_type": "stream",
     "text": [
      "Using TensorFlow backend.\n"
     ]
    },
    {
     "data": {
      "text/html": [
       "<p style=\"color: red;\">\n",
       "The default version of TensorFlow in Colab will soon switch to TensorFlow 2.x.<br>\n",
       "We recommend you <a href=\"https://www.tensorflow.org/guide/migrate\" target=\"_blank\">upgrade</a> now \n",
       "or ensure your notebook will continue to use TensorFlow 1.x via the <code>%tensorflow_version 1.x</code> magic:\n",
       "<a href=\"https://colab.research.google.com/notebooks/tensorflow_version.ipynb\" target=\"_blank\">more info</a>.</p>\n"
      ],
      "text/plain": [
       "<IPython.core.display.HTML object>"
      ]
     },
     "metadata": {
      "tags": []
     },
     "output_type": "display_data"
    }
   ],
   "source": [
    "import pandas as pd\n",
    "import numpy as np\n",
    "import cv2\n",
    "import math\n",
    "import matplotlib.pyplot as plt\n",
    "%matplotlib inline\n",
    "\n",
    "\n",
    "#directories\n",
    "import os\n",
    "from os import listdir\n",
    "from os.path import isfile, join\n",
    "\n",
    "import itertools\n",
    "from skimage import color\n",
    "from skimage import io\n",
    "from sklearn.model_selection import train_test_split\n",
    "from skimage import img_as_ubyte\n",
    "\\\n",
    "import skimage.transform\n",
    "from sklearn.metrics import confusion_matrix\n",
    "from keras.models import Model\n",
    "\n",
    "import keras\n",
    "from keras.models import Sequential\n",
    "from keras.models import model_from_json\n",
    "from keras.models import Sequential\n",
    "from keras.layers import Activation\n",
    "from keras.layers.core import Dense , Flatten\n",
    "from keras.optimizers import Adam\n",
    "from keras.metrics import categorical_crossentropy\n",
    "from keras.preprocessing.image import ImageDataGenerator\n",
    "from keras.layers.normalization import BatchNormalization\n",
    "from keras.layers.convolutional import *\n",
    "from keras.layers import GlobalAveragePooling2D\n",
    "from keras.callbacks import EarlyStopping\n",
    "from keras.layers import Conv2D ,Dropout\n",
    "# from keras.layers import \n",
    "\n",
    "# for saving model\n",
    "from pydrive.auth import GoogleAuth\n",
    "from pydrive.drive import GoogleDrive \n",
    "from google.colab import auth \n",
    "from oauth2client.client import GoogleCredentials\n",
    "auth.authenticate_user()\n",
    "gauth = GoogleAuth()\n",
    "gauth.credentials = GoogleCredentials.get_application_default()                       \n",
    "drive = GoogleDrive(gauth)"
   ]
  },
  {
   "cell_type": "code",
   "execution_count": 0,
   "metadata": {
    "colab": {},
    "colab_type": "code",
    "id": "9lYW4o1kIZMV"
   },
   "outputs": [],
   "source": [
    "classes = ['ardhabaddhapadmottanasana','ekapadabakasana','natarajasana',\n",
    "           'parivrttaardhachandrasana','parivrttasuryayantrasana','salambasirsasana',\n",
    "           'svargadvijasana','tittibihasana','vrishchikasana','vyaghrasana']"
   ]
  },
  {
   "cell_type": "markdown",
   "metadata": {
    "colab_type": "text",
    "id": "yfcpVYuTIZMY"
   },
   "source": [
    "Initiate batch import"
   ]
  },
  {
   "cell_type": "code",
   "execution_count": 0,
   "metadata": {
    "colab": {
     "base_uri": "https://localhost:8080/",
     "height": 119
    },
    "colab_type": "code",
    "executionInfo": {
     "elapsed": 53619,
     "status": "ok",
     "timestamp": 1574533650817,
     "user": {
      "displayName": "ryan chua",
      "photoUrl": "",
      "userId": "04187144810915160296"
     },
     "user_tz": -480
    },
    "id": "hAHFuwIWIlCK",
    "outputId": "4fa7e283-975f-45d1-c1ba-78be1be8cbe4"
   },
   "outputs": [
    {
     "name": "stdout",
     "output_type": "stream",
     "text": [
      "Go to this URL in a browser: https://accounts.google.com/o/oauth2/auth?client_id=947318989803-6bn6qk8qdgf4n4g3pfee6491hc0brc4i.apps.googleusercontent.com&redirect_uri=urn%3aietf%3awg%3aoauth%3a2.0%3aoob&response_type=code&scope=email%20https%3a%2f%2fwww.googleapis.com%2fauth%2fdocs.test%20https%3a%2f%2fwww.googleapis.com%2fauth%2fdrive%20https%3a%2f%2fwww.googleapis.com%2fauth%2fdrive.photos.readonly%20https%3a%2f%2fwww.googleapis.com%2fauth%2fpeopleapi.readonly\n",
      "\n",
      "Enter your authorization code:\n",
      "··········\n",
      "Mounted at /content/drive\n"
     ]
    }
   ],
   "source": [
    "from google.colab import drive\n",
    "drive.mount('/content/drive')"
   ]
  },
  {
   "cell_type": "markdown",
   "metadata": {
    "colab_type": "text",
    "id": "ejMnb3pohImK"
   },
   "source": []
  },
  {
   "cell_type": "code",
   "execution_count": 0,
   "metadata": {
    "colab": {},
    "colab_type": "code",
    "id": "djMenKYRIZMZ"
   },
   "outputs": [],
   "source": [
    "drive_path = '/content/drive/My Drive/General Assembly/Data Science/Capstone/6 image classes/'\n",
    "cat_1_folder  = drive_path + '500_ardhabaddhapadmottanasana/'\n",
    "cat_2_folder  = drive_path + '500_ekapadabakasana/'\n",
    "cat_3_folder  = drive_path + '500_natarajasana/'\n",
    "cat_4_folder  = drive_path + '500_parivrttaardhachandrasana/'\n",
    "cat_5_folder  = drive_path + '500_parivrttasuryayantrasana/'\n",
    "cat_6_folder  = drive_path + '500_salambasirsasana/'\n",
    "cat_7_folder  = drive_path + '500_svargadvijasana/'\n",
    "cat_8_folder  = drive_path + '500_tittibihasana/'\n",
    "cat_9_folder  = drive_path + '500_vrishchikasana/'\n",
    "cat_10_folder = drive_path + '500_vyaghrasana/'"
   ]
  },
  {
   "cell_type": "code",
   "execution_count": 0,
   "metadata": {
    "colab": {},
    "colab_type": "code",
    "id": "jwj5anFjIZMe"
   },
   "outputs": [],
   "source": [
    "folders_path = [cat_1_folder,cat_2_folder,cat_3_folder, \n",
    "                cat_4_folder, cat_5_folder, cat_6_folder, \n",
    "                cat_7_folder, cat_8_folder, cat_9_folder, cat_10_folder ]"
   ]
  },
  {
   "cell_type": "code",
   "execution_count": 0,
   "metadata": {
    "colab": {
     "base_uri": "https://localhost:8080/",
     "height": 181
    },
    "colab_type": "code",
    "executionInfo": {
     "elapsed": 17673,
     "status": "ok",
     "timestamp": 1574533671211,
     "user": {
      "displayName": "ryan chua",
      "photoUrl": "",
      "userId": "04187144810915160296"
     },
     "user_tz": -480
    },
    "id": "KmXY8qeAIZMg",
    "outputId": "90abfad7-6161-4368-c481-f3b30682da76"
   },
   "outputs": [
    {
     "name": "stdout",
     "output_type": "stream",
     "text": [
      "1 ,numer of images for ardhabaddhapadmottanasana : 575\n",
      "2 ,numer of images for ekapadabakasana : 570\n",
      "3 ,numer of images for natarajasana : 570\n",
      "4 ,numer of images for parivrttaardhachandrasana : 600\n",
      "5 ,numer of images for parivrttasuryayantrasana : 551\n",
      "6 ,numer of images for salambasirsasana : 591\n",
      "7 ,numer of images for svargadvijasana : 574\n",
      "8 ,numer of images for tittibihasana : 608\n",
      "9 ,numer of images for vrishchikasana : 665\n",
      "10 ,numer of images for vyaghrasana : 560\n"
     ]
    }
   ],
   "source": [
    "all_images =[]\n",
    "for i,path in enumerate(folders_path):\n",
    "  ls = []\n",
    "  for f in listdir(path):\n",
    "    if isfile(join(path, f)):\n",
    "      if 'DS' not in f:\n",
    "        if '._' not in f:\n",
    "          ls.append([path+f,f,classes[i]])\n",
    "    # ls = [[path+f,f,classes[i]] for f in listdir(path) if isfile(join(path, f)) if ('DS' or '._' ) not in f ]\n",
    "  print('{} ,numer of images for {} : {}'.format(i+1,classes[i],len(ls)))\n",
    "  all_images.extend(ls)\n"
   ]
  },
  {
   "cell_type": "code",
   "execution_count": 0,
   "metadata": {
    "colab": {
     "base_uri": "https://localhost:8080/",
     "height": 205
    },
    "colab_type": "code",
    "executionInfo": {
     "elapsed": 16586,
     "status": "ok",
     "timestamp": 1574533671213,
     "user": {
      "displayName": "ryan chua",
      "photoUrl": "",
      "userId": "04187144810915160296"
     },
     "user_tz": -480
    },
    "id": "tI-Vk6jeIZMm",
    "outputId": "4a2f4d58-bb46-47fc-b5ee-b63a806a5631"
   },
   "outputs": [
    {
     "name": "stdout",
     "output_type": "stream",
     "text": [
      "(5864, 3)\n"
     ]
    },
    {
     "data": {
      "text/html": [
       "<div>\n",
       "<style scoped>\n",
       "    .dataframe tbody tr th:only-of-type {\n",
       "        vertical-align: middle;\n",
       "    }\n",
       "\n",
       "    .dataframe tbody tr th {\n",
       "        vertical-align: top;\n",
       "    }\n",
       "\n",
       "    .dataframe thead th {\n",
       "        text-align: right;\n",
       "    }\n",
       "</style>\n",
       "<table border=\"1\" class=\"dataframe\">\n",
       "  <thead>\n",
       "    <tr style=\"text-align: right;\">\n",
       "      <th></th>\n",
       "      <th>image_path</th>\n",
       "      <th>image_name</th>\n",
       "      <th>category</th>\n",
       "    </tr>\n",
       "  </thead>\n",
       "  <tbody>\n",
       "    <tr>\n",
       "      <th>0</th>\n",
       "      <td>/content/drive/My Drive/General Assembly/Data ...</td>\n",
       "      <td>ardhabaddhapadmottanasana_101.jpg</td>\n",
       "      <td>ardhabaddhapadmottanasana</td>\n",
       "    </tr>\n",
       "    <tr>\n",
       "      <th>1</th>\n",
       "      <td>/content/drive/My Drive/General Assembly/Data ...</td>\n",
       "      <td>ardhabaddhapadmottanasana_1010.jpg</td>\n",
       "      <td>ardhabaddhapadmottanasana</td>\n",
       "    </tr>\n",
       "    <tr>\n",
       "      <th>2</th>\n",
       "      <td>/content/drive/My Drive/General Assembly/Data ...</td>\n",
       "      <td>ardhabaddhapadmottanasana_1001.jpg</td>\n",
       "      <td>ardhabaddhapadmottanasana</td>\n",
       "    </tr>\n",
       "    <tr>\n",
       "      <th>3</th>\n",
       "      <td>/content/drive/My Drive/General Assembly/Data ...</td>\n",
       "      <td>ardhabaddhapadmottanasana_10.jpg</td>\n",
       "      <td>ardhabaddhapadmottanasana</td>\n",
       "    </tr>\n",
       "    <tr>\n",
       "      <th>4</th>\n",
       "      <td>/content/drive/My Drive/General Assembly/Data ...</td>\n",
       "      <td>ardhabaddhapadmottanasana_1001_2.jpg</td>\n",
       "      <td>ardhabaddhapadmottanasana</td>\n",
       "    </tr>\n",
       "  </tbody>\n",
       "</table>\n",
       "</div>"
      ],
      "text/plain": [
       "                                          image_path  ...                   category\n",
       "0  /content/drive/My Drive/General Assembly/Data ...  ...  ardhabaddhapadmottanasana\n",
       "1  /content/drive/My Drive/General Assembly/Data ...  ...  ardhabaddhapadmottanasana\n",
       "2  /content/drive/My Drive/General Assembly/Data ...  ...  ardhabaddhapadmottanasana\n",
       "3  /content/drive/My Drive/General Assembly/Data ...  ...  ardhabaddhapadmottanasana\n",
       "4  /content/drive/My Drive/General Assembly/Data ...  ...  ardhabaddhapadmottanasana\n",
       "\n",
       "[5 rows x 3 columns]"
      ]
     },
     "execution_count": 7,
     "metadata": {
      "tags": []
     },
     "output_type": "execute_result"
    }
   ],
   "source": [
    "df =pd.DataFrame(all_images,columns=['image_path','image_name','category'])\n",
    "print(df.shape)\n",
    "df.head()"
   ]
  },
  {
   "cell_type": "code",
   "execution_count": 0,
   "metadata": {
    "colab": {},
    "colab_type": "code",
    "id": "v3BPb6HFIZMo"
   },
   "outputs": [],
   "source": [
    "from sklearn.model_selection import train_test_split\n",
    "train, tempt = train_test_split(df, train_size=0.6, shuffle = True, stratify = df.category)\n",
    "valid, test  = train_test_split(tempt, test_size=0.5, shuffle = True, stratify = tempt.category)"
   ]
  },
  {
   "cell_type": "code",
   "execution_count": 0,
   "metadata": {
    "colab": {
     "base_uri": "https://localhost:8080/",
     "height": 33
    },
    "colab_type": "code",
    "executionInfo": {
     "elapsed": 14360,
     "status": "ok",
     "timestamp": 1574533671216,
     "user": {
      "displayName": "ryan chua",
      "photoUrl": "",
      "userId": "04187144810915160296"
     },
     "user_tz": -480
    },
    "id": "DjcvrxZJIZM1",
    "outputId": "41a26ae3-35c5-4f0f-e181-f856880b71b1"
   },
   "outputs": [
    {
     "data": {
      "text/plain": [
       "(220, 147, 147)"
      ]
     },
     "execution_count": 9,
     "metadata": {
      "tags": []
     },
     "output_type": "execute_result"
    }
   ],
   "source": [
    "size = (224,224)\n",
    "train_batch_size = 16\n",
    "batch_size =8\n",
    "epoch = 500\n",
    "\n",
    "train_steps = math.ceil(train.shape[0]/train_batch_size)\n",
    "valid_steps = math.ceil(valid.shape[0]/batch_size)\n",
    "test_steps  = math.ceil(test.shape[0]/batch_size)\n",
    "train_steps,valid_steps,test_steps"
   ]
  },
  {
   "cell_type": "code",
   "execution_count": 0,
   "metadata": {
    "colab": {},
    "colab_type": "code",
    "id": "_ByB015rzWqk"
   },
   "outputs": [],
   "source": [
    "# we create two instances with the same arguments\n",
    "data_gen_args = dict(rescale=1./255,\n",
    "                     featurewise_center=True,\n",
    "                     featurewise_std_normalization=True,\n",
    "                     rotation_range=90,\n",
    "                     width_shift_range=0.1,\n",
    "                     height_shift_range=0.1,\n",
    "                     shear_range = 0.1,\n",
    "                     horizontal_flip = True,\n",
    "                     vertical_flip = True,\n",
    "                     zoom_range=0.2)\n",
    "dat_gen_args_test = dict(rescale=1./255)"
   ]
  },
  {
   "cell_type": "code",
   "execution_count": 0,
   "metadata": {
    "colab": {
     "base_uri": "https://localhost:8080/",
     "height": 66
    },
    "colab_type": "code",
    "executionInfo": {
     "elapsed": 14572,
     "status": "ok",
     "timestamp": 1574533672819,
     "user": {
      "displayName": "ryan chua",
      "photoUrl": "",
      "userId": "04187144810915160296"
     },
     "user_tz": -480
    },
    "id": "wmBCAzUMIZM4",
    "outputId": "5ade8967-b891-415b-daf0-f98f3ab053c6",
    "scrolled": false
   },
   "outputs": [
    {
     "name": "stdout",
     "output_type": "stream",
     "text": [
      "Found 3518 validated image filenames belonging to 10 classes.\n",
      "Found 1173 validated image filenames belonging to 10 classes.\n",
      "Found 1173 validated image filenames belonging to 10 classes.\n"
     ]
    }
   ],
   "source": [
    "train_generator = ImageDataGenerator(**data_gen_args).flow_from_dataframe(\n",
    "    dataframe     = train,\n",
    "    directory     = None,\n",
    "    x_col         = 'image_path',\n",
    "    y_col         = 'category',\n",
    "    target_size   = size,\n",
    "    color_mode    = 'rgb',\n",
    "    classes       = classes,\n",
    "    class_mode    = \"categorical\",\n",
    "    batch_size    = train_batch_size,\n",
    "    shuffle       = True,\n",
    "    seed          = 27,\n",
    "    save_format   = 'jpg',\n",
    "    interpolation = \"bicubic\", \n",
    "    validate_filenames = True)\n",
    "\n",
    "val_generator = ImageDataGenerator(**dat_gen_args_test).flow_from_dataframe(\n",
    "    dataframe     = valid,\n",
    "    directory     = None,\n",
    "    x_col         = 'image_path',\n",
    "    y_col         = 'category',\n",
    "    target_size   = size,\n",
    "    color_mode    = 'rgb',\n",
    "    classes       = classes,\n",
    "    class_mode    = \"categorical\",\n",
    "    batch_size    = batch_size,\n",
    "    shuffle       = True,\n",
    "    seed          = 27,\n",
    "    save_format   = 'jpg',\n",
    "    interpolation = \"bicubic\", \n",
    "    validate_filenames = True)\n",
    "\n",
    "test_generator = ImageDataGenerator(**dat_gen_args_test).flow_from_dataframe(\n",
    "    dataframe     = test,\n",
    "    directory     = None,\n",
    "    x_col         = 'image_path',\n",
    "    y_col         = 'category',\n",
    "    target_size   = size,\n",
    "    color_mode    = 'rgb',\n",
    "    classes       = classes,\n",
    "    class_mode    = \"categorical\",\n",
    "    batch_size    = batch_size,\n",
    "    shuffle       = False,\n",
    "    seed          = 27,\n",
    "    save_format   = 'jpg',\n",
    "    interpolation = \"bicubic\", \n",
    "    validate_filenames = True)\n"
   ]
  },
  {
   "cell_type": "markdown",
   "metadata": {
    "colab_type": "text",
    "id": "BORwsskFIZNi"
   },
   "source": [
    "\n",
    "### Use pretrained models"
   ]
  },
  {
   "cell_type": "code",
   "execution_count": 0,
   "metadata": {
    "colab": {},
    "colab_type": "code",
    "id": "j6WDwLFsUl6D"
   },
   "outputs": [],
   "source": [
    "def plot_confusion_matrix(y_true, y_pred,cm):\n",
    "    \n",
    "    np.set_printoptions(precision=2)\n",
    "\n",
    "    # Only use the labels that appear in the data\n",
    "    # classes = classes[unique_labels(y_true, y_pred)]\n",
    "\n",
    "    fig, ax = plt.subplots()\n",
    "    im = ax.imshow(cm, interpolation='nearest')\n",
    "    ax.figure.colorbar(im, ax=ax)\n",
    "    # We want to show all ticks...\n",
    "    ax.set(xticks=np.arange(cm.shape[1]),\n",
    "           yticks=np.arange(cm.shape[0]),\n",
    "           # ... and label them with the respective list entries\n",
    "           xticklabels=classes, yticklabels=classes,\n",
    "           ylabel='True label',\n",
    "           xlabel='Predicted label')\n",
    "\n",
    "    # Rotate the tick labels and set their alignment.\n",
    "    plt.setp(ax.get_xticklabels(), rotation=45, ha=\"right\",\n",
    "             rotation_mode=\"anchor\")\n",
    "\n",
    "    # Loop over data dimensions and create text annotations.\n",
    "    fmt = '.2f' \n",
    "    thresh = cm.max() / 2.\n",
    "    for i in range(cm.shape[0]):\n",
    "        for j in range(cm.shape[1]):\n",
    "            ax.text(j, i, format(cm[i, j], fmt),\n",
    "                    ha=\"center\", va=\"center\",\n",
    "                    color=\"white\" if cm[i, j] > thresh else \"black\")\n",
    "    fig.tight_layout()\n",
    "    plt.show()\n",
    "    return ax\n",
    "\n",
    "\n"
   ]
  },
  {
   "cell_type": "code",
   "execution_count": 0,
   "metadata": {
    "colab": {
     "base_uri": "https://localhost:8080/",
     "height": 1000
    },
    "colab_type": "code",
    "executionInfo": {
     "elapsed": 20626,
     "status": "ok",
     "timestamp": 1574533682532,
     "user": {
      "displayName": "ryan chua",
      "photoUrl": "",
      "userId": "04187144810915160296"
     },
     "user_tz": -480
    },
    "id": "9aN95mMRIZNp",
    "outputId": "2f5f7250-2a75-45a0-cf98-bec85180e4da"
   },
   "outputs": [
    {
     "name": "stdout",
     "output_type": "stream",
     "text": [
      "WARNING:tensorflow:From /usr/local/lib/python3.6/dist-packages/keras/backend/tensorflow_backend.py:66: The name tf.get_default_graph is deprecated. Please use tf.compat.v1.get_default_graph instead.\n",
      "\n",
      "WARNING:tensorflow:From /usr/local/lib/python3.6/dist-packages/keras/backend/tensorflow_backend.py:541: The name tf.placeholder is deprecated. Please use tf.compat.v1.placeholder instead.\n",
      "\n",
      "WARNING:tensorflow:From /usr/local/lib/python3.6/dist-packages/keras/backend/tensorflow_backend.py:4432: The name tf.random_uniform is deprecated. Please use tf.random.uniform instead.\n",
      "\n",
      "WARNING:tensorflow:From /usr/local/lib/python3.6/dist-packages/keras/backend/tensorflow_backend.py:190: The name tf.get_default_session is deprecated. Please use tf.compat.v1.get_default_session instead.\n",
      "\n",
      "WARNING:tensorflow:From /usr/local/lib/python3.6/dist-packages/keras/backend/tensorflow_backend.py:197: The name tf.ConfigProto is deprecated. Please use tf.compat.v1.ConfigProto instead.\n",
      "\n",
      "WARNING:tensorflow:From /usr/local/lib/python3.6/dist-packages/keras/backend/tensorflow_backend.py:203: The name tf.Session is deprecated. Please use tf.compat.v1.Session instead.\n",
      "\n",
      "WARNING:tensorflow:From /usr/local/lib/python3.6/dist-packages/keras/backend/tensorflow_backend.py:207: The name tf.global_variables is deprecated. Please use tf.compat.v1.global_variables instead.\n",
      "\n",
      "WARNING:tensorflow:From /usr/local/lib/python3.6/dist-packages/keras/backend/tensorflow_backend.py:216: The name tf.is_variable_initialized is deprecated. Please use tf.compat.v1.is_variable_initialized instead.\n",
      "\n",
      "WARNING:tensorflow:From /usr/local/lib/python3.6/dist-packages/keras/backend/tensorflow_backend.py:223: The name tf.variables_initializer is deprecated. Please use tf.compat.v1.variables_initializer instead.\n",
      "\n",
      "WARNING:tensorflow:From /usr/local/lib/python3.6/dist-packages/keras/backend/tensorflow_backend.py:2041: The name tf.nn.fused_batch_norm is deprecated. Please use tf.compat.v1.nn.fused_batch_norm instead.\n",
      "\n",
      "WARNING:tensorflow:From /usr/local/lib/python3.6/dist-packages/keras/backend/tensorflow_backend.py:148: The name tf.placeholder_with_default is deprecated. Please use tf.compat.v1.placeholder_with_default instead.\n",
      "\n",
      "Downloading data from https://github.com/fchollet/deep-learning-models/releases/download/v0.6/mobilenet_1_0_224_tf_no_top.h5\n",
      "17227776/17225924 [==============================] - 0s 0us/step\n",
      "Model: \"mobilenet_1.00_224\"\n",
      "_________________________________________________________________\n",
      "Layer (type)                 Output Shape              Param #   \n",
      "=================================================================\n",
      "input_1 (InputLayer)         (None, 224, 224, 3)       0         \n",
      "_________________________________________________________________\n",
      "conv1_pad (ZeroPadding2D)    (None, 225, 225, 3)       0         \n",
      "_________________________________________________________________\n",
      "conv1 (Conv2D)               (None, 112, 112, 32)      864       \n",
      "_________________________________________________________________\n",
      "conv1_bn (BatchNormalization (None, 112, 112, 32)      128       \n",
      "_________________________________________________________________\n",
      "conv1_relu (ReLU)            (None, 112, 112, 32)      0         \n",
      "_________________________________________________________________\n",
      "conv_dw_1 (DepthwiseConv2D)  (None, 112, 112, 32)      288       \n",
      "_________________________________________________________________\n",
      "conv_dw_1_bn (BatchNormaliza (None, 112, 112, 32)      128       \n",
      "_________________________________________________________________\n",
      "conv_dw_1_relu (ReLU)        (None, 112, 112, 32)      0         \n",
      "_________________________________________________________________\n",
      "conv_pw_1 (Conv2D)           (None, 112, 112, 64)      2048      \n",
      "_________________________________________________________________\n",
      "conv_pw_1_bn (BatchNormaliza (None, 112, 112, 64)      256       \n",
      "_________________________________________________________________\n",
      "conv_pw_1_relu (ReLU)        (None, 112, 112, 64)      0         \n",
      "_________________________________________________________________\n",
      "conv_pad_2 (ZeroPadding2D)   (None, 113, 113, 64)      0         \n",
      "_________________________________________________________________\n",
      "conv_dw_2 (DepthwiseConv2D)  (None, 56, 56, 64)        576       \n",
      "_________________________________________________________________\n",
      "conv_dw_2_bn (BatchNormaliza (None, 56, 56, 64)        256       \n",
      "_________________________________________________________________\n",
      "conv_dw_2_relu (ReLU)        (None, 56, 56, 64)        0         \n",
      "_________________________________________________________________\n",
      "conv_pw_2 (Conv2D)           (None, 56, 56, 128)       8192      \n",
      "_________________________________________________________________\n",
      "conv_pw_2_bn (BatchNormaliza (None, 56, 56, 128)       512       \n",
      "_________________________________________________________________\n",
      "conv_pw_2_relu (ReLU)        (None, 56, 56, 128)       0         \n",
      "_________________________________________________________________\n",
      "conv_dw_3 (DepthwiseConv2D)  (None, 56, 56, 128)       1152      \n",
      "_________________________________________________________________\n",
      "conv_dw_3_bn (BatchNormaliza (None, 56, 56, 128)       512       \n",
      "_________________________________________________________________\n",
      "conv_dw_3_relu (ReLU)        (None, 56, 56, 128)       0         \n",
      "_________________________________________________________________\n",
      "conv_pw_3 (Conv2D)           (None, 56, 56, 128)       16384     \n",
      "_________________________________________________________________\n",
      "conv_pw_3_bn (BatchNormaliza (None, 56, 56, 128)       512       \n",
      "_________________________________________________________________\n",
      "conv_pw_3_relu (ReLU)        (None, 56, 56, 128)       0         \n",
      "_________________________________________________________________\n",
      "conv_pad_4 (ZeroPadding2D)   (None, 57, 57, 128)       0         \n",
      "_________________________________________________________________\n",
      "conv_dw_4 (DepthwiseConv2D)  (None, 28, 28, 128)       1152      \n",
      "_________________________________________________________________\n",
      "conv_dw_4_bn (BatchNormaliza (None, 28, 28, 128)       512       \n",
      "_________________________________________________________________\n",
      "conv_dw_4_relu (ReLU)        (None, 28, 28, 128)       0         \n",
      "_________________________________________________________________\n",
      "conv_pw_4 (Conv2D)           (None, 28, 28, 256)       32768     \n",
      "_________________________________________________________________\n",
      "conv_pw_4_bn (BatchNormaliza (None, 28, 28, 256)       1024      \n",
      "_________________________________________________________________\n",
      "conv_pw_4_relu (ReLU)        (None, 28, 28, 256)       0         \n",
      "_________________________________________________________________\n",
      "conv_dw_5 (DepthwiseConv2D)  (None, 28, 28, 256)       2304      \n",
      "_________________________________________________________________\n",
      "conv_dw_5_bn (BatchNormaliza (None, 28, 28, 256)       1024      \n",
      "_________________________________________________________________\n",
      "conv_dw_5_relu (ReLU)        (None, 28, 28, 256)       0         \n",
      "_________________________________________________________________\n",
      "conv_pw_5 (Conv2D)           (None, 28, 28, 256)       65536     \n",
      "_________________________________________________________________\n",
      "conv_pw_5_bn (BatchNormaliza (None, 28, 28, 256)       1024      \n",
      "_________________________________________________________________\n",
      "conv_pw_5_relu (ReLU)        (None, 28, 28, 256)       0         \n",
      "_________________________________________________________________\n",
      "conv_pad_6 (ZeroPadding2D)   (None, 29, 29, 256)       0         \n",
      "_________________________________________________________________\n",
      "conv_dw_6 (DepthwiseConv2D)  (None, 14, 14, 256)       2304      \n",
      "_________________________________________________________________\n",
      "conv_dw_6_bn (BatchNormaliza (None, 14, 14, 256)       1024      \n",
      "_________________________________________________________________\n",
      "conv_dw_6_relu (ReLU)        (None, 14, 14, 256)       0         \n",
      "_________________________________________________________________\n",
      "conv_pw_6 (Conv2D)           (None, 14, 14, 512)       131072    \n",
      "_________________________________________________________________\n",
      "conv_pw_6_bn (BatchNormaliza (None, 14, 14, 512)       2048      \n",
      "_________________________________________________________________\n",
      "conv_pw_6_relu (ReLU)        (None, 14, 14, 512)       0         \n",
      "_________________________________________________________________\n",
      "conv_dw_7 (DepthwiseConv2D)  (None, 14, 14, 512)       4608      \n",
      "_________________________________________________________________\n",
      "conv_dw_7_bn (BatchNormaliza (None, 14, 14, 512)       2048      \n",
      "_________________________________________________________________\n",
      "conv_dw_7_relu (ReLU)        (None, 14, 14, 512)       0         \n",
      "_________________________________________________________________\n",
      "conv_pw_7 (Conv2D)           (None, 14, 14, 512)       262144    \n",
      "_________________________________________________________________\n",
      "conv_pw_7_bn (BatchNormaliza (None, 14, 14, 512)       2048      \n",
      "_________________________________________________________________\n",
      "conv_pw_7_relu (ReLU)        (None, 14, 14, 512)       0         \n",
      "_________________________________________________________________\n",
      "conv_dw_8 (DepthwiseConv2D)  (None, 14, 14, 512)       4608      \n",
      "_________________________________________________________________\n",
      "conv_dw_8_bn (BatchNormaliza (None, 14, 14, 512)       2048      \n",
      "_________________________________________________________________\n",
      "conv_dw_8_relu (ReLU)        (None, 14, 14, 512)       0         \n",
      "_________________________________________________________________\n",
      "conv_pw_8 (Conv2D)           (None, 14, 14, 512)       262144    \n",
      "_________________________________________________________________\n",
      "conv_pw_8_bn (BatchNormaliza (None, 14, 14, 512)       2048      \n",
      "_________________________________________________________________\n",
      "conv_pw_8_relu (ReLU)        (None, 14, 14, 512)       0         \n",
      "_________________________________________________________________\n",
      "conv_dw_9 (DepthwiseConv2D)  (None, 14, 14, 512)       4608      \n",
      "_________________________________________________________________\n",
      "conv_dw_9_bn (BatchNormaliza (None, 14, 14, 512)       2048      \n",
      "_________________________________________________________________\n",
      "conv_dw_9_relu (ReLU)        (None, 14, 14, 512)       0         \n",
      "_________________________________________________________________\n",
      "conv_pw_9 (Conv2D)           (None, 14, 14, 512)       262144    \n",
      "_________________________________________________________________\n",
      "conv_pw_9_bn (BatchNormaliza (None, 14, 14, 512)       2048      \n",
      "_________________________________________________________________\n",
      "conv_pw_9_relu (ReLU)        (None, 14, 14, 512)       0         \n",
      "_________________________________________________________________\n",
      "conv_dw_10 (DepthwiseConv2D) (None, 14, 14, 512)       4608      \n",
      "_________________________________________________________________\n",
      "conv_dw_10_bn (BatchNormaliz (None, 14, 14, 512)       2048      \n",
      "_________________________________________________________________\n",
      "conv_dw_10_relu (ReLU)       (None, 14, 14, 512)       0         \n",
      "_________________________________________________________________\n",
      "conv_pw_10 (Conv2D)          (None, 14, 14, 512)       262144    \n",
      "_________________________________________________________________\n",
      "conv_pw_10_bn (BatchNormaliz (None, 14, 14, 512)       2048      \n",
      "_________________________________________________________________\n",
      "conv_pw_10_relu (ReLU)       (None, 14, 14, 512)       0         \n",
      "_________________________________________________________________\n",
      "conv_dw_11 (DepthwiseConv2D) (None, 14, 14, 512)       4608      \n",
      "_________________________________________________________________\n",
      "conv_dw_11_bn (BatchNormaliz (None, 14, 14, 512)       2048      \n",
      "_________________________________________________________________\n",
      "conv_dw_11_relu (ReLU)       (None, 14, 14, 512)       0         \n",
      "_________________________________________________________________\n",
      "conv_pw_11 (Conv2D)          (None, 14, 14, 512)       262144    \n",
      "_________________________________________________________________\n",
      "conv_pw_11_bn (BatchNormaliz (None, 14, 14, 512)       2048      \n",
      "_________________________________________________________________\n",
      "conv_pw_11_relu (ReLU)       (None, 14, 14, 512)       0         \n",
      "_________________________________________________________________\n",
      "conv_pad_12 (ZeroPadding2D)  (None, 15, 15, 512)       0         \n",
      "_________________________________________________________________\n",
      "conv_dw_12 (DepthwiseConv2D) (None, 7, 7, 512)         4608      \n",
      "_________________________________________________________________\n",
      "conv_dw_12_bn (BatchNormaliz (None, 7, 7, 512)         2048      \n",
      "_________________________________________________________________\n",
      "conv_dw_12_relu (ReLU)       (None, 7, 7, 512)         0         \n",
      "_________________________________________________________________\n",
      "conv_pw_12 (Conv2D)          (None, 7, 7, 1024)        524288    \n",
      "_________________________________________________________________\n",
      "conv_pw_12_bn (BatchNormaliz (None, 7, 7, 1024)        4096      \n",
      "_________________________________________________________________\n",
      "conv_pw_12_relu (ReLU)       (None, 7, 7, 1024)        0         \n",
      "_________________________________________________________________\n",
      "conv_dw_13 (DepthwiseConv2D) (None, 7, 7, 1024)        9216      \n",
      "_________________________________________________________________\n",
      "conv_dw_13_bn (BatchNormaliz (None, 7, 7, 1024)        4096      \n",
      "_________________________________________________________________\n",
      "conv_dw_13_relu (ReLU)       (None, 7, 7, 1024)        0         \n",
      "_________________________________________________________________\n",
      "conv_pw_13 (Conv2D)          (None, 7, 7, 1024)        1048576   \n",
      "_________________________________________________________________\n",
      "conv_pw_13_bn (BatchNormaliz (None, 7, 7, 1024)        4096      \n",
      "_________________________________________________________________\n",
      "conv_pw_13_relu (ReLU)       (None, 7, 7, 1024)        0         \n",
      "_________________________________________________________________\n",
      "global_average_pooling2d_1 ( (None, 1024)              0         \n",
      "=================================================================\n",
      "Total params: 3,228,864\n",
      "Trainable params: 3,206,976\n",
      "Non-trainable params: 21,888\n",
      "_________________________________________________________________\n"
     ]
    }
   ],
   "source": [
    "mobile_net_model = keras.applications.mobilenet.MobileNet(input_shape=(224,224,3), alpha=1.0, depth_multiplier=1,\n",
    "                                                          dropout=1e-3, include_top=False, \n",
    "                                                          weights='imagenet', input_tensor=None, \n",
    "                                                          pooling='avg', classes=10)\n",
    "mobile_net_model.summary()"
   ]
  },
  {
   "cell_type": "code",
   "execution_count": 0,
   "metadata": {
    "colab": {
     "base_uri": "https://localhost:8080/",
     "height": 1000
    },
    "colab_type": "code",
    "executionInfo": {
     "elapsed": 11147370,
     "status": "ok",
     "timestamp": 1574548464544,
     "user": {
      "displayName": "ryan chua",
      "photoUrl": "",
      "userId": "04187144810915160296"
     },
     "user_tz": -480
    },
    "id": "YDuM-epcKdxF",
    "outputId": "a07f4499-ccd4-48e6-9bf5-4989ccfa0ec6"
   },
   "outputs": [
    {
     "name": "stdout",
     "output_type": "stream",
     "text": [
      "WARNING:tensorflow:From /usr/local/lib/python3.6/dist-packages/keras/optimizers.py:793: The name tf.train.Optimizer is deprecated. Please use tf.compat.v1.train.Optimizer instead.\n",
      "\n",
      "WARNING:tensorflow:From /usr/local/lib/python3.6/dist-packages/keras/backend/tensorflow_backend.py:3576: The name tf.log is deprecated. Please use tf.math.log instead.\n",
      "\n",
      "WARNING:tensorflow:From /usr/local/lib/python3.6/dist-packages/tensorflow_core/python/ops/math_grad.py:1424: where (from tensorflow.python.ops.array_ops) is deprecated and will be removed in a future version.\n",
      "Instructions for updating:\n",
      "Use tf.where in 2.0, which has the same broadcast rule as np.where\n",
      "WARNING:tensorflow:From /usr/local/lib/python3.6/dist-packages/keras/backend/tensorflow_backend.py:1033: The name tf.assign_add is deprecated. Please use tf.compat.v1.assign_add instead.\n",
      "\n",
      "WARNING:tensorflow:From /usr/local/lib/python3.6/dist-packages/keras/backend/tensorflow_backend.py:1020: The name tf.assign is deprecated. Please use tf.compat.v1.assign instead.\n",
      "\n",
      "Epoch 1/500\n"
     ]
    },
    {
     "name": "stderr",
     "output_type": "stream",
     "text": [
      "/usr/local/lib/python3.6/dist-packages/keras_preprocessing/image/image_data_generator.py:716: UserWarning: This ImageDataGenerator specifies `featurewise_center`, but it hasn't been fit on any training data. Fit it first by calling `.fit(numpy_data)`.\n",
      "  warnings.warn('This ImageDataGenerator specifies '\n",
      "/usr/local/lib/python3.6/dist-packages/keras_preprocessing/image/image_data_generator.py:724: UserWarning: This ImageDataGenerator specifies `featurewise_std_normalization`, but it hasn't been fit on any training data. Fit it first by calling `.fit(numpy_data)`.\n",
      "  warnings.warn('This ImageDataGenerator specifies '\n"
     ]
    },
    {
     "name": "stdout",
     "output_type": "stream",
     "text": [
      "220/220 [==============================] - 1898s 9s/step - loss: 2.1570 - acc: 0.1972 - val_loss: 1.9879 - val_acc: 0.2728\n",
      "Epoch 2/500\n",
      "220/220 [==============================] - 117s 533ms/step - loss: 1.9008 - acc: 0.2979 - val_loss: 1.7683 - val_acc: 0.3282\n",
      "Epoch 3/500\n",
      "220/220 [==============================] - 118s 537ms/step - loss: 1.6845 - acc: 0.3799 - val_loss: 1.7659 - val_acc: 0.3905\n",
      "Epoch 4/500\n",
      "220/220 [==============================] - 118s 535ms/step - loss: 1.5289 - acc: 0.4553 - val_loss: 2.0463 - val_acc: 0.3700\n",
      "Epoch 5/500\n",
      "220/220 [==============================] - 118s 537ms/step - loss: 1.3054 - acc: 0.5606 - val_loss: 1.4233 - val_acc: 0.5175\n",
      "Epoch 6/500\n",
      "220/220 [==============================] - 118s 536ms/step - loss: 1.1231 - acc: 0.6391 - val_loss: 1.1715 - val_acc: 0.6206\n",
      "Epoch 7/500\n",
      "220/220 [==============================] - 118s 536ms/step - loss: 0.9688 - acc: 0.6957 - val_loss: 0.8741 - val_acc: 0.7110\n",
      "Epoch 8/500\n",
      "220/220 [==============================] - 118s 536ms/step - loss: 0.8445 - acc: 0.7322 - val_loss: 0.7830 - val_acc: 0.7775\n",
      "Epoch 9/500\n",
      "220/220 [==============================] - 117s 533ms/step - loss: 0.7672 - acc: 0.7615 - val_loss: 0.6608 - val_acc: 0.8150\n",
      "Epoch 10/500\n",
      "220/220 [==============================] - 118s 538ms/step - loss: 0.6913 - acc: 0.7793 - val_loss: 0.9163 - val_acc: 0.7221\n",
      "Epoch 11/500\n",
      "220/220 [==============================] - 117s 534ms/step - loss: 0.6578 - acc: 0.7962 - val_loss: 0.5132 - val_acc: 0.8363\n",
      "Epoch 12/500\n",
      "220/220 [==============================] - 117s 534ms/step - loss: 0.5950 - acc: 0.8220 - val_loss: 0.6040 - val_acc: 0.8142\n",
      "Epoch 13/500\n",
      "220/220 [==============================] - 117s 534ms/step - loss: 0.5558 - acc: 0.8224 - val_loss: 0.5489 - val_acc: 0.8142\n",
      "Epoch 14/500\n",
      "220/220 [==============================] - 117s 533ms/step - loss: 0.5191 - acc: 0.8403 - val_loss: 0.4870 - val_acc: 0.8542\n",
      "Epoch 15/500\n",
      "220/220 [==============================] - 117s 533ms/step - loss: 0.4839 - acc: 0.8480 - val_loss: 0.6408 - val_acc: 0.8065\n",
      "Epoch 16/500\n",
      "220/220 [==============================] - 118s 535ms/step - loss: 0.4653 - acc: 0.8681 - val_loss: 0.5772 - val_acc: 0.8201\n",
      "Epoch 17/500\n",
      "220/220 [==============================] - 117s 534ms/step - loss: 0.4221 - acc: 0.8750 - val_loss: 0.4672 - val_acc: 0.8713\n",
      "Epoch 18/500\n",
      "220/220 [==============================] - 119s 539ms/step - loss: 0.3784 - acc: 0.8866 - val_loss: 0.3445 - val_acc: 0.9122\n",
      "Epoch 19/500\n",
      "220/220 [==============================] - 118s 537ms/step - loss: 0.4025 - acc: 0.8841 - val_loss: 0.3989 - val_acc: 0.8798\n",
      "Epoch 20/500\n",
      "220/220 [==============================] - 118s 537ms/step - loss: 0.3767 - acc: 0.8803 - val_loss: 0.4196 - val_acc: 0.8679\n",
      "Epoch 21/500\n",
      "220/220 [==============================] - 118s 535ms/step - loss: 0.3780 - acc: 0.8932 - val_loss: 0.4438 - val_acc: 0.8747\n",
      "Epoch 22/500\n",
      "220/220 [==============================] - 118s 536ms/step - loss: 0.3592 - acc: 0.8920 - val_loss: 0.3531 - val_acc: 0.9045\n",
      "Epoch 23/500\n",
      "220/220 [==============================] - 118s 537ms/step - loss: 0.3619 - acc: 0.8931 - val_loss: 0.3630 - val_acc: 0.8951\n",
      "Epoch 24/500\n",
      "220/220 [==============================] - 118s 538ms/step - loss: 0.3605 - acc: 0.8909 - val_loss: 0.3566 - val_acc: 0.9011\n",
      "Epoch 25/500\n",
      "220/220 [==============================] - 118s 536ms/step - loss: 0.3350 - acc: 0.8996 - val_loss: 0.3637 - val_acc: 0.8951\n",
      "Epoch 26/500\n",
      "220/220 [==============================] - 117s 533ms/step - loss: 0.3144 - acc: 0.9073 - val_loss: 0.2981 - val_acc: 0.9071\n",
      "Epoch 27/500\n",
      "220/220 [==============================] - 113s 513ms/step - loss: 0.3088 - acc: 0.9093 - val_loss: 0.3260 - val_acc: 0.9028\n",
      "Epoch 28/500\n",
      "220/220 [==============================] - 111s 503ms/step - loss: 0.2937 - acc: 0.9119 - val_loss: 0.3717 - val_acc: 0.8943\n",
      "Epoch 29/500\n",
      "220/220 [==============================] - 110s 502ms/step - loss: 0.2715 - acc: 0.9221 - val_loss: 0.3434 - val_acc: 0.9122\n",
      "Epoch 30/500\n",
      "220/220 [==============================] - 110s 500ms/step - loss: 0.2911 - acc: 0.9147 - val_loss: 0.3282 - val_acc: 0.9079\n",
      "Epoch 31/500\n",
      "220/220 [==============================] - 110s 500ms/step - loss: 0.2802 - acc: 0.9170 - val_loss: 0.4568 - val_acc: 0.8772\n",
      "Epoch 32/500\n",
      "220/220 [==============================] - 109s 496ms/step - loss: 0.2702 - acc: 0.9238 - val_loss: 0.3277 - val_acc: 0.9011\n",
      "Epoch 33/500\n",
      "220/220 [==============================] - 110s 500ms/step - loss: 0.2779 - acc: 0.9190 - val_loss: 0.4150 - val_acc: 0.8789\n",
      "Epoch 34/500\n",
      "220/220 [==============================] - 114s 518ms/step - loss: 0.2517 - acc: 0.9235 - val_loss: 0.4546 - val_acc: 0.8772\n",
      "Epoch 35/500\n",
      "220/220 [==============================] - 119s 542ms/step - loss: 0.2340 - acc: 0.9264 - val_loss: 0.3344 - val_acc: 0.9190\n",
      "Epoch 36/500\n",
      "220/220 [==============================] - 115s 522ms/step - loss: 0.2530 - acc: 0.9230 - val_loss: 0.2657 - val_acc: 0.9327\n",
      "Epoch 37/500\n",
      "220/220 [==============================] - 113s 512ms/step - loss: 0.2573 - acc: 0.9235 - val_loss: 0.2231 - val_acc: 0.9352\n",
      "Epoch 38/500\n",
      "220/220 [==============================] - 111s 506ms/step - loss: 0.2065 - acc: 0.9423 - val_loss: 0.3050 - val_acc: 0.9284\n",
      "Epoch 39/500\n",
      "220/220 [==============================] - 112s 507ms/step - loss: 0.2117 - acc: 0.9332 - val_loss: 0.3846 - val_acc: 0.8986\n",
      "Epoch 40/500\n",
      "220/220 [==============================] - 112s 507ms/step - loss: 0.1933 - acc: 0.9420 - val_loss: 0.3587 - val_acc: 0.9096\n",
      "Epoch 41/500\n",
      "220/220 [==============================] - 112s 507ms/step - loss: 0.2364 - acc: 0.9284 - val_loss: 0.3380 - val_acc: 0.9071\n",
      "Epoch 42/500\n",
      "220/220 [==============================] - 111s 507ms/step - loss: 0.2140 - acc: 0.9326 - val_loss: 0.2697 - val_acc: 0.9258\n",
      "Epoch 43/500\n",
      "220/220 [==============================] - 111s 506ms/step - loss: 0.2125 - acc: 0.9329 - val_loss: 0.2734 - val_acc: 0.9199\n",
      "Epoch 44/500\n",
      "220/220 [==============================] - 111s 506ms/step - loss: 0.1969 - acc: 0.9406 - val_loss: 0.3312 - val_acc: 0.9173\n",
      "Epoch 45/500\n",
      "220/220 [==============================] - 112s 508ms/step - loss: 0.1944 - acc: 0.9403 - val_loss: 0.2597 - val_acc: 0.9267\n",
      "Epoch 46/500\n",
      "220/220 [==============================] - 111s 506ms/step - loss: 0.2110 - acc: 0.9363 - val_loss: 0.3661 - val_acc: 0.9071\n",
      "Epoch 47/500\n",
      "220/220 [==============================] - 112s 509ms/step - loss: 0.1912 - acc: 0.9403 - val_loss: 0.2460 - val_acc: 0.9361\n",
      "Epoch 48/500\n",
      "220/220 [==============================] - 116s 527ms/step - loss: 0.1834 - acc: 0.9429 - val_loss: 0.2470 - val_acc: 0.9352\n",
      "Epoch 49/500\n",
      "220/220 [==============================] - 121s 552ms/step - loss: 0.2006 - acc: 0.9397 - val_loss: 0.3224 - val_acc: 0.9113\n",
      "Epoch 50/500\n",
      "220/220 [==============================] - 112s 509ms/step - loss: 0.1932 - acc: 0.9440 - val_loss: 0.3118 - val_acc: 0.9173\n",
      "Epoch 51/500\n",
      "220/220 [==============================] - 113s 512ms/step - loss: 0.1791 - acc: 0.9468 - val_loss: 0.2634 - val_acc: 0.9386\n",
      "Epoch 52/500\n",
      "220/220 [==============================] - 113s 512ms/step - loss: 0.1769 - acc: 0.9471 - val_loss: 0.3459 - val_acc: 0.9096\n",
      "Epoch 53/500\n",
      "220/220 [==============================] - 112s 507ms/step - loss: 0.1766 - acc: 0.9477 - val_loss: 0.2646 - val_acc: 0.9199\n",
      "Epoch 54/500\n",
      "220/220 [==============================] - 111s 507ms/step - loss: 0.1830 - acc: 0.9462 - val_loss: 0.2646 - val_acc: 0.9284\n",
      "Epoch 55/500\n",
      "220/220 [==============================] - 113s 513ms/step - loss: 0.1648 - acc: 0.9491 - val_loss: 0.2603 - val_acc: 0.9335\n",
      "Epoch 56/500\n",
      "220/220 [==============================] - 114s 516ms/step - loss: 0.1552 - acc: 0.9517 - val_loss: 0.2131 - val_acc: 0.9369\n",
      "Epoch 57/500\n",
      "220/220 [==============================] - 112s 507ms/step - loss: 0.1657 - acc: 0.9485 - val_loss: 0.2746 - val_acc: 0.9301\n",
      "Epoch 58/500\n",
      "220/220 [==============================] - 111s 503ms/step - loss: 0.1760 - acc: 0.9455 - val_loss: 0.2542 - val_acc: 0.9344\n",
      "Epoch 59/500\n",
      "220/220 [==============================] - 121s 548ms/step - loss: 0.1697 - acc: 0.9514 - val_loss: 0.2435 - val_acc: 0.9275\n",
      "Epoch 60/500\n",
      "220/220 [==============================] - 118s 537ms/step - loss: 0.1434 - acc: 0.9560 - val_loss: 0.2844 - val_acc: 0.9241\n",
      "Epoch 61/500\n",
      "220/220 [==============================] - 110s 500ms/step - loss: 0.1547 - acc: 0.9510 - val_loss: 0.2925 - val_acc: 0.9130\n",
      "Epoch 62/500\n",
      "220/220 [==============================] - 117s 530ms/step - loss: 0.1401 - acc: 0.9537 - val_loss: 0.2072 - val_acc: 0.9471\n",
      "Epoch 63/500\n",
      "220/220 [==============================] - 111s 503ms/step - loss: 0.1655 - acc: 0.9511 - val_loss: 0.2634 - val_acc: 0.9344\n",
      "Epoch 64/500\n",
      "220/220 [==============================] - 114s 517ms/step - loss: 0.1635 - acc: 0.9508 - val_loss: 0.4882 - val_acc: 0.8713\n",
      "Epoch 65/500\n",
      "220/220 [==============================] - 113s 511ms/step - loss: 0.1530 - acc: 0.9531 - val_loss: 0.2643 - val_acc: 0.9241\n",
      "Epoch 66/500\n",
      "220/220 [==============================] - 112s 507ms/step - loss: 0.1217 - acc: 0.9616 - val_loss: 0.2487 - val_acc: 0.9292\n",
      "Epoch 67/500\n",
      "220/220 [==============================] - 111s 506ms/step - loss: 0.1439 - acc: 0.9591 - val_loss: 0.2930 - val_acc: 0.9156\n",
      "Epoch 68/500\n",
      "220/220 [==============================] - 112s 511ms/step - loss: 0.1530 - acc: 0.9534 - val_loss: 0.2521 - val_acc: 0.9344\n",
      "Epoch 69/500\n",
      "220/220 [==============================] - 118s 537ms/step - loss: 0.1403 - acc: 0.9573 - val_loss: 0.2634 - val_acc: 0.9292\n",
      "Epoch 70/500\n",
      "220/220 [==============================] - 113s 512ms/step - loss: 0.1480 - acc: 0.9564 - val_loss: 0.2165 - val_acc: 0.9420\n",
      "Epoch 71/500\n",
      "220/220 [==============================] - 114s 517ms/step - loss: 0.1079 - acc: 0.9665 - val_loss: 0.2288 - val_acc: 0.9437\n",
      "Epoch 72/500\n",
      "220/220 [==============================] - 112s 509ms/step - loss: 0.1403 - acc: 0.9602 - val_loss: 0.2631 - val_acc: 0.9309\n",
      "Epoch 73/500\n",
      "220/220 [==============================] - 116s 528ms/step - loss: 0.1383 - acc: 0.9568 - val_loss: 0.2819 - val_acc: 0.9199\n",
      "Epoch 74/500\n",
      "220/220 [==============================] - 121s 551ms/step - loss: 0.1127 - acc: 0.9645 - val_loss: 0.2371 - val_acc: 0.9369\n",
      "Epoch 75/500\n",
      "220/220 [==============================] - 120s 546ms/step - loss: 0.1156 - acc: 0.9639 - val_loss: 0.2363 - val_acc: 0.9412\n",
      "Epoch 76/500\n",
      "220/220 [==============================] - 118s 538ms/step - loss: 0.1168 - acc: 0.9644 - val_loss: 0.2148 - val_acc: 0.9523\n",
      "Epoch 77/500\n",
      "220/220 [==============================] - 119s 543ms/step - loss: 0.1484 - acc: 0.9565 - val_loss: 0.2940 - val_acc: 0.9267\n",
      "Epoch 78/500\n",
      "220/220 [==============================] - 120s 543ms/step - loss: 0.1414 - acc: 0.9580 - val_loss: 0.1734 - val_acc: 0.9480\n",
      "Epoch 79/500\n",
      "220/220 [==============================] - 115s 521ms/step - loss: 0.1141 - acc: 0.9610 - val_loss: 0.2319 - val_acc: 0.9386\n",
      "Epoch 80/500\n",
      "220/220 [==============================] - 112s 509ms/step - loss: 0.1292 - acc: 0.9619 - val_loss: 0.2379 - val_acc: 0.9412\n",
      "Epoch 81/500\n",
      "220/220 [==============================] - 119s 540ms/step - loss: 0.1116 - acc: 0.9673 - val_loss: 0.3801 - val_acc: 0.9130\n",
      "Epoch 82/500\n",
      "220/220 [==============================] - 121s 552ms/step - loss: 0.0941 - acc: 0.9724 - val_loss: 0.2007 - val_acc: 0.9488\n",
      "Epoch 83/500\n",
      "220/220 [==============================] - 121s 549ms/step - loss: 0.0948 - acc: 0.9713 - val_loss: 0.2295 - val_acc: 0.9429\n",
      "Epoch 84/500\n",
      "220/220 [==============================] - 121s 552ms/step - loss: 0.1393 - acc: 0.9597 - val_loss: 0.2484 - val_acc: 0.9284\n",
      "Epoch 85/500\n",
      "220/220 [==============================] - 116s 528ms/step - loss: 0.1045 - acc: 0.9693 - val_loss: 0.1903 - val_acc: 0.9514\n",
      "Epoch 86/500\n",
      "220/220 [==============================] - 114s 517ms/step - loss: 0.1106 - acc: 0.9653 - val_loss: 0.1937 - val_acc: 0.9514\n",
      "Epoch 87/500\n",
      "220/220 [==============================] - 122s 556ms/step - loss: 0.1341 - acc: 0.9591 - val_loss: 0.2732 - val_acc: 0.9292\n",
      "Epoch 88/500\n",
      "220/220 [==============================] - 123s 559ms/step - loss: 0.1233 - acc: 0.9668 - val_loss: 0.2603 - val_acc: 0.9335\n",
      "Epoch 89/500\n",
      "220/220 [==============================] - 124s 562ms/step - loss: 0.1169 - acc: 0.9668 - val_loss: 0.2458 - val_acc: 0.9309\n",
      "Epoch 90/500\n",
      "220/220 [==============================] - 118s 536ms/step - loss: 0.1068 - acc: 0.9642 - val_loss: 0.2343 - val_acc: 0.9412\n",
      "Epoch 91/500\n",
      "220/220 [==============================] - 113s 513ms/step - loss: 0.0847 - acc: 0.9724 - val_loss: 0.2314 - val_acc: 0.9497\n",
      "Epoch 92/500\n",
      "220/220 [==============================] - 112s 509ms/step - loss: 0.1111 - acc: 0.9664 - val_loss: 0.2341 - val_acc: 0.9488\n",
      "Epoch 93/500\n",
      "220/220 [==============================] - 112s 510ms/step - loss: 0.0822 - acc: 0.9733 - val_loss: 0.2350 - val_acc: 0.9446\n",
      "Epoch 94/500\n",
      "220/220 [==============================] - 112s 510ms/step - loss: 0.1104 - acc: 0.9693 - val_loss: 0.2509 - val_acc: 0.9352\n",
      "Epoch 95/500\n",
      "220/220 [==============================] - 111s 506ms/step - loss: 0.1119 - acc: 0.9662 - val_loss: 0.2436 - val_acc: 0.9463\n",
      "Epoch 96/500\n",
      "220/220 [==============================] - 111s 503ms/step - loss: 0.0954 - acc: 0.9727 - val_loss: 0.2570 - val_acc: 0.9523\n",
      "Epoch 97/500\n",
      "220/220 [==============================] - 111s 504ms/step - loss: 0.1201 - acc: 0.9653 - val_loss: 0.2551 - val_acc: 0.9437\n",
      "Epoch 98/500\n",
      "220/220 [==============================] - 111s 504ms/step - loss: 0.1022 - acc: 0.9696 - val_loss: 0.3116 - val_acc: 0.9309\n",
      "Epoch 99/500\n",
      "220/220 [==============================] - 110s 500ms/step - loss: 0.1244 - acc: 0.9647 - val_loss: 0.2246 - val_acc: 0.9480\n",
      "Epoch 100/500\n",
      "220/220 [==============================] - 111s 504ms/step - loss: 0.1099 - acc: 0.9656 - val_loss: 0.2227 - val_acc: 0.9403\n",
      "Epoch 101/500\n",
      "220/220 [==============================] - 110s 501ms/step - loss: 0.0885 - acc: 0.9739 - val_loss: 0.1945 - val_acc: 0.9582\n",
      "Epoch 102/500\n",
      "220/220 [==============================] - 111s 505ms/step - loss: 0.1030 - acc: 0.9696 - val_loss: 0.1820 - val_acc: 0.9557\n",
      "Epoch 103/500\n",
      "220/220 [==============================] - 111s 504ms/step - loss: 0.1000 - acc: 0.9726 - val_loss: 0.2580 - val_acc: 0.9369\n",
      "Epoch 104/500\n",
      "220/220 [==============================] - 111s 504ms/step - loss: 0.0927 - acc: 0.9724 - val_loss: 0.1936 - val_acc: 0.9463\n",
      "Epoch 105/500\n",
      "220/220 [==============================] - 111s 506ms/step - loss: 0.0710 - acc: 0.9752 - val_loss: 0.2629 - val_acc: 0.9292\n",
      "Epoch 106/500\n",
      "220/220 [==============================] - 114s 520ms/step - loss: 0.1232 - acc: 0.9596 - val_loss: 0.2407 - val_acc: 0.9318\n",
      "Epoch 107/500\n",
      "220/220 [==============================] - 112s 509ms/step - loss: 0.0881 - acc: 0.9741 - val_loss: 0.1951 - val_acc: 0.9488\n",
      "Epoch 108/500\n",
      "220/220 [==============================] - 114s 520ms/step - loss: 0.0742 - acc: 0.9767 - val_loss: 0.2337 - val_acc: 0.9395\n",
      "Epoch 00108: early stopping\n",
      "147/147 [==============================] - 563s 4s/step\n",
      "1173 1173\n",
      "[[101   0   0   1   1   0   0   6   5   1]\n",
      " [  0 112   0   0   0   0   1   1   0   0]\n",
      " [  0   0 108   0   0   0   2   0   1   3]\n",
      " [  0   1   2 112   0   1   3   0   0   1]\n",
      " [  1   0   1   0 102   0   1   3   0   2]\n",
      " [  0   4   0   1   0 112   1   0   1   0]\n",
      " [  1   2   6   0   0   1 103   1   1   0]\n",
      " [  1   3   1   0   0   1   0 114   0   1]\n",
      " [  0   2   1   1   0   2   0   3 124   0]\n",
      " [  0   1   6   0   1   0   0   0   0 104]]\n"
     ]
    },
    {
     "data": {
      "image/png": "[encoded data removed]",
      "text/plain": [
       "<Figure size 432x288 with 2 Axes>"
      ]
     },
     "metadata": {
      "tags": []
     },
     "output_type": "display_data"
    }
   ],
   "source": [
    "model = mobile_net_model\n",
    "\n",
    "for layer in model.layers:\n",
    "    layer.traiable = False\n",
    "Dense_5 = Dense(1024,activation ='relu')(model.output)\n",
    "Dense_4 = Dense(512,activation ='relu')(Dense_5)\n",
    "Dense_3 = Dense(128,activation ='relu')(Dense_4)\n",
    "Dense_2 = Dense(32,activation ='relu')(Dense_3)\n",
    "output  = Dense(10,activation ='softmax')(Dense_2)\n",
    "\n",
    "\n",
    "model = Model(inputs=model.inputs, outputs=output)\n",
    "model.compile(Adam(lr = 0.001), loss = 'categorical_crossentropy',metrics =['accuracy'])\n",
    "\n",
    "es = EarlyStopping(monitor='val_loss', mode='min', verbose=1, patience=30)\n",
    "\n",
    "\n",
    "model.fit_generator(train_generator, steps_per_epoch = train_steps,\n",
    "                validation_data=val_generator, validation_steps=valid_steps,\n",
    "                epochs=epoch, verbose=1,callbacks=[es])\n",
    "model.evaluate_generator(val_generator,steps=valid_steps )\n",
    "\n",
    "#save model into directory\n",
    "model.save(drive_path +'MobileNet_model.h5')\n",
    "\n",
    "test_generator.reset() #need to reset\n",
    "predictions = model.predict_generator(test_generator,steps=test_steps,verbose=1)\n",
    "pred_label=[np.argmax(image_class) for image_class in predictions]\n",
    "labels = (train_generator.class_indices)\n",
    "labels = dict((v,k) for k,v in labels.items())\n",
    "pred_label_class = [labels[k] for k in pred_label]\n",
    "# pred_label_class\n",
    "\n",
    "test_generator.reset() #need to reset\n",
    "y_true = test_generator.classes\n",
    "\n",
    "print(len(y_true),len(pred_label))\n",
    "cm = confusion_matrix(y_true,pred_label)\n",
    "print(cm)\n",
    "plot_confusion_matrix(y_true, pred_label,cm)\n",
    "\n",
    "\n",
    "testing_df = pd.DataFrame(y_true,columns = ['true_label'])\n",
    "testing_df['pred_label'] = pred_label\n",
    "testing_df['result'] = ''\n",
    "for i, rows in enumerate(testing_df.result):\n",
    "    if testing_df.loc[i,'true_label'] == testing_df.loc[i,'pred_label']:\n",
    "        testing_df.loc[i,'result']= 1\n",
    "    elif testing_df.loc[i,'true_label'] != testing_df.loc[i,'pred_label']:\n",
    "        testing_df.loc[i,'result']= 0\n",
    "\n"
   ]
  },
  {
   "cell_type": "code",
   "execution_count": 0,
   "metadata": {
    "colab": {},
    "colab_type": "code",
    "id": "m0FDd3TRbFhm"
   },
   "outputs": [],
   "source": [
    "test.reset_index(inplace = True,drop=True)\n",
    "combine_test = pd.concat([test,testing_df], axis = 1)\n",
    "combine_test.to_csv(drive_path +'MobileNet_test_df.csv')"
   ]
  },
  {
   "cell_type": "code",
   "execution_count": 0,
   "metadata": {
    "colab": {},
    "colab_type": "code",
    "id": "5PXqYF-Qh568"
   },
   "outputs": [],
   "source": []
  }
 ],
 "metadata": {
  "accelerator": "GPU",
  "colab": {
   "collapsed_sections": [],
   "machine_shape": "hm",
   "name": "MobileNet.ipynb",
   "provenance": []
  },
  "kernelspec": {
   "display_name": "Python 3",
   "language": "python",
   "name": "python3"
  },
  "language_info": {
   "codemirror_mode": {
    "name": "ipython",
    "version": 3
   },
   "file_extension": ".py",
   "mimetype": "text/x-python",
   "name": "python",
   "nbconvert_exporter": "python",
   "pygments_lexer": "ipython3",
   "version": "3.7.3"
  },
  "toc": {
   "base_numbering": 1,
   "nav_menu": {},
   "number_sections": true,
   "sideBar": true,
   "skip_h1_title": false,
   "title_cell": "Table of Contents",
   "title_sidebar": "Contents",
   "toc_cell": false,
   "toc_position": {},
   "toc_section_display": true,
   "toc_window_display": false
  }
 },
 "nbformat": 4,
 "nbformat_minor": 1
}
